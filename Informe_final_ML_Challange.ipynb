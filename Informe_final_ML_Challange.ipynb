{
  "nbformat": 4,
  "nbformat_minor": 0,
  "metadata": {
    "accelerator": "GPU",
    "anaconda-cloud": {},
    "celltoolbar": "Slideshow",
    "colab": {
      "name": "Informe final - ML_Challange.ipynb",
      "provenance": [],
      "collapsed_sections": [],
      "include_colab_link": true
    },
    "interpreter": {
      "hash": "9dadaffd4c2fb3d4dae4dda453e73151444e52bea770d8f7f8c153f8e9d9dc9b"
    },
    "kernelspec": {
      "display_name": "Python 3 (ipykernel)",
      "language": "python",
      "name": "python3"
    },
    "language_info": {
      "codemirror_mode": {
        "name": "ipython",
        "version": 3
      },
      "file_extension": ".py",
      "mimetype": "text/x-python",
      "name": "python",
      "nbconvert_exporter": "python",
      "pygments_lexer": "ipython3",
      "version": "3.7.6"
    },
    "rise": {
      "scroll": true
    }
  },
  "cells": [
    {
      "cell_type": "markdown",
      "metadata": {
        "id": "view-in-github",
        "colab_type": "text"
      },
      "source": [
        "<a href=\"https://colab.research.google.com/github/NadiaFinzi/diplodatos-deep-learning/blob/main/Informe_final_ML_Challange.ipynb\" target=\"_parent\"><img src=\"https://colab.research.google.com/assets/colab-badge.svg\" alt=\"Open In Colab\"/></a>"
      ]
    },
    {
      "cell_type": "markdown",
      "metadata": {
        "id": "bIoVmS1Il1ho"
      },
      "source": [
        "**Diplomatura en Ciencia de Datos, Aprendizaje Automático y sus Aplicaciones**\n",
        "\n",
        "**Edición 2021**\n",
        "\n",
        "---\n",
        "## Deep Learning\n",
        "## **\"ML Challenge - Informe\".**\n",
        "\n",
        "### Integrantes\n",
        "\n",
        "- Tejerina, Maximiliano\n",
        "- Gutierrez, Denise\n",
        "- Finzi, Nadia\n",
        "- Gherra C., Estefanía Inés\n",
        "- Primo, Eugenia"
      ]
    },
    {
      "cell_type": "markdown",
      "metadata": {
        "id": "uMH02DRnmbzq"
      },
      "source": [
        "# Introducción\n",
        "El presente notebook muestra el trabajo realizado de forma secuencial. Sin embargo, se aclara que se procesaron los datos con Nabucodonosor (se deja el archivo en el repositorio con nombre [COMPLETAR]) y se hizo un seguimiento de las métricas obtenidas variando ciertos hiperparámetros utilizando la aplicación MLflow (se adjunta la carpeta con las pruebas correspondientes con nombre [COMPLETAR] en el mismo repositorio, y se muestran los 3 mejores resultados obtenidos al final de este documento)."
      ]
    },
    {
      "cell_type": "markdown",
      "metadata": {
        "id": "Cjh7EnWsmQ_u"
      },
      "source": [
        "# Bibliotecas"
      ]
    },
    {
      "cell_type": "code",
      "metadata": {
        "id": "QM2LDJl8sSHQ"
      },
      "source": [
        "import gzip\n",
        "import mlflow\n",
        "import json\n",
        "from sklearn.metrics import balanced_accuracy_score\n",
        "\n",
        "import numpy\n",
        "import pandas as pd\n",
        "import torch\n",
        "import torch.nn as nn\n",
        "import torch.nn.functional as F\n",
        "import torch.optim as optim\n",
        "#import torchvision\n",
        "#import torchvision.transforms as transforms\n",
        "import tempfile\n",
        "from gensim import corpora\n",
        "from gensim.parsing import preprocessing\n",
        "from sklearn.model_selection import train_test_split\n",
        "from sklearn.metrics import classification_report, average_precision_score\n",
        "from tqdm.notebook import tqdm, trange\n",
        "from torch.utils.data import Dataset, DataLoader"
      ],
      "execution_count": null,
      "outputs": []
    },
    {
      "cell_type": "code",
      "metadata": {
        "id": "TnQmnGgqTSMj",
        "outputId": "571f7fc4-614e-4f36-b5e9-dafe4d5e8e68"
      },
      "source": [
        "# Ensure version 4.X\n",
        "import gensim\n",
        "gensim.__version__"
      ],
      "execution_count": null,
      "outputs": [
        {
          "data": {
            "text/plain": [
              "'4.1.2'"
            ]
          },
          "execution_count": 2,
          "metadata": {},
          "output_type": "execute_result"
        }
      ]
    },
    {
      "cell_type": "markdown",
      "metadata": {
        "id": "ZUeEwoHBTSMo"
      },
      "source": [
        "## Definiciones para la prepraración de los datos"
      ]
    },
    {
      "cell_type": "code",
      "metadata": {
        "id": "ccXdRrjdTSMo"
      },
      "source": [
        "from torch.utils.data import IterableDataset\n",
        "\n",
        "\n",
        "class MeLiChallenge(IterableDataset):\n",
        "    def __init__(self, dataset_path, random_buffer_size=2048):\n",
        "        assert random_buffer_size > 0\n",
        "        self.dataset_path = dataset_path\n",
        "        self.random_buffer_size = random_buffer_size\n",
        "\n",
        "        with gzip.open(self.dataset_path, 'rt') as dataset:\n",
        "            item = json.loads(next(dataset).strip())\n",
        "            self.dataset_size = item['size']\n",
        "            self.labels_count = item['n_labels']\n",
        "\n",
        "    def __len__(self):\n",
        "        return self.dataset_size\n",
        "\n",
        "    def __iter__(self):\n",
        "        try:\n",
        "            with gzip.open(self.dataset_path, 'rt') as dataset:\n",
        "                shuffle_buffer = []\n",
        "\n",
        "                for line in dataset:\n",
        "                    item = json.loads(line.strip())\n",
        "                    item = {'data': item['data'], 'target': item['target']}\n",
        "\n",
        "                    if self.random_buffer_size == 1:\n",
        "                        # Let's be honest, this is not random!\n",
        "                        yield item\n",
        "                    else:\n",
        "                        shuffle_buffer.append(item)\n",
        "\n",
        "                        if len(shuffle_buffer) == self.random_buffer_size:\n",
        "                            # Fill the buffer and then suffle\n",
        "                            random.shuffle(shuffle_buffer)\n",
        "                            for item in shuffle_buffer:\n",
        "                                yield item\n",
        "                            shuffle_buffer = []\n",
        "\n",
        "                if len(shuffle_buffer) > 0:\n",
        "                    # We have some remainder...\n",
        "                    random.shuffle(shuffle_buffer)\n",
        "                    for item in shuffle_buffer:\n",
        "                        yield item\n",
        "\n",
        "        except GeneratorExit:\n",
        "            return\n",
        "\n",
        "\n",
        "class PadSequences:\n",
        "    def __init__(self, pad_value=0, max_length=None, min_length=1):\n",
        "        assert max_length is None or min_length <= max_length\n",
        "        self.pad_value = pad_value\n",
        "        self.max_length = max_length\n",
        "        self.min_length = min_length\n",
        "\n",
        "    def __call__(self, items):\n",
        "        data = [item[\"data\"] for item in items]\n",
        "        target = [item[\"target\"] for item in items]\n",
        "        seq_lengths = [len(d) for d in data]\n",
        "\n",
        "        if self.max_length:\n",
        "            max_length = self.max_length\n",
        "            seq_lengths = [min(self.max_length, l) for l in seq_lengths]\n",
        "        else:\n",
        "            max_length = max(self.min_length, max(seq_lengths))\n",
        "\n",
        "        data = [d[:l] + [self.pad_value] * (max_length - l)\n",
        "                for d, l in zip(data, seq_lengths)]\n",
        "\n",
        "        return {\n",
        "            \"data\": torch.LongTensor(data),\n",
        "            \"target\": torch.LongTensor(target)\n",
        "        }\n"
      ],
      "execution_count": null,
      "outputs": []
    },
    {
      "cell_type": "markdown",
      "metadata": {
        "id": "vqItx9M0i0qa"
      },
      "source": [
        "# Fundamentación y definición del modelo\n",
        "Inicialmente probamos con un modelo RNN. Sin embargo, obtuvimos métricas no satisfactorias. Luego probamos con varios modelos CNN, en los cuales cambiábamos los hiperparámetros. \n",
        "\n",
        "Llegamos a la conclusión que, efectivamente, la RNN no nos estaba dando buenos resultados para nuestro tipo de problema, porque suelen ser más adecuados para aprender patrones a través del tiempo, de datos que tienen internamente una secuencia. Mientras que entendemos que la red CNN arrojó mejores métricas ya que suelen ser más apropiadas para aprender patrones de características distribuidas en un espacio/momento/set de datos; en este caso, serían las características de un conjunto de productos.\n",
        "\n",
        "En particular, observamos que con una mayor cantidad de épocas la red aprendió mejor, la tasa de error bajó y nos conformó el accuracy.\n",
        "\n"
      ]
    },
    {
      "cell_type": "code",
      "metadata": {
        "id": "IFY2PAtHTSMp"
      },
      "source": [
        "\n",
        "class CNNClassifier(nn.Module):\n",
        "    def __init__(self,\n",
        "                 pretrained_embeddings,\n",
        "                 token_to_index,\n",
        "                 labels_count,\n",
        "                 vector_size=300,\n",
        "                 freeze_embedings=True,\n",
        "                 hidden_layers=[256, 128],\n",
        "                 dropout=0.3,\n",
        "                 batch_size=128):\n",
        "        super().__init__()\n",
        "        with gzip.open(token_to_index, 'rt') as fh:\n",
        "            token_to_index = json.load(fh)\n",
        "        embeddings_matrix = torch.randn(len(token_to_index), vector_size)\n",
        "        embeddings_matrix[0] = torch.zeros(vector_size)\n",
        "        with gzip.open(pretrained_embeddings, 'rt') as fh:\n",
        "            # Let's fill the embedding matrix\n",
        "            next(fh)\n",
        "            for line in fh:\n",
        "                word, vector = line.strip().split(None, 1)\n",
        "                if word in token_to_index:\n",
        "                    wordID = token_to_index[word]\n",
        "                    embeddings_matrix[wordID] = torch.FloatTensor([float(n) for n in vector.split()])\n",
        "        # Embedding Layer\n",
        "        self.embeddings = nn.Embedding.from_pretrained(embeddings_matrix,\n",
        "                                                       freeze=freeze_embedings,\n",
        "                                                       padding_idx=0)\n",
        "        # Convolutional Layers\n",
        "        self.convs = []\n",
        "        for filter_lenght in FILTERS_LENGTH:\n",
        "            self.convs.append(\n",
        "                    nn.Conv1d(vector_size, FILTERS_COUNT, filter_lenght)\n",
        "                    )\n",
        "        self.convs = nn.ModuleList(self.convs)\n",
        "        \n",
        "        # Linear Layers\n",
        "        self.hidden_layers = [\n",
        "            nn.Linear(FILTERS_COUNT * len(FILTERS_LENGTH), hidden_layers[0])\n",
        "        ]\n",
        "        for input_size, output_size in zip(hidden_layers[:-1], hidden_layers[1:]):\n",
        "            self.hidden_layers.append(\n",
        "                nn.Linear(input_size, output_size)\n",
        "            )\n",
        "        self.dropout = dropout\n",
        "        self.hidden_layers = nn.ModuleList(self.hidden_layers)\n",
        "        self.output = nn.Linear(hidden_layers[-1], labels_count)\n",
        "        self.vector_size = vector_size\n",
        "        \n",
        "\n",
        "    @staticmethod\n",
        "    def conv_global_max_pool(x, conv):\n",
        "        return F.relu(conv(x).transpose(1, 2).max(1)[0])\n",
        "\n",
        "    def forward(self, x):\n",
        "        x = self.embeddings(x).transpose(1, 2) \n",
        "        x = [self.conv_global_max_pool(x, conv) for conv in self.convs]\n",
        "        x = torch.cat(x, dim=1)\n",
        "        for layer in self.hidden_layers:\n",
        "            x = F.relu(layer(x))\n",
        "            if self.dropout:\n",
        "                x = F.dropout(x, self.dropout)\n",
        "        x = self.output(x)\n",
        "        return x\n"
      ],
      "execution_count": null,
      "outputs": []
    },
    {
      "cell_type": "code",
      "metadata": {
        "id": "eNOu3B_qc7GB",
        "outputId": "94cb33d3-0335-429e-bab0-2ff990765eca"
      },
      "source": [
        "ls data/meli-challange-2019/"
      ],
      "execution_count": null,
      "outputs": [
        {
          "name": "stdout",
          "output_type": "stream",
          "text": [
            "SBW-vectors-300-min5.bin.gz     portuguese_token_to_index.json.gz\n",
            "SBW-vectors-300-min5.txt.bz2    spanish.test.jsonl.gz\n",
            "portuguese.test.jsonl.gz        spanish.train.jsonl.gz\n",
            "portuguese.train.jsonl.gz       spanish.validation.jsonl.gz\n",
            "portuguese.validation.jsonl.gz  spanish_token_to_index.json.gz\n"
          ]
        }
      ]
    },
    {
      "cell_type": "code",
      "metadata": {
        "id": "6fculXvAc7GC",
        "outputId": "d448e605-faa2-4d62-d26b-628beea48b60"
      },
      "source": [
        "ls data/"
      ],
      "execution_count": null,
      "outputs": [
        {
          "name": "stdout",
          "output_type": "stream",
          "text": [
            "glove.6B.50d.txt.gz  imdb_reviews.csv.gz  \u001b[0m\u001b[01;36mmeli-challange-2019\u001b[0m@\n"
          ]
        }
      ]
    },
    {
      "cell_type": "markdown",
      "metadata": {
        "id": "S1eAbP8nTSMr"
      },
      "source": [
        "# Carga de datasets"
      ]
    },
    {
      "cell_type": "markdown",
      "metadata": {
        "id": "WFJohSXGwffO"
      },
      "source": [
        "## Train"
      ]
    },
    {
      "cell_type": "code",
      "metadata": {
        "id": "_EDD_qh4TSMr"
      },
      "source": [
        "\n",
        "train_dataset = MeLiChallenge(\n",
        "    dataset_path=\"./data/meli-challange-2019/spanish.train.jsonl.gz\",\n",
        "    random_buffer_size=400\n",
        ")"
      ],
      "execution_count": null,
      "outputs": []
    },
    {
      "cell_type": "code",
      "metadata": {
        "id": "yG5O7AFHTSMr",
        "outputId": "a4e356af-26b0-4164-dd95-4a91ccebe888"
      },
      "source": [
        "labels_count=train_dataset.labels_count,\n",
        "labels_count"
      ],
      "execution_count": null,
      "outputs": [
        {
          "data": {
            "text/plain": [
              "(632,)"
            ]
          },
          "execution_count": 8,
          "metadata": {},
          "output_type": "execute_result"
        }
      ]
    },
    {
      "cell_type": "code",
      "metadata": {
        "id": "MVXiTscUTSMs"
      },
      "source": [
        "from torch.utils.data import DataLoader\n",
        "BATCH_SIZE = 2048\n",
        "\n",
        "pad_sequences = PadSequences(\n",
        "    pad_value=0,\n",
        "    max_length=None,\n",
        "    min_length=1\n",
        ")\n",
        "\n",
        "train_loader = DataLoader(\n",
        "        train_dataset,\n",
        "        batch_size=BATCH_SIZE,\n",
        "        shuffle=False,\n",
        "        collate_fn=pad_sequences,\n",
        "        drop_last=False\n",
        "    )\n",
        "\n"
      ],
      "execution_count": null,
      "outputs": []
    },
    {
      "cell_type": "markdown",
      "metadata": {
        "id": "c-TzIZd2Ty85"
      },
      "source": [
        "## Test"
      ]
    },
    {
      "cell_type": "code",
      "metadata": {
        "id": "4w9Nln4MTSMs"
      },
      "source": [
        "test_dataset = MeLiChallenge(\n",
        "    dataset_path=\"./data/meli-challange-2019/spanish.test.jsonl.gz\",\n",
        "    random_buffer_size=1\n",
        ")\n",
        "test_loader = DataLoader(\n",
        "    test_dataset,\n",
        "    batch_size=BATCH_SIZE,\n",
        "   shuffle=False,\n",
        "    collate_fn=pad_sequences,\n",
        "    drop_last=False\n",
        ")"
      ],
      "execution_count": null,
      "outputs": []
    },
    {
      "cell_type": "markdown",
      "metadata": {
        "id": "p8XZ0FEgw20c"
      },
      "source": [
        "## Validation"
      ]
    },
    {
      "cell_type": "code",
      "metadata": {
        "id": "lz8R8Tv0iZVO"
      },
      "source": [
        "validation_dataset = MeLiChallenge(\n",
        "    dataset_path=\"./data/meli-challange-2019/spanish.validation.jsonl.gz\",\n",
        "    random_buffer_size=1\n",
        ")\n",
        "validation_loader = DataLoader(\n",
        "    validation_dataset,\n",
        "    batch_size=BATCH_SIZE,\n",
        "    shuffle=False,\n",
        "    collate_fn=pad_sequences,\n",
        "    drop_last=False\n",
        ")\n"
      ],
      "execution_count": null,
      "outputs": []
    },
    {
      "cell_type": "markdown",
      "metadata": {
        "id": "e-ZeYrXMTSMt"
      },
      "source": [
        "# Resultados de las 3 variaciones del modelo seleccionadas\n"
      ]
    },
    {
      "cell_type": "markdown",
      "metadata": {
        "id": "IL1AiiXc2hrF"
      },
      "source": [
        "A continuación mostramos los 3 resultados más satisfactorios de las 23 corridas realizadas.\n",
        "\n",
        "Para los 3 modelos que mostramos utilizamos:\n",
        "* random_buffer_size = 512\n",
        "* fc_size = 128\n",
        "* vector_size = 50\n",
        "* batch_size = 600\n",
        "\n",
        "En cada modelo se especifican los hiperparámetros que modificamos."
      ]
    },
    {
      "cell_type": "markdown",
      "metadata": {
        "id": "zTcLDiWK28jO"
      },
      "source": [
        "## Modelo 1\n",
        "\n",
        "Hiperparámetros seleccionados para este modelo:\n",
        "\n",
        "* EPOCHS = 2\n",
        "* FILTERS_COUNT = 100\n",
        "* FILTERS_LENGTH = [2, 3, 4]\n",
        "* LR= 1e-5\n",
        "* WD=1e-4\n",
        "\n"
      ]
    },
    {
      "cell_type": "code",
      "metadata": {
        "id": "eB7to1MUTSMt"
      },
      "source": [
        "import random\n",
        "mlflow.set_experiment(f'Diplomatura')\n",
        "\n",
        "EPOCHS = 2\n",
        "FILTERS_COUNT = 100\n",
        "FILTERS_LENGTH = [2, 3, 4]\n",
        "LR= 1e-5\n",
        "WD=1e-4\n",
        "\n",
        "with mlflow.start_run():\n",
        "    #Start experiment\n",
        "    # Log all relevent hyperparameters\n",
        "    mlflow.log_params({\n",
        "        'model_type': 'CNN network',\n",
        "        'learning_rate': LR,\n",
        "        'weight_decay': WD,\n",
        "        'random_buffer_size': 512,\n",
        "        \"filters_count\": FILTERS_COUNT,\n",
        "        \"filters_length\": FILTERS_LENGTH,\n",
        "        \"fc_size\": 128\n",
        "    \n",
        "    })\n",
        "    # Look for the device\n",
        "    device = torch.device('cuda') if torch.cuda.is_available() else torch.device('cpu')\n",
        "\n",
        "    # Building classifier\n",
        "    model = CNNClassifier(\n",
        "            labels_count=train_dataset.labels_count,\n",
        "            token_to_index='./data/meli-challange-2019/spanish_token_to_index.json.gz',\n",
        "            pretrained_embeddings=\"./data/glove.6B.50d.txt.gz\",\n",
        "            vector_size=50,\n",
        "            freeze_embedings=True,\n",
        "            batch_size=600,\n",
        "            )\n",
        "    # Send the model to the device\n",
        "    model = model.to(device)\n",
        "    loss = nn.CrossEntropyLoss()\n",
        "    optimizer = optim.Adam(\n",
        "        model.parameters(),\n",
        "        weight_decay=WD,\n",
        "        lr=LR\n",
        "    )\n",
        "\n",
        "    # Training classifier\n",
        "    for epoch in trange(EPOCHS):\n",
        "        model.train()\n",
        "        running_loss = [] \n",
        "        targets = []\n",
        "        predictions = []\n",
        "       \n",
        "        for idx, batch in enumerate(tqdm(train_loader)):\n",
        "            optimizer.zero_grad()\n",
        "            data = batch['data'].to(device)\n",
        "            target = batch['target'].to(device)\n",
        "            output = model(data)\n",
        "            loss_value = loss(output, target)\n",
        "            loss_value.backward()\n",
        "            optimizer.step()\n",
        "            running_loss.append(loss_value.item())\n",
        "            targets.extend(batch['target'].numpy())\n",
        "            predictions.extend(output.argmax(axis=1).detach().cpu().numpy())\n",
        "        mlflow.log_metric('train_loss', sum(running_loss) / len(running_loss), epoch)\n",
        "        mlflow.log_metric('train_bacc', balanced_accuracy_score(targets, predictions), epoch)\n",
        "\n",
        "        #'Evaluating model on validation'\n",
        "        model.eval()\n",
        "        running_loss = []\n",
        "        targets = []\n",
        "        predictions = []\n",
        "        with torch.no_grad():\n",
        "            for batch in tqdm(validation_loader):\n",
        "                data = batch['data'].to(device)\n",
        "                target = batch['target'].to(device)\n",
        "                output = model(data)\n",
        "                loss_value = loss(output, target)\n",
        "                running_loss.append(loss_value.item())\n",
        "                targets.extend(batch['target'].numpy())\n",
        "                predictions.extend(output.argmax(axis=1).detach().cpu().numpy())\n",
        "            mlflow.log_metric('validation_loss', sum(running_loss) / len(running_loss), epoch)\n",
        "            mlflow.log_metric('validation_bacc', balanced_accuracy_score(targets, predictions), epoch)\n",
        "\n",
        "    #Evaluating model on test\n",
        "    model.eval()\n",
        "    running_loss = []\n",
        "    targets = []\n",
        "    predictions = []\n",
        "    with torch.no_grad():\n",
        "        for batch in tqdm(test_loader):\n",
        "            data = batch['data'].to(device)\n",
        "            target = batch['target'].to(device)\n",
        "            output = model(data)\n",
        "            loss_value = loss(output, target)\n",
        "            running_loss.append(loss_value.item())\n",
        "            targets.extend(batch['target'].numpy())\n",
        "            predictions.extend(output.argmax(axis=1).detach().cpu().numpy())\n",
        "        mlflow.log_metric('test_loss', sum(running_loss) / len(running_loss), epoch)\n",
        "        mlflow.log_metric('test_bacc', balanced_accuracy_score(targets, predictions), epoch)\n",
        "\n"
      ],
      "execution_count": null,
      "outputs": []
    },
    {
      "cell_type": "markdown",
      "metadata": {
        "id": "8apBRn7X8-p7"
      },
      "source": [
        "![2-bacc.png](data:image/png;base64,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)![2-loss.png](data:image/png;base64,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)"
      ]
    },
    {
      "cell_type": "markdown",
      "metadata": {
        "id": "ztO_nzVD6Jb3"
      },
      "source": [
        "### Métricas obtenidas\n",
        "\n",
        "*Loss:*\n",
        "* train_loss: 3.068\n",
        "* test_loss: 2.84\n",
        "* validation_loss: 2.792\n",
        "\n",
        "*Accuracy:*\n",
        "* train_bacc: 0.358\n",
        "* test_bacc: 0.452\n",
        "* validation_bacc: 0.412\n",
        "\n"
      ]
    },
    {
      "cell_type": "markdown",
      "metadata": {
        "id": "2sRs31oo41o1"
      },
      "source": [
        "## Modelo 2\n",
        "\n",
        "Hiperparámetros seleccionados para este modelo:\n",
        "\n",
        "* EPOCHS = 15\n",
        "* FILTERS_COUNT = 150\n",
        "* FILTERS_LENGTH = [4, 5, 7]\n",
        "* LR= 1e-6\n",
        "* WD=1e-7\n",
        "\n"
      ]
    },
    {
      "cell_type": "code",
      "metadata": {
        "id": "FYPgvNzxc7GH",
        "colab": {
          "referenced_widgets": [
            "2c747a03076d4a7eab1e3460ee523f51",
            "d48342ebd668415aacf602aaef918ee5",
            "0441ea4d29734076b75ac89f4b00cdef",
            "fecdf0f549fa41e588777176d942b8fc",
            "4bb4fffa5dfd4251bccbb8c45f9e61d9",
            "7f093ea9fede4e8d9b253a6f22c54ff1",
            "7af9100d9f3c4899b65f33ca522f4f0e",
            "737dcc9c5ca64fa89bbc700e83f0aaa6",
            "75f7646197d7468ea455285fb1be72a6",
            "fe2ce5728036420ea67ea532503ddae9",
            "3a21ef3b3edd482799f1fa3007079cd2",
            "61aee6862144430ab4790d0ab3d2ecfb",
            "8445798691af41ad924f9d1af204477f",
            "ee36ba1aaf9e4e9f9ec51d7ff1505172",
            "e29baedce3d5496b9c1dd30d9916baa3",
            "f7d5508eb2b2417292527cfd8cd70572",
            "2faebf972c9f47e6875560584e967b31",
            "cc52265511ce45d1b4dcafae083f3f1e",
            "05b763e2dfea4b968c9a311c2d8b59a7",
            "9b4a4864013e4ce0a86ca5443c038484",
            "9131d9c6f4ca4772a77888cfdf1fa6e4",
            "0253aa89f9a9456ea7b04fbaea1fc2c2",
            "a6e15270db314b6ea7792e76380364bd",
            "3282624e823a40faad74f070635ff895",
            "32552d48be804ba183bd41f105a22a77",
            "c8aa9f2d338447e1af22960a5c953040",
            "e45b3a8518694c8b9d1f98ad303a9352",
            "203d0ffab4f0454fbc89fc218c276c52",
            "c43defacee9b45b5ab2005127e2690b8",
            "024bccb6fcc34602963c6e621bd9e802",
            "faff40f6bb2a4ef29d9d1b45ab8fe8ab",
            "b87dedb1f9e54a8eac1a701eeb5b8c44"
          ]
        },
        "outputId": "59d360f0-9440-4886-9489-b39338582d8f"
      },
      "source": [
        "import random\n",
        "mlflow.set_experiment(f'Diplomatura')\n",
        "\n",
        "EPOCHS = 15\n",
        "FILTERS_COUNT = 150\n",
        "FILTERS_LENGTH = [4, 5, 7]\n",
        "LR= 1e-6\n",
        "WD=1e-7\n",
        "\n",
        "with mlflow.start_run():\n",
        "    #Start experiment\n",
        "    # Log all relevent hyperparameters\n",
        "    mlflow.log_params({\n",
        "        'model_type': 'CNN network',\n",
        "        'learning_rate': LR,\n",
        "        'weight_decay': WD,\n",
        "        'random_buffer_size': 512,\n",
        "        \"filters_count\": FILTERS_COUNT,\n",
        "        \"filters_length\": FILTERS_LENGTH,\n",
        "        \"fc_size\": 128\n",
        "    \n",
        "    })\n",
        "    # Look for the device\n",
        "    device = torch.device('cuda') if torch.cuda.is_available() else torch.device('cpu')\n",
        "\n",
        "    # Building classifier\n",
        "    model = CNNClassifier(\n",
        "            labels_count=train_dataset.labels_count,\n",
        "            token_to_index='./data/meli-challange-2019/spanish_token_to_index.json.gz',\n",
        "            pretrained_embeddings=\"./data/glove.6B.50d.txt.gz\",\n",
        "            vector_size=50,\n",
        "            freeze_embedings=True,\n",
        "            batch_size=600,\n",
        "            )\n",
        "    # Send the model to the device\n",
        "    model = model.to(device)\n",
        "    loss = nn.CrossEntropyLoss()\n",
        "    optimizer = optim.Adam(\n",
        "        model.parameters(),\n",
        "        weight_decay=WD,\n",
        "        lr=LR\n",
        "    )\n",
        "\n",
        "    # Training classifier\n",
        "    for epoch in trange(EPOCHS):\n",
        "        model.train()\n",
        "        running_loss = [] \n",
        "        targets = []\n",
        "        predictions = []\n",
        "       \n",
        "        for idx, batch in enumerate(tqdm(train_loader)):\n",
        "            optimizer.zero_grad()\n",
        "            data = batch['data'].to(device)\n",
        "            target = batch['target'].to(device)\n",
        "            output = model(data)\n",
        "            loss_value = loss(output, target)\n",
        "            loss_value.backward()\n",
        "            optimizer.step()\n",
        "            running_loss.append(loss_value.item())\n",
        "            targets.extend(batch['target'].numpy())\n",
        "            predictions.extend(output.argmax(axis=1).detach().cpu().numpy())\n",
        "        mlflow.log_metric('train_loss', sum(running_loss) / len(running_loss), epoch)\n",
        "        mlflow.log_metric('train_bacc', balanced_accuracy_score(targets, predictions), epoch)\n",
        "\n",
        "        #'Evaluating model on validation'\n",
        "        model.eval()\n",
        "        running_loss = []\n",
        "        targets = []\n",
        "        predictions = []\n",
        "        with torch.no_grad():\n",
        "            for batch in tqdm(validation_loader):\n",
        "                data = batch['data'].to(device)\n",
        "                target = batch['target'].to(device)\n",
        "                output = model(data)\n",
        "                loss_value = loss(output, target)\n",
        "                running_loss.append(loss_value.item())\n",
        "                targets.extend(batch['target'].numpy())\n",
        "                predictions.extend(output.argmax(axis=1).detach().cpu().numpy())\n",
        "            mlflow.log_metric('validation_loss', sum(running_loss) / len(running_loss), epoch)\n",
        "            mlflow.log_metric('validation_bacc', balanced_accuracy_score(targets, predictions), epoch)\n",
        "\n",
        "    #Evaluating model on test\n",
        "    model.eval()\n",
        "    running_loss = []\n",
        "    targets = []\n",
        "    predictions = []\n",
        "    with torch.no_grad():\n",
        "        for batch in tqdm(test_loader):\n",
        "            data = batch['data'].to(device)\n",
        "            target = batch['target'].to(device)\n",
        "            output = model(data)\n",
        "            loss_value = loss(output, target)\n",
        "            running_loss.append(loss_value.item())\n",
        "            targets.extend(batch['target'].numpy())\n",
        "            predictions.extend(output.argmax(axis=1).detach().cpu().numpy())\n",
        "        mlflow.log_metric('test_loss', sum(running_loss) / len(running_loss), epoch)\n",
        "        mlflow.log_metric('test_bacc', balanced_accuracy_score(targets, predictions), epoch)\n",
        "\n"
      ],
      "execution_count": null,
      "outputs": [
        {
          "data": {
            "application/vnd.jupyter.widget-view+json": {
              "model_id": "2c747a03076d4a7eab1e3460ee523f51",
              "version_major": 2,
              "version_minor": 0
            },
            "text/plain": [
              "  0%|          | 0/15 [00:00<?, ?it/s]"
            ]
          },
          "metadata": {},
          "output_type": "display_data"
        },
        {
          "data": {
            "application/vnd.jupyter.widget-view+json": {
              "model_id": "d48342ebd668415aacf602aaef918ee5",
              "version_major": 2,
              "version_minor": 0
            },
            "text/plain": [
              "  0%|          | 0/2391 [00:00<?, ?it/s]"
            ]
          },
          "metadata": {},
          "output_type": "display_data"
        },
        {
          "data": {
            "application/vnd.jupyter.widget-view+json": {
              "model_id": "0441ea4d29734076b75ac89f4b00cdef",
              "version_major": 2,
              "version_minor": 0
            },
            "text/plain": [
              "  0%|          | 0/598 [00:00<?, ?it/s]"
            ]
          },
          "metadata": {},
          "output_type": "display_data"
        },
        {
          "data": {
            "application/vnd.jupyter.widget-view+json": {
              "model_id": "fecdf0f549fa41e588777176d942b8fc",
              "version_major": 2,
              "version_minor": 0
            },
            "text/plain": [
              "  0%|          | 0/2391 [00:00<?, ?it/s]"
            ]
          },
          "metadata": {},
          "output_type": "display_data"
        },
        {
          "data": {
            "application/vnd.jupyter.widget-view+json": {
              "model_id": "4bb4fffa5dfd4251bccbb8c45f9e61d9",
              "version_major": 2,
              "version_minor": 0
            },
            "text/plain": [
              "  0%|          | 0/598 [00:00<?, ?it/s]"
            ]
          },
          "metadata": {},
          "output_type": "display_data"
        },
        {
          "data": {
            "application/vnd.jupyter.widget-view+json": {
              "model_id": "7f093ea9fede4e8d9b253a6f22c54ff1",
              "version_major": 2,
              "version_minor": 0
            },
            "text/plain": [
              "  0%|          | 0/2391 [00:00<?, ?it/s]"
            ]
          },
          "metadata": {},
          "output_type": "display_data"
        },
        {
          "data": {
            "application/vnd.jupyter.widget-view+json": {
              "model_id": "7af9100d9f3c4899b65f33ca522f4f0e",
              "version_major": 2,
              "version_minor": 0
            },
            "text/plain": [
              "  0%|          | 0/598 [00:00<?, ?it/s]"
            ]
          },
          "metadata": {},
          "output_type": "display_data"
        },
        {
          "data": {
            "application/vnd.jupyter.widget-view+json": {
              "model_id": "737dcc9c5ca64fa89bbc700e83f0aaa6",
              "version_major": 2,
              "version_minor": 0
            },
            "text/plain": [
              "  0%|          | 0/2391 [00:00<?, ?it/s]"
            ]
          },
          "metadata": {},
          "output_type": "display_data"
        },
        {
          "data": {
            "application/vnd.jupyter.widget-view+json": {
              "model_id": "75f7646197d7468ea455285fb1be72a6",
              "version_major": 2,
              "version_minor": 0
            },
            "text/plain": [
              "  0%|          | 0/598 [00:00<?, ?it/s]"
            ]
          },
          "metadata": {},
          "output_type": "display_data"
        },
        {
          "data": {
            "application/vnd.jupyter.widget-view+json": {
              "model_id": "fe2ce5728036420ea67ea532503ddae9",
              "version_major": 2,
              "version_minor": 0
            },
            "text/plain": [
              "  0%|          | 0/2391 [00:00<?, ?it/s]"
            ]
          },
          "metadata": {},
          "output_type": "display_data"
        },
        {
          "data": {
            "application/vnd.jupyter.widget-view+json": {
              "model_id": "3a21ef3b3edd482799f1fa3007079cd2",
              "version_major": 2,
              "version_minor": 0
            },
            "text/plain": [
              "  0%|          | 0/598 [00:00<?, ?it/s]"
            ]
          },
          "metadata": {},
          "output_type": "display_data"
        },
        {
          "data": {
            "application/vnd.jupyter.widget-view+json": {
              "model_id": "61aee6862144430ab4790d0ab3d2ecfb",
              "version_major": 2,
              "version_minor": 0
            },
            "text/plain": [
              "  0%|          | 0/2391 [00:00<?, ?it/s]"
            ]
          },
          "metadata": {},
          "output_type": "display_data"
        },
        {
          "data": {
            "application/vnd.jupyter.widget-view+json": {
              "model_id": "8445798691af41ad924f9d1af204477f",
              "version_major": 2,
              "version_minor": 0
            },
            "text/plain": [
              "  0%|          | 0/598 [00:00<?, ?it/s]"
            ]
          },
          "metadata": {},
          "output_type": "display_data"
        },
        {
          "data": {
            "application/vnd.jupyter.widget-view+json": {
              "model_id": "ee36ba1aaf9e4e9f9ec51d7ff1505172",
              "version_major": 2,
              "version_minor": 0
            },
            "text/plain": [
              "  0%|          | 0/2391 [00:00<?, ?it/s]"
            ]
          },
          "metadata": {},
          "output_type": "display_data"
        },
        {
          "data": {
            "application/vnd.jupyter.widget-view+json": {
              "model_id": "e29baedce3d5496b9c1dd30d9916baa3",
              "version_major": 2,
              "version_minor": 0
            },
            "text/plain": [
              "  0%|          | 0/598 [00:00<?, ?it/s]"
            ]
          },
          "metadata": {},
          "output_type": "display_data"
        },
        {
          "data": {
            "application/vnd.jupyter.widget-view+json": {
              "model_id": "f7d5508eb2b2417292527cfd8cd70572",
              "version_major": 2,
              "version_minor": 0
            },
            "text/plain": [
              "  0%|          | 0/2391 [00:00<?, ?it/s]"
            ]
          },
          "metadata": {},
          "output_type": "display_data"
        },
        {
          "data": {
            "application/vnd.jupyter.widget-view+json": {
              "model_id": "2faebf972c9f47e6875560584e967b31",
              "version_major": 2,
              "version_minor": 0
            },
            "text/plain": [
              "  0%|          | 0/598 [00:00<?, ?it/s]"
            ]
          },
          "metadata": {},
          "output_type": "display_data"
        },
        {
          "data": {
            "application/vnd.jupyter.widget-view+json": {
              "model_id": "cc52265511ce45d1b4dcafae083f3f1e",
              "version_major": 2,
              "version_minor": 0
            },
            "text/plain": [
              "  0%|          | 0/2391 [00:00<?, ?it/s]"
            ]
          },
          "metadata": {},
          "output_type": "display_data"
        },
        {
          "data": {
            "application/vnd.jupyter.widget-view+json": {
              "model_id": "05b763e2dfea4b968c9a311c2d8b59a7",
              "version_major": 2,
              "version_minor": 0
            },
            "text/plain": [
              "  0%|          | 0/598 [00:00<?, ?it/s]"
            ]
          },
          "metadata": {},
          "output_type": "display_data"
        },
        {
          "data": {
            "application/vnd.jupyter.widget-view+json": {
              "model_id": "9b4a4864013e4ce0a86ca5443c038484",
              "version_major": 2,
              "version_minor": 0
            },
            "text/plain": [
              "  0%|          | 0/2391 [00:00<?, ?it/s]"
            ]
          },
          "metadata": {},
          "output_type": "display_data"
        },
        {
          "data": {
            "application/vnd.jupyter.widget-view+json": {
              "model_id": "9131d9c6f4ca4772a77888cfdf1fa6e4",
              "version_major": 2,
              "version_minor": 0
            },
            "text/plain": [
              "  0%|          | 0/598 [00:00<?, ?it/s]"
            ]
          },
          "metadata": {},
          "output_type": "display_data"
        },
        {
          "data": {
            "application/vnd.jupyter.widget-view+json": {
              "model_id": "0253aa89f9a9456ea7b04fbaea1fc2c2",
              "version_major": 2,
              "version_minor": 0
            },
            "text/plain": [
              "  0%|          | 0/2391 [00:00<?, ?it/s]"
            ]
          },
          "metadata": {},
          "output_type": "display_data"
        },
        {
          "data": {
            "application/vnd.jupyter.widget-view+json": {
              "model_id": "a6e15270db314b6ea7792e76380364bd",
              "version_major": 2,
              "version_minor": 0
            },
            "text/plain": [
              "  0%|          | 0/598 [00:00<?, ?it/s]"
            ]
          },
          "metadata": {},
          "output_type": "display_data"
        },
        {
          "data": {
            "application/vnd.jupyter.widget-view+json": {
              "model_id": "3282624e823a40faad74f070635ff895",
              "version_major": 2,
              "version_minor": 0
            },
            "text/plain": [
              "  0%|          | 0/2391 [00:00<?, ?it/s]"
            ]
          },
          "metadata": {},
          "output_type": "display_data"
        },
        {
          "data": {
            "application/vnd.jupyter.widget-view+json": {
              "model_id": "32552d48be804ba183bd41f105a22a77",
              "version_major": 2,
              "version_minor": 0
            },
            "text/plain": [
              "  0%|          | 0/598 [00:00<?, ?it/s]"
            ]
          },
          "metadata": {},
          "output_type": "display_data"
        },
        {
          "data": {
            "application/vnd.jupyter.widget-view+json": {
              "model_id": "c8aa9f2d338447e1af22960a5c953040",
              "version_major": 2,
              "version_minor": 0
            },
            "text/plain": [
              "  0%|          | 0/2391 [00:00<?, ?it/s]"
            ]
          },
          "metadata": {},
          "output_type": "display_data"
        },
        {
          "data": {
            "application/vnd.jupyter.widget-view+json": {
              "model_id": "e45b3a8518694c8b9d1f98ad303a9352",
              "version_major": 2,
              "version_minor": 0
            },
            "text/plain": [
              "  0%|          | 0/598 [00:00<?, ?it/s]"
            ]
          },
          "metadata": {},
          "output_type": "display_data"
        },
        {
          "data": {
            "application/vnd.jupyter.widget-view+json": {
              "model_id": "203d0ffab4f0454fbc89fc218c276c52",
              "version_major": 2,
              "version_minor": 0
            },
            "text/plain": [
              "  0%|          | 0/2391 [00:00<?, ?it/s]"
            ]
          },
          "metadata": {},
          "output_type": "display_data"
        },
        {
          "data": {
            "application/vnd.jupyter.widget-view+json": {
              "model_id": "c43defacee9b45b5ab2005127e2690b8",
              "version_major": 2,
              "version_minor": 0
            },
            "text/plain": [
              "  0%|          | 0/598 [00:00<?, ?it/s]"
            ]
          },
          "metadata": {},
          "output_type": "display_data"
        },
        {
          "data": {
            "application/vnd.jupyter.widget-view+json": {
              "model_id": "024bccb6fcc34602963c6e621bd9e802",
              "version_major": 2,
              "version_minor": 0
            },
            "text/plain": [
              "  0%|          | 0/2391 [00:00<?, ?it/s]"
            ]
          },
          "metadata": {},
          "output_type": "display_data"
        },
        {
          "data": {
            "application/vnd.jupyter.widget-view+json": {
              "model_id": "faff40f6bb2a4ef29d9d1b45ab8fe8ab",
              "version_major": 2,
              "version_minor": 0
            },
            "text/plain": [
              "  0%|          | 0/598 [00:00<?, ?it/s]"
            ]
          },
          "metadata": {},
          "output_type": "display_data"
        },
        {
          "data": {
            "application/vnd.jupyter.widget-view+json": {
              "model_id": "b87dedb1f9e54a8eac1a701eeb5b8c44",
              "version_major": 2,
              "version_minor": 0
            },
            "text/plain": [
              "  0%|          | 0/32 [00:00<?, ?it/s]"
            ]
          },
          "metadata": {},
          "output_type": "display_data"
        }
      ]
    },
    {
      "cell_type": "markdown",
      "metadata": {
        "id": "rwqwbPmh9GWg"
      },
      "source": [
        "![15-bacc.png](data:image/png;base64,iVBORw0KGgoAAAANSUhEUgAABX8AAAGnCAYAAADv8CSnAAAABHNCSVQICAgIfAhkiAAAABl0RVh0U29mdHdhcmUAZ25vbWUtc2NyZWVuc2hvdO8Dvz4AACAASURBVHic7N15fJTlvf//12yZJJPJHrIQsrGHHYICGhQQta2KUFCxLUf7VU5bOGr1FK1V6/FolUfrT1Gx1aqVulSLekQtLoAIUgQUEkB2QiAJZM9MZjKZfeb3B0cqxw0kAxLez3+cuee+78/nvr1MHr5zzXUbotFoFBERERERERERERHpVoynugERERERERERERER6XoKf0VERERERERERES6IYW/IiIiIiIiIiIiIt2Qwl8RERERERERERGRbkjhr4iIiIiIiIiIiEg3pPBXREREREREREREpBtS+CsiIiIiIiIiIiLSDSn8FREREREREREREemGFP6KiIiIiIiIiIiIdEMKf0VERERERERERES6IYW/IiIiIiIiIiIiIt2Qwl8RERERERERERGRbkjhr4iIiIiIiIiIiEg3pPBXREREREREREREpBtS+CsiIiIiIiIiIiLSDSn8FREREREREREREemGFP6KiIiIiIiIiIiIdEMKf0VERERERERERES6IYW/IiIiIiIiIiIiIt2Qwl8RERERERERERGRbkjhr4iIiIiIiIiIiEg3pPBXREREREREREREpBtS+CsiIiIiIiIiIiLSDSn8FREREREREREREemGFP6KiIiIiIiIiIiIdEMKf0VERERERERERES6IYW/p4nJkyef6hakm3I4HKe6BemmNLYkVjS2JFY0tiQWHA6HxpbEhMaWxIrGlUj3ovBXREREREREREREpBtS+CsiIiIiIiIiIiLSDSn8FREREREREREREemGFP6KiIiIiIiIiIiIdEMKf0VERERERERERES6IYW/IiIiIiIiIiIiIt2Qwl8RERERERERERGRbkjhr4iIiIiIiIiIiEg3pPBXREREREREREREpBtS+CsiIiIiIiIiIiLSDSn8FREREREREREREemGFP6KiIiIiIiIiIichgLhCJ5AGE8gTDgSjUmNVatW4XQ6v9Wxs2bNYt26dSdUv7m5mcmTJ+P1ek/oPGcqhb8iIiIiIiIiIiKnmUZ3gJ31HVQ1eahq8rCzoYN2b7DL6yxatAiHw/GF7ZFI5BuPXbhwIWVlZV3ekxw786luQERERERERERE5Ey1p9FDc4f/uI4JhCLUOXxf2L651kVRZsJx99C3RxJZ9rgvbL/33nupra3l7rvv5uqrr2br1q0kJiayefNmSkpKuPXWW9m0aRNPPvkkbrcbg8HAtGnTmDZtGgBz5szhF7/4BWPGjOGaa67hsssuY9OmTbjdbgKBAL/5zW/Iz88/ph6XL1/Oa6+9RkdHB2VlZdx0001YrVYaGhp46KGHqKurIxKJMHLkSG666SYsFgvBYJCnnnqKtWvXEgwGGT16NDfccAMWi4XW1lYWLFjA3r17MRqNR/XdnSj8FREREREREREROUUeW1bFu+sPndIefvuTIcw8q+cXtt9xxx2sWrWKu+++m+LiYnbt2sXq1at56KGHyM3NJRgMcs8993DLLbdQXl5OdXU1P/vZzygrK6OgoOCoc5nNZtavX899992H2Wxm/vz5LF68mF/+8pfH1GNVVRVPP/00Xq+XOXPmsHTpUqZOncqjjz5KQUEB8+fPx+Px8POf/5x33nmHSy+9lL///e9UV1fz9NNPYzAYuO2223jhhRe45pprmD9/PqWlpdxzzz20tLQwe/ZsiouLGTFiRJfc0+8Khb8iIiIiIiIiIiKnkShgOAV1DQYDgwYNIjc3FwCLxcILL7xAQsLh2cbFxcVkZGRQV1f3hfAXYMKECZjNh+PI3r1788knnxxz7alTp2I0GrHZbJx77rls3ryZqVOnctddd2EwHL4bNpuNQYMGUVdXB8Dq1au54ooriIs7PKv5vvvuw2g04vF4qKioYN68eQBkZmby3HPPER8f/y3vzHeXwl8REREREREREYFoFKKRw/80nIpo8cy04MdD4cdDj+uYQDjCzvqOL2yPMxsZkJPUVa19qZSUlKPev/fee6xcuZJo9PAD55xO55HX/1diYuKR10aj8ZjWDf5Menr6kdfJycm43W4Atm7dyuLFi+no6MBoNFJfX8/EiRMBaGtrw263Hznus3C3oaEB4KjPbDbbMfdyOlH4KyIiIiIiIiJyJgt2Qus+aNlNQocLkpIhsx9klIAl8ZuPl5MuzmQkL9VKQ7ufyP/mrHFmI0UZx7/e7/EyfO4PAxs2bGDRokUsXLiQnj0PLxtx1VVXxaSuy+U6Eta63W6Sk5Pp6Ojgzjvv5Pbbb6e8vByA+++//8gx6enpRz2szuVy4fV6ycjIAMDhcJCTkwNAU1MTVqv1C+H26c54qhsQEREREREREZFTJBoFx3744Hfwwg+JX3ItvPDDw+/bqg/PBJbvpMwkK4N7JtO7h41+2TYG5CQRbzF1eR2TyXRklu3/1d7eTmpqKrm5uUSjUV599VW8Xi9er7fL+/jHP/4BQGdnJ2vWrGHkyJF0dnYSCoXo378/AJWVlWzduvVI/fLyct588008Hg+BQID77ruPpUuXYrPZGD58OIsXLyYSidDS0sLcuXOpqqrq8r5PNc38FRERERERERE5U4UD0LQDNv/t6O2b/wYDL4H0Ys3+/Y6zxXV94Pt5EydO5I477mDGjBlf+Ky8vJyVK1cya9YsEhMTmT59OlOmTOGPf/wjPXr06JL64XAYgMLCQmbPno3L5WL06NFcfPHFWCwWrrjiCm688UYSExMpKytj7ty5PPDAAxQVFXHFFVfQ3t7O9ddfTzgcZvTo0fzoRz8CYN68eSxYsICZM2diNpu58sorGTlyZJf0/F1iiH7VIhzynTJ58mSWLVt2qtuQbsjhcJCWlnaq25BuSGNLYkVjS2JFY0ti4bOvmmpsSVfT2JIu42mByhfhrRu/+NmkO6Dsekj94oO7ROT0oGUfRERERERERETOVOY4sH7FA8Li08Ecf3L7EZEupWUfRERERERERETOVHFJYM8FDMDnvxxugIy+kJhxihqTM8UjjzzCli1bvvQzk8nEE088cZI76l4U/oqIiIiIiIiInKkMRigYAz96BTY8AbXrodfZcNa/Q9E5YIzterIiN9xww6luoVtT+CsiIiIiIiIiciZLSIP+F0NqAd7GfSRkl0B2qR70JtINKPwVERERERERETnTWRIhvwyfrTcJepCgSLehB76JiIiIiIiIiIiIdEMKf0VERERERERERES6IYW/IiIiIiIiIiIiIt2Qwl8RERERERERERGRbkgPfBMREREREREROYMFoyGcQRcdIQ+EIqSQihHDqW5LRLqAZv6KiIiIiIiIiJyBwtEIvrCfne69/Hr7fIasvJBHaxfRGeo81a2JSBdR+CsiIiIiIiIicgb62LmZn1b+ijEfTuWvta/SGfay8OBzdIa9p7o1OVZNlbDhEdjyV2jfH5MSq1atwul0ntA5nE4nq1atOqZ9H3zwQZ544okTqif/omUfRERERERERETOEP9T/y613kOsaf2YtY6NOINuMuPSuDznQhJNCcxI+z4ZcWmnuk05Fkv+Ddb99ehtM5+Fof/WpWUWLVrEnXfeSWpq6rc+R2VlJatWreK8887rws7kWCj8FRERERERERHp5l6sW8KLB5ewu2MfvrAfZ9BFUWI+c4r/jYt6jCcrLh2TwUSCNw6TwXSq25Vv0lT5xeAXYMk1XRr+3nvvvdTW1nL33Xdz9dVXM3HiRJ599lnWrl0LQM+ePbnxxhvJysoiEonwxBNPsHbtWoxGI3FxcVx//fXEx8fz2GOPEQwGmTNnDgsXLvzGuh0dHfzmN7+hqqqKhIQE5s6dy6hRowB47bXXWLJkCaFQCJvNxs9+9jNGjhwJQGtrKwsWLGDv3r0YjUamTZvGtGnTAFi6dCmLFy/G6/VSUFDAzTffTE5OTpfdq+8qhb8iIiIiIiIiIt2QM+ji9fr3eKNhGXs81ezx7McfDnB22nB+UfwTxqWPoo+tiLz47CPHOLyOU9ixHLOGzV++vZPDyz+kFHVJmTvuuINVq1Zx9913U1xczIsvvkhlZSWPPfYYNpuNRYsW8cADD/Dggw+yadMm1q5dy1NPPYXVamXr1q28/fbbzJs3j8suu4zq6mp++9vfHlPdDz/8kIcffpiioiLefPNNHnjgAV588UX27dvHM888wzPPPEOPHj144403uP/++1m8eDEA8+fPp7S0lHvuuYeWlhZmz55NcXExFouFZ599loULF5KVlcXTTz/N/Pnzeeihh7rkPn2XKfwVEREREREREekmqjw17OjYS4u/jQ9aP6KyfTub23dwQda5FCbkc3bacM5KG8awlFJyrFmnul35tuK/ZgmG+JSYlV29ejVTpkzBZrMBMH36dJ5//nna2trIyMjA6XSyYsUKxo4dy5AhQxgyZMi3qjNq1CiKiooAuOiii3jkkUeora2lX79+vPzyy0fqjx49mkcffRSPxwNARUUF8+bNAyAzM5PnnnuO+Ph4nnjiCcaMGUNW1uExP2vWLILB4IncitOGwl8RERERERERkdPcDvde1rZtZK1jI/s8NbQFnOzrrOHstOFcUzCdK/IuIcEUz7CUgaRZYhcOykmSPQwSgP/7bL78ErDGbs3mtrY2nnnmGZ5//vkj22w2G62trfTt25d7772X119/nT//+c/k5uZy3XXXHVmS4Xikp6cfeR0XF4fVasXtduPz+Vi0aBHbt28HIBQKARCNRmlrawPAbrcf1dtnfWdn/2uGu8ViwWKxHHdfpyOFvyIiIiIiIiIip6lt7t1Utm9ndesGljevYZ+nhoy4NIalDOTi7POZkDmWksQCetsKtJZvd5JSBFe9Di9d/q8AOL8EZrwa07IZGRlMnz6dSZMmfennw4YNY9iwYUQiEVasWMFdd93Fq68ef08ul+vI60AggN/vJzk5meeff57du3czf/58bDYbBw8e5JprrjnSG4DD4Tiylm9TUxNWq5X09HQcDsdR56yvr6ewsPC4ezvdGLviJFHfNhb/9nqumPp9fnDZT7jpgdVUfdt92ytYfPs0po37L5Z1RXMiIiIiIiIiIt2EL+Jnh3svO9x7ebNhOY/ue5Zbtt3L3+qWEI6GOSd9FLN6TePOfjcwv/Q2Lu5xHv2SihX8dkf9psBdUbi7De6Pwpwq6DG8y8uYTCbcbjcA48eP56233sLrPZw4b9u2jd///vcAvPvuu/zhD38gFAphNBopKSkhEolgMBgwm814PB6i0egx1dy4cSMNDQ0ALF++nIyMDAoKCmhvbyc/Px+bzYbf7+fll18GwOv1YrPZGD58OIsXLyYSidDS0sLcuXOpqqqivLyctWvXUlNTA8CLL754Rqz3C10w8zeKm4/v+w1vh27m4ZfHkxvZxqJf3crDD/fi0ZuKj2/f+teZd+sKsiYNJv39E+1MRERERERERKR78IS9tAUcNPib+VP1CwC8eHAJqZZk4gwWxmSN4Oy0EUzKPIez0oad4m7lpIrhMg8AEydO5I477mDGjBlcddVVdHR08POf/5xIJEJSUhKzZ88GoLy8nIqKCmbNmoXJZCIhIYHbb7+duLg4Ro8ezWuvvcbVV1/Nn//8Z5KSkr6yXjgcZsKECTz22GPU1NRgsVi4/fbbMZlMTJ8+nd/97ndce+21JCUlMXfuXGpra7nlllt4/PHHmTdvHgsWLGDmzJmYzWauvPLKI8tOXHfdddx55510dnZSXFzMbbfdFtP79l1hiB5r5P4VwsFl3PODV+nz5J/4SdHhbaENt/GjPxTx27//jNLj2de5h72hvvTxPswvprczdf1vmXwizXUjkydPZtkyzYWWrudwOEhLi+0vCjkzaWxJrGhsSaxobEksfPYVU40t6WoaW2eOzrAPZ9BFRfunvNe0muZAGy8ffJMUSzKplmR+nH85mXHpXNhjPAOSep9wPf0+FOleTnjmr6l+D03BXMbnf25bYQEZdbXsD0Op6Tj2Te1LH4DaE+1KREREREREROT0FYqGCESCLGv6kAX7/sLKlo8wGgxYjBayrBncUHwtN/X+KYmmhFPdqoh8h534A9+CbkLBJCyfO1M0LoNEwz687UD6t9z3S3x+YeYz0Zl+/RI7GlsSKxpbEisaWxIrGlsSKxpbEisaW93XK01v8+Shv/Fpx26C0SAAvax5/HvPq/lJzlQsRjN+lw8/vi6vfSaPK816jr05c+bg9/u/9LPS0lJuvvnmk9xR93bi4a/FjiXYTDD0r7MZAq10Rq0kpJzAvl/iTP8P8Ey/fokNfaVHYkVjS2JFY0tiRWNLYkFfzZdY0djqfjxhL08feAmAF+peZ39nHc6gi7PShjMyZRADkvrwg5yJpFrsJJvtMetDvw8l1hYuXHiqWzijnHD4G87tS8/UT9hZB5OKDm/z7q6hLbc/RaZvv6+IiIiIiIiISHd30NvAiweX8OqhtznkawSgwd/MpMxzuDp/CqNSh2A327CZEkmPSz3F3YrI6cZ4wiewjGHy+DY+enQ5hwIQ8Vfw/PPbSL/kwsMPe2uvYPlbW2g+ln1FRERERERERM4AO91VPLDnj1xb+Sv+WP086x2V1PnqGZk6hCeHPcC9A/+Ty3ImU2rvS6+EPAW/IvKtGKLRaPRETxL1bePN3z3M81sP4glnMOj8Odxw8xjyASrvYubsBH664ddM/oZ9Dy6+ltlP1hH43LlNFHDxY09zU/8T7fL0NnnyZJYtW3aq25BuSF/pkVjR2JJY0diSWNHYkljQV/MlVjS2Tk/rHRU0BxzscO9hbdtGNrfvoCPs4azU4VhNcUzOOpdhyaUMTyklwRR/Unvr8IWo2OcgOS7E4JIcTEbDSa0vIrHRJeGvxJ7CX4kV/Y+uxIrGlsSKxpbEisaWxIICOokVja3TRxRY2/YJH7VtYm3bRhzBdvZ6DmDAwNDkAQxLGcjkrHLijBbGpY86qb3VO3zUtnTS3hmkYp+TPfVuzhuQzIzyPlgtJ/xlcRH5DjjxB76JiIiIiIiIiMhROsNeKtu3s9m1g2VNH7K8eQ3ukIcSWy9Gpw5lXPoozk4bTomtgJ7xOSe1t7qWTnYcdFOxz0lVQwcOT4DdhzoYmJ9MvcNPOKJ5giLdhcJfEREREREREZEu0Bpw0ORvxRPuZKtrJ6/XL+ONhmVkxKWSE5/F2MSRTMo8hym5F9I/qeSk9nagqZNwJEK908dHu1pZsaWJ6iYPSfFmCrMS+f7IHM4dmInH49GSDyLdiMJfEREREREREZET0Bpw0hnu5J9tn7CsaQ0HfQ2sbPmIbGsmvRLyuDh7PEOTBzIt92Ly4rNPSk/hSJQOX4gOb4gml583Pz6EPxjhwx0t+INhEuJM9M5JYnCvZC4py6O8NBM4vKSIlnwQ6T4U/oqIiIiIiIiIfAuuoBtnyMVbDe+zq6OKjc6tfOzcQqolmZGpg5nZ8zLAwPWFV520B7j5gxE8/hCt7gCV1U42Vzt5ZV0dcWYjVouJpHgz3xuZQ0mPJAYVJDOqt9aNFunOFP6KiIiIiIiIiByjKFGCkRDBSJCna/7OI/v+wv7OOkwGE3FGC6NSh3BDybVc1fPSk9ZTKBwlGo0SjkbZVOVk6cZ6Nh9oZ2+9G7PJSGKciWFFqQwtTGHGOb3Iz0g4ab1JbLUFnQSiQQBSzHYSjCfnjwzfZPny5bz22ms8/vjjR73+MpdeeikPPvgg/fr1+9pz7tq1i2g0yoABA2hububqq6/mjTfeICEhNuP5ZNQ4GRT+ioiIiIiIiIgcI0+okwX7nuGRfc/SHnITjBwO3s7PHMONJdcyKesc4oyWk9rTOxUN1LV2sm53GxXVTsLhCOEopCXFMeu8QmZNKMJoBKPBgMWkJR26i33eA7SH3Efe1/sb6RmfSw9Lxins6ovOO+88xo4de8LneeeddygsLGTAgAFkZGTwyiuvnNah7Mmi8FdERERERERE5GvscO9lWfOHNPtbeeHgEpxBF86gi6t7TiEjLpWLepzHiJRBpFqST9ryDgB//2ctr3xUR12rl1A4ii8Ypk9OEqNK0shNj+eiETkkJ5hJtJpOWk9y/HZ1VtHkbz2uY/zRAPs7D35he6V7B30SCo+7h362ErLjMr+w/YYbbmD8+PFMnz79yLZrr72WmTNnMmHCBB599FE2btxIJBIhPz+fW265hZycnKPOsWrVqiMzfyORCE8++SSrVq0iKSmJ733ve0ftu2nTJp588kncbjcGg4Fp06Yxbdo0Fi9ezLJly7DZbNTU1DBz5syjZuV++umnPPHEE7jdboxGIxMmTOBHP/oRRqORa665hssuu4xNmzbhdrsJBAL85je/IT8//5juzWczlzs6OigrK+Omm27CarXS0NDAQw89RF1dHZFIhJEjR3LTTTdhsRz+48/SpUtZvHgxXq+XgoICbr75ZnJycmhtbWXBggXs3bsXo9F45BpjReGviIiIiIiIiMiXWO+o4MW6N1jVuo62gJNAJIg75GFm/mVcnT+FooR8LEYzGXFpJJpiPwOx0enjw+0t+IJh/rGxnkannyaXn1A4wug+6VwyKpcRJanYEyxYLUbSk+Ji3pOcuP/e8wQv7P/7cR4V+ZrPjn9296KyB5nV84df2D558mTefffdI+Hvnj17aGlpoby8nP/5n/+hqqqKZ599FpPJxO9+9zueeuop7rjjjq+ss2bNGj744AOeeOIJUlJS+Nvf/obf7wcgGAxyzz33cMstt1BeXk51dTU/+9nPKCsrY8aMGaxbt47y8nIuv/xympubj5zT7XZzxx13MG/ePMaNG4fL5WLOnDnk5uZywQUXYDabWb9+Pffddx9ms5n58+ezePFifvnLXx7TvamqquLpp5/G6/UyZ84cli5dytSpU3n00UcpKChg/vz5eDwefv7zn/POO+9w6aWX8umnn/Lss8+ycOFCsrKyePrpp5k/fz4PPfQQ8+fPp7S0lHvuuYeWlhZmz55NcXExI0aMOJ5/ZcdM4a+IiIiIiIiIyOesbPmIJQ3L+Nixmb2e/TT5W8mN78HU3Iv4fvZE+iYV0ddWhMkQ+xm1LS4/+xo9bN7vZN3uNuodh2f51rR0MmlID4aZUzirXwal+XYKs2yk2k7ukhNy4oYk9WZEdvlxHeMhRGPI96WflZiTjruH7PisL91+/vnn8/jjj9PY2Eh2djbvv/8+5eXlJCQk8MMf/pBLL730yEzXsrIyXn/99a+ts3HjRs466yxSUlIAuOyyy3jmmWcAsFgsvPDCC0eWciguLiYjI4O6ujoKCgq+8pwVFRXYbDbGjRsHQHJyMuPHj2fdunVccMEFAEyYMAGz+XAM2rt3bz755JNjvTVMnToVo9GIzWbj3HPPZfPmzUydOpW77roLg8EAgM1mY9CgQdTV1QGwevVqxowZQ1bW4fs6a9YsgsEgHo+HiooK5s2bB0BmZibPPfcc8fGx+8aAwl8REREREREROaP5In6WN/8TgNWt69no3Epl+3ZyrFmMTh1GfkIu4zPOYnhKKaX2vielp837nazd2UpVYwctrgB1LZ20dAQoyEikd3Yi104qZmBPOyajgeJsG0nxinhOV7f2/ndu7f3vx3VMmDCfuncR+T8zgJNMNvomFndZb3a7nbPOOotVq1YxY8YMPvjgA2699VYA6uvrWbRoEYcOHcJoNNLe3v6Na/C6XC7y8vKOvLfZbJhM//ojynvvvcfKlSuJRqMAOJ3OI6+/SltbG6mpqUdtS05OZteuXUfeJyYmHnltNBqJRL5u5vTR0tPTjzqv2314neWtW7eyePFiOjo6MBqN1NfXM3HixCM9ZWdnHznOYrFgsVioqakBDt/Xz9hstmPu5dvQTwYREREREREROSO1BZysbdvIWsdGPmrbBMDHzs30sRUxMXMcEzLHUmrvS058FgOSese0l2AoQkW1E4CtNe1U7HNSUe2g1R0gJzWeESVplOYnk5sWT8/0w+/lzGXCRB9bEbW+Q3jDh2cAp5jt5MfnfcORx2/SpEm8/PLLDBgwAKPRyLBhwwB44IEHKC0t5de//jVGo5GlS5eyZMmSrz2X3W4/Ep7C4TA4HA4DsGHDBhYtWsTChQvp2bMnAFddddU39peRkYHT6Txqm9PpPCq0PREul+tIWOt2u0lOTqajo4M777yT22+/nfLyw7O277///iPHpKen43A4jrwPBALU19eTmXl4XWWHw3FkbeSmpiasVuuR2dBdTeGviIiIiIiIiJxR6n1NbHbtYIOjkmXNa1jT+jEGAwxLLmVG3g84P3MMg+39KbEVkGaJTSDzmQ5viB0HXWyvdbF25+GHfn1S5SAr2UpuagIjitMYWZLK2P4ZDMxPjmkvcnqxGRMZkNgn5nXGjh3LQw89xBtvvMHkyZOPLHXQ3t5O3759MRqNNDU18e677+LzfflSFJ8ZNmwYTz75JA6Hg7S0NF599VWMRuOR86WmppKbm0s0GuW1117D6/Xi9XoBMJvNRwXHnxkxYgSdnZ3885//5JxzzqGtrY1Vq1bxi1/8okuu/x//+AezZ8+ms7OTNWvWMG3aNDo7OwmFQvTv3x+AyspKtm7dyqhRowAoLy/nzjvvpKamhoKCAl588UUqKyt5+OGHGT58OIsXL2bOnDm0tbUxd+5cbrvtNkaOHNkl/f5fCn9FREREREREpNur8R7CE+qkKdDKP1s/YUnDe1S2byc9LpXByf3pl1TMlJzJTMm5kBSL/ZtPeAJa3QHaPQHcvhDba10s39LEP3e2AFCYlcio3mmcOzCTTHscA/OTKc6O7dfCRb6OxWJh/PjxLF26lGefffbI9uuuu44nn3ySl156iby8PP7jP/6DO+64g//6r//inHPO+dJznX/++Wzbto3Zs2eTkJDA5ZdfTnJyMuFwmPLyclauXMmsWbNITExk+vTpTJkyhT/+8Y/06NGD8847j8cff5wdO3Yc9bC2pKQk/vu//5s//elP/PnPf8ZoNDJ16lTO6fHyOgAAIABJREFUPffcE7ruz2YkFxYWMnv2bFwuF6NHj+biiy/GYrFwxRVXcOONN5KYmEhZWRlz587lgQceoKioiB/+8Idcd9113HnnnXR2dlJcXMxtt90GwLx581iwYAEzZ87EbDZz5ZVXxiz4BTBEv2nhDPlOmDx5MsuWLTvVbUg39Nlf20S6msaWxIrGlsSKxpbEwmdf+dTYkq6msXXsDvoaiEQjLKp9lWpPLeudldR0HiLVYqeHNZOJmWMZkTKYmfmXxbSPTn8Yjy9EqzvAut2t7Knv4ECzhy0H2slMtpJkNWOLN3PJqBwuGZ1HSuKpeXCbfh+KdC+a+SsiIiIiIiIi3UY4GsEf8eMN+2gLtvPUgZfwhX28Vv8ujmA7qZZkvpd9Puekj6IwIZ8puZNj1ks0Ci5vELc3xM6DLrbVuHinooF6h484s5E4s5ERxalcUpbHoF7JlPbSsg4i0rUU/oqIiIiIiIjIaS8cjRCMBGkKtLLeUcHqlg08Vr0Ik8GI0WDCYjRzec6F3FjyU85KGxazPiLRKOFwlCjg6gyyaOUBnlt1AF8wjMlowGIycs6ADIYUptA/z86EIT1i1ouIfLV3332XxYsXf+Xnt912G336xH5N5VhT+CsiIiIiIiIip70NjkoW7HuGtxrfJxwNE46GMRgMjE4bxtmpw7m+aCa9EwuxGGO7nMLe+g7e39pEqyvAK+vqCIWjBMMRAC4ensOsCYUM6JmM0QBGoyGmvYjIV7vooou46KKLTnUbMafwV0REREREREROS68deoc6Xz2rWzewzrEJZ9CFJ+Qly5rBdYVX8v8KriTeZCXeaCXZYsdiiF0M8sleB4vX1rJ+Txud/jCR/33E0lXn9ALg0tF59MxIIDnBjMVsjFkfIiKfp/BXRERERERERE4bEaK8WPs6fzv4Brs7qvFH/DiDLooTe3FR1nn0SsjlkpxJ5MVnkxefHdNe3qtsZGtNO3sOualt9dLk9OH2hchOieeSslwuHJ5Nj5R4ALKSrZhNmukrIieXwl8RERERERER+U6r9zXxbtNqdnVUsbOjij2e/ezt2I8/EmBs+kjmFM9ibPoosuLSSTLb6JWQG5M+XJ1B1uxoIRqFFVub2NfYQas7QHtnkJLsJC4dnUdJjo3iHjYKs2zkZyTEpA8RkWOl8FdEREREREREvnO2u/ewr7OWOm89q1vXs929hwZ/M03+Vi7IOpfzMs6mt62AQfb+DE8pJduaGbNeGhw+1u5qZcOeNvbWdxAlys6DbkYUp5KdEs/AXskML0qlICuRzOQ4khNiu66wiMixUvgrIiIiIiIiIt8Zle3b+ahtI2vbNlLna6De10RzoI2hyQPIsWYxNn0U49JHUZTQk14JecSbrDHpo6rh8KzeeoePTfscVOxzsrvejcVkZERxKtddUMKI4lQSrSZ65ySRYY+LSR8iIidC4a+IiIiIiIiInDKBSJDNrh0AbHPtZmXLRyxvXsMhXyO58VkMSy7lyp6XMjptGAlGK5OyzolpP3vqO9hZ5+LjvQ4anT5qWzpp8wTJT0+grHc6g3olM65/BuMGZOjBbSLynafwV0REREREREROKl/ET1vASaO/hR3uvbzRsAyAt5s+INWSTLIlib5JRZyTXsaUnMmclTY8Zr34gxFqWzpp7wzi9ARZta2ZFVsb8QUipNgs5KTGM35QFkMLU0hOtHDuwNgtLyEi0tUU/oqIiIiIiIjISeEMujjoa2Sfp4atrp1scFTyZuNy7OYk7GYb/ZNKuCxnMrnWHoxJH8Ege7+Y9NHhC+H2hvAHw1Q3eninooHd9R3sPuQmzXZ4zd7Rve2U9kpmbP8MhhSmxKQPEZFYU/grIiIiIiIiIjHTHnQTJoIn1Mny5g956sDLrG3biMVoJtWSTP+k3oxMHcyI5EFcWzCD9LjUmPXS6Q/j9gbZuM9BRZWTg21ePtjeTJLVDAbITUvgstG5jOqdxqBeyaTatI6viJzeFP6KiIiIiIiISJeKEiUYCRGIBHn6wEu0BBwsaXiPXR3VmAxG4k1W+ieVcEPJtfy04IqY9hIMRyAKoUiUFVsa+esHB9ha047BYMBiMpCfnsC0MT0xYmDWhELi40wx7UdE5GRS+CsiIiIiIiIiXcod8vBI1V9YUP0X3MEOokQJRcNMyhxHWepQhqUM5NKcC7AYLDHtIxKN8sKqGnzBMG99Uk9NSyehcBSAvjlJzDq/kB+U5WI2GsAAFpMe4CYi3YvCXxERERERERE5Ydvcu3n10Ntsav+ULa6dOIMunEEX0WiUabkXc13hVQxPKcVqsmI1Wkg0JcSkj4OtXlZsaaIzEOLVdQdxdQaJRsHjDzG2XwbFPWwMLkjm7P4Z2BPMJGimr4h0Ywp/RURERERERORbWdnyEfs8NWx27WB163qa/C24Qx6iwFU9L2VI8gCGJPenICGPvPjsmAW+DU4fuw+52bCnjbU7W2nrCBCORGl2+emXZ6dfbhKTh2fTL9dOfJyJpHgz9gRFIiLS/eknnYiIiIiIiIgcl7cbV/J6wzIq27fhCnXQGnBgN9sYn3E26ZZUvp8zgT62ItItqWTEpWIyxGZ27frdbazY0sjeRg/tngBN7X6aXX6SEyxMGtqDSUN7kJIYR2qihfzMBM3yFZEzjsJfEREREREREfla7UE3H7Z9TDQaYXnzGirat1HZvh13yEOpvS9X95zCuRmjKUzMx2ZKoNTeNyZ9+IMR1u5soa7VS21rJ7sOdrDzoIv2ziC9MhM5q286vTITKcpKZEB+MgN62mPSh4jI6ULhr4iIiIiIiIh8QXvQTa33ELs69vGRYyMbnZ8SiUZY69jEiJRBjEodQqm9L2PTRzEufRQlib1i0kezy091owePL0RFtZOKaicNDh/1Th99sm30y7NTmJXIiOJU+ve0k5uWQIY9Lia9iIicbhT+ioiIiIiIiMgRVZ4aNru2s8O9l32eGra6dlLp2kGONZOc+B5c22sGE7PGkWS2MTJlEHnx2V3eQ21LJ05PkBaXn8r9TnbWuXH7Qmw50M6APDspiRbK+qRxVt900mxx9MlNIj8jNusJi4iczhT+ioiIiIiIiJzBokTZ07GfcDRMjfcQK5rX8HrDMvZ0VJNqsdPHVsyMvO/TP6k3A5N6MyX3QuKMli7uAQ40eYhEohxy+PhoVyuH2rxUNXqob/OSlWLFajZx8YgcJg7OAmD8oCyS4hVriIh8Hf2UFBERERERETkDBSJBDvkaqfPW82LdEvyRAG83rSQQCZFoimeQvS+j04Yxs+cULuxR3uX1Q5EoHl+IDm+IBqePtz6pJxCKsHp7M25vCJvVRFpSHJOGZlPWO420JAuThnb9LGMRke5M4a+IiIiIiIjIGcIX9uMOe/CF/dR6D/HUgZf4S81iAFIsdlIsyUzL/R79koopSx3KuPRRXd6DPxjB7Q3S2O5nW207lfucvLb+IABJ8WbsCRbKeqdR2iuZCYOzGFGS1uU9iIicKRT+ioiIiIiIiHRjwWiIaDRKOBpmdesG/n7wLdY7K9nu3oPFYCbBFI/JYOT/FVzJDb2vpTChZ5f3EApHCUeiRKJRNlU5+OsHB1i1vRkDYDYZsVpMmAwwfUw+syYUkpeu9XtFRLqCwl8RERERERGRbuzlujep8R5iWfOHrHdUEoqGCEcj5Fiz+Peiqzk7bQRj0kaQYIrH0sVr+X7m7U31rNnRyuYDTuodPkLhCAAZditXnduLYcWpDCtMIT7OhMVkjEkPIiJnIoW/IiIiIiIiIt1MOBrmzwde4ukDL1PjPUgwGqIz7GWofQBj00dSlNiLabkXk2KxYzXGEW+yYsDQZfU9/hCvrK1je52b7bXttLoD+AJh/KEIA3smM6I4lZ4ZCUweno093ozVYiLOYuzCDkREBBT+ioiIiIiIiHQLNd5DLGv6kI5wJy8ffJNDvkYO+hoJRUJMyBzL1flTGJM2ghSLnQRTPJlx6V1av7rJw8a9DhyeAMs2N9LU7sfjC+Pxhzh3QCZZKVaGF6UyrDgVe4KZeIuRtKS4Lu1BRESOpvBXRERERERE5DRV72tiZ0cV69o2sbLlI2p99QQjIao7a5mSM5kxaSOYmDmO4SmD6JtURJolpUvrV+xzUu/wUtXg4ZOqNppdfvzBCK3uABMGZwFw3qAs+ubaSYgzkpFsJSUxNktLiIjIFyn8FRERERERETnNfOzawgfOdRwIHaLB38w+Tw3NgTZKEgsYnNKPX/WZzbCUUkwGEwOSemM327qkbjQKta2d1DZ38nGVg60H2mn3BGl2+fH4Q/TKSKQ0P5kx/TPon2cHoF+eHatF6/iKiJwKCn9FREREREREvuN8ET/r2ioA2OCsZFXDOja4NtMSdFCY2JNx6aMYnlJKr4Q8ihLyGZs+sutqB8PUO3wcbPFSsd9Jg8NHvcPL1hoXZpOB3NT4I2Fvblo8BZkJDCro2hnGIiLy7Sj8FREREREREfkO6gx7afA1U+s9xMb2T3m/eS0AH7SuIy+uB73icxmfdTbnpI/igqxyhiYP6NL6ze1+9jd7qGnx8umBdqobPazb0wpA39wkhhWlUJqfTJ/cJAYXpFCS3TWzi0VEpOso/BURERERERH5Dmn0t7Cno5rdnmp2uquobN/Gipa1ZMSlkm5J5fyMsym3n0WmJY3xeWfTN6m4y2ofavPS4g7Q7gmyrbadj/c6qG700Or20yszkVG900hNtHDeoCwG9LRTnJ2EPUHRgojId5V+QouIiIiIiIicYvW+JkLREK0BJyua/8nfDi5ho/NTEkxW8uKzGZ9xFkOS+zPY3p8re15KpCMEQFpS2gnVDUeiNLX7AWhx+VmxpYnKaie76934gxHsCWasFhPnDMjkouHZ9Otpp1+eHZPRcMLXLCIisafwV0REREREROQkC0XDuEIdEI3iDLlYVPMqzmA7Sxs/4JCvEaspjpz4LAbb+3Fd4VVc2fPSo4534PjWtQOhCN5AmHAkSqPTx2sfHQRgyceHCEeimIwGEuJMnN0vgxFFqeRnJjBxSI8Tul4RETk1FP6KiIiIiIiInCSRaIRANEhN50GerXmFUDTMI9V/IRQJYTQYsRgsXNRjPGWpQxmeUsr3syd0Ud0okQiEIhG21bhYta2Z5nY//7PhIEaDAaPRgMVk4LKyPHLT4zlnQCZDCvXQNhGR053CXxEREREREZGTZItrJwv2PcPiQ/8gGDm8dEMgEqQsdQhnpw3nmoIZDLL3w2QwYTQYu6zu/iYPm6vbeaeigfV72ghHokSjUeLMRoYVpjK0MIUfnVdAZrIVA2hZBxGRbkLhr4iIiIiIiEgMLW1cyfLmNWxq30aVZz/OoAtPyIvdbOO6wqu4vnAmyZYkrEYryeYk4oyWE64ZjcK22na21bh485ND1LV6CYQiePxhbFYTpfnJlPVJ4wejcrFaTFjNRuwJZowKfUVEuhWFvyIiIiIiIiJdKBwN82LdEgKRIP9ofJ9t7j04gk5coQ6KEvK5MGs8PawZTM29iLz4bPLis7tslq+jI8A7FQ3sPtRBRbUDV2eIFrefQCjCsKJUxvRLZ1BBCn1zkrAnmsm0W7ukroiIfDcp/BURERERERE5Qe5QBzvdVWx17eKNxuXs7agmTISazoMMTxnEiJRSSu19Kc84ixxrFgmmeIoS87uk9t76Dj7e20Z1UyfVjR3UtnhxdgZp9wQoH5jFD8pyKcm2UZRlIzvVSqrNQqJVcYCIyJlAP+1FREREREREvqU9nv187NjMdvceNrV/ykFvA1tcOwE4P3MMP86fyujUYaTFpZAX34Oe8TldUndrTQcub4h6t5PKagf7mztpcfmJRKKMLEmj2Ghg3IAMSvOTyU6NJys5DqvF1CW1RUTk9KHwV0REREREROQ4VLRvoz3oZo+nmrVtG9nq2kWt9xC+iJ+zUodxbcEMeiXkMiZtBOPSy0ix2LukbjQKm/Y5qKh2smFXE25fmEOOAEajgfyMBHpn2xhRksagXskYDDCyJE0PbhMROcMp/BURERERERH5GuFomAZ/Mw2+Zra4drKyZS1tgXa2uXfjjwToGZ/D0OSBjE4bynkZYyixFdA7saBL1vF1e0Psb/IQDEfYUedm7c4W1u5qJc5sIMNmYWhRyuGZvj1sZNjjGFKY0gVXLCIi3YXCXxEREREREZEv0RHysMeznz0d1ezsqGJnRxVvNazAaDCSEZdKUWI+56SXMTi5Pz3jsynPOKvLajs8ARzuANVNnbz1ySG8gTCrtjVTmGUjNy2eYb2S6JebyITh+RT1sHVZXRER6V4U/oqIiIiIiIj8L0ewnY6QB0+ok0rXdl6sW8KbDSswGAzkxWeTn5DLqNQhDE8u5XvZ51Nq79ul9Z2eAI3tfjZWOdhW46Le4eXjvQ56pFgZ2TuNS0blYjEZGZ4fR4bdQlqagl8REflqxxz+Bvcv4Q//38ts2OvEkFDIyB//il9NLcF6nPtGfdt45f6HWbzlIJ5wBn3HXc9/3Dae3kAkcoD3H5zPovUuIgkBTLazufqmG7l4gDJqERERERERiQ1/xI8v7McV6uC9pg/Z4trBp+7dfNj6MUnmRDLj0siIS+O6wqsYnTqUkamDsZuTurQHtzeE2xvk/a1NLF5bx65DbiwmI8mJZgYXJDNjbD7TxuYf2d/hcHRpfRER6Z6OKVUNs4knb32O5qm/56VHiqH+de79xV08VrCIW0aZjnnfm0d18vF9v+Ht0M08/PJ4ciPbWPSrW3n44V48elMxtX+6nT/vuYIH/jaFIkuAg2/MZe5dT1Hw959RGpPLFxERERERkTNRlCjBSIhAJMgnzi2sc1SwqPYVdnfsw2gwYTaYGGzvx/S875NisTOneFbX1o9CKBwBIBiOsnhtLX/94ADNLj9GgwGrxcSgXsnMOq+Qi0fmdGltERE5cxxT+GuqeJt13vH851XFh2f65l7OVee/wP1LNsOokce8b2RoK/9Yn8OEJ8eTFwcwiB//ZDBv/+Fdtt/0U9pqGkgaW0axBSCO/OHDyXuglv1hKDUhIiIiIiIi0iXag24e2fcXHtn3FzrDPiLRCMFoiJLEAs5OG86UnAv5Qc5EzAYzhhjUb3b5eW1dHeFwlOdWH8DjDxMKRZk0tAcl2TZGlqQxpl86ZvOJPzRORETOXMcU/rpq9tPZYxp5n9uW3z8b7wu11DGS/GPct77xEE3BXMZ/7gBTYQEZdbXsD8dRdv5A/M+/y6czfsqgJDd7l23BM3AKQxX8ioiIiIiIyAn61LWL91vW0uBr5qWDb+AMunGGXESjUabnfZ/rCq9koL0v8UYrNnMiiaaELu9hz6EOFq+tZfnWJjq8IQBc3iCXjc7jinG9KOqRiMVsxGoxEm/R/wyLiMiJOabw1x0IYbDYSP7ctjhzHAQD+I9j30DITSiYhOVzVaNxGSQa9uFth4yL/5Nr197GrTPewBYfwBcZwU8XTD4SLp/paxqd6dcvsaOxJbGisSWxorElsaKxJbGisXXqrHZuoMZ3iC0dO/mofRPOkItANIg37OPyrAsBmJJ1ASXxBeSYskjwxQMQwEcAX5f1sbWmg/e2tlC5302zO0B7Z4iEOBMXDsngwqEZ5KRaybJHMIU7iYTB6wfvMZxXY0ti4UweV2lpaae6BZEudUzhb5LdTDTowQVk/e+2QCgAlrijQt5v2tdutmMJNhEM/auyIdBKZ9SKNc3D1t/P4wXPbB574wKKLAGa1vyO23/+e1Je+TUTbPoP8Ey/fokNh8OhsSUxobElsaKxJbGisSWx8FmAorF18v2j8X2W1C+j0rUdd6iDloCDFLOdczNHkxGXxveyJ9A7sQCA3rZC4oyWLu9h1afNePwhKqqdbK1p50BTJ0nxZsb1zyTVFsd5g7IozEqksEciRsPxLS6hsSWxot+HIt3LMYW/KYWFJB3Ywz6+RxYQJcDBrbXYCnsfCXiPZd/07ER6pn7MzjqYVHR4f+/uGtpy+9PLsJ81G32UzL3gyJq/6edezAAepGI7TBjddRctIiIiIiIi3Ysj2M6qlnXs66xln+cAm107qGzfQUfIw+Dkfvw4/3LOSS+jMDGfJFMiA+19YtKHLxDmo12t1LZ6WbGlEY8vTE1LJz1SrIwvzWRoUSpDC1NItJronZMUkx5EREQ+c0zhb3jAVM5N/zUvv3Qpw68qJnDgdf66IoNRfxgIQOeuFXzo6MdFY3p97b5GSyGTxy/kkUeXM/X+C8iJVvD889tIv+Q/GEI8rbmdvPDeJprPHUkWENi8gp0dRXy/dyxvgYiIiIiIiJyO9nfWsb+zjpZAG2vbNrLBuZk6bz213kOUpQ6jLHUIg+z9GJs+knHpoyhO7BWzXhyeABX7nFRU///s3XmQ3PV95/9nnzPdPdPdc/Tc92h03xI6RkISSAiEARmMMBCDQ2z/4jhr4nXiHL+t3+7WVtbe2vUmGCeV38/G4IDNYdkJwtgYSWAJpBGgY3QgaSSN5tLcR9/X9Pn7A69DHMeWge7R8XpQKlVNfdT9+oq36vvtV3378/VzvMfPiD/OqC9GW3Uxd6ysZlmzm1nVRVSXFOJ2WHOWQ0RE5P0M2Ww2ezkLE8M/5Zv/40kOdEfBNYv2B/+cR++sowC48A/38leHP8+TT27B+VvWZuOn+fFXH+N7p4aIpMtYsOmPefTLa6gDssG3+e7XvsPrF6JkbAlMhlms+syX+A8bK3L5d3BVuOWWW9izZ89Mx5BrkL7SI7mi2ZJc0WxJrmi2JBf01fyP3mTCy2h8gnPhHg56j3A+3MvY9ARd4YvMLZqF0WBgqWs+m8vXYTfbWelaSFVhbj5ThmIpJoPTXJqMcrI/wMGuKU70+fE4CygrtjK3tpjVs8ton1OGx1Xwkb63ZktyRedDkWvLZZe/MrNU/kqu6MQuuaLZklzRbEmuaLYkF1TQfTQy2QzdkT4mEz6O+E/xbvAcP5/soDvSj9vipK2oiSXO+Wz2rMNsMPHx6q2YDZf1RdcPZNgbI55Ic2YoxPEeP8d7/fSMR6hyF2Czmti4oIKWCjs3LarAUZibHJotyRWdD0WuLbk7G4qIiIiIiIh8QLF0nMmEl1Q2zaXYMM8OvsSJ4BlOBc9RaCyg1OpmuXshS5zzeLBuO1s863OaJ5uF8UCc8cA0e0+MMRlKcLzXz1ggToWrgE0LPLTPKcNeYOL2FdU5zSIiInK5VP6KiIiIiIjIFSGZSRLPTBNORTkVPMdPxl4jkAzx9OCPcJmdGAwGyq0l3FV1C1s861juWkSdrSqnmdKZLMFYEn8kyc6Dl9h5aIhQLInNasJps7Bxvocd7XWsmVOW0xwiIiIfhMpfERERERERmVHJbIpkJsn5cC9v+zp5cWQ3r068gQkjJoMJt8XFo82/j9Vo5eH6e6iz5fbO2nQmSyaTJZN9b4uHp/f189yBAcwmIwbAZjWxdUklD21qZGGDK6dZREREPgyVvyIiIiIiIjKjnhvcxeM9T3E2dJE0adKZNKUWN6tLlrKxbDVfaH4Yq9EMGLAYc/8x9nivn8PdXvrHo/zs+CjJdBaT0cBDGxqwmI1sX1VDXZkdi9mQ8ywiIiIfhspfERERERERybtkNsUTfc/xxMALXIqNEEgGSWSSrCpZyl1VW7jBvYTFrrnYjIUUme15ybT/9AQdXVN09vroG4+SSmdwFJi564YaFjY6WdNWhslkwFFoxmxU8SsiIlc+lb8iIiIiIiKSN+PTkzw7uIsfDP+Eofgow/ExWuwNbCi7gdsrb2JVyTI81lKKzQ7sJlteMv3s2CgvHx2hezRMIJIkMp2ittTGHSur2bjAg8dZgKPQjKPQjCpfERG5mqj8FRERERERkZzrjvSza2Q3eycOcCHSS39siO1VWzEbTHyiZhuzHS002GsoseR+D914Mk3PWISLI2FeOzVO71iE/okoJQ4L8+qKWdlayorWEhor7FS5C3OeR0REJFdU/oqIiIiIiEhOHPWfYmR6ggvhXg56j3AicIappJ+NZau5p/o27q6+DbPRzLyiVorMjpznGfbGOD8cZio0ze4TY0wEpukaCrGytYTVbaW0zy1jXp2TRo+dSpW+IiJyDVD5KyIiIiIiIh+pt32d9EYv8crYfgZiQ/RFB0lkErSXrqC9dCU3uBdTb6uh3l6DMQ8bKfSNR+js9dPZ46d3PEIknuLiaJilzW7+cGsLy5rdFFpNzKouorTImvM8IiIi+aLyV0RERERERD606UyC44EznAicYe/EQc5FLtITGaDMWsIS53zWli5ni2c9K92L8papZzRC11CQIxd9dHRN0TcRodhmYV5tMQ9uaGDt7DLa55Xr4W0iInLNUvkrIiIiIiIiH1goFeFCpJfTwQvsGt3NrtHdpDJpGu21rClZxqbytWyv2spC5+ycZ0mlswxMRAAYmIrx5ukJ9p4aJ5XO4rKbWdrkZkGDk82LKmmfW5bzPCIiIjNN5a+IiIiIiIj8zgLJEMPxMY4HTvPs0Ev8bHwf1QUV7/0qrODjVVt5oG47Tfa6nGeJJ9OM+6cZmIzyyrFRAF49PorVbKTSVciaOaW0VhbRUulgeWtJzvOIiIhcKVT+ioiIiIiIyGUJpsKksmmiqRhvTL3NE/3Pc9B7BIfZTqOtlkdbHgHg0/X34rIU5zzPdDJDMJbk/HCInQcH+dnx94pfp82Cy25h2/Iq7muvp8Fjz3kWERGRK5HKXxEREREREfmNEpkkAN+/9CKXYsP8bHw/J4NnsRgtLHLO4Z7qbZRYnPxR80M5z5JKZ8lms6QzWd7p9vLMvn4OdE1hNhqwmIzYrCYe2tjIwzc14rJbcp5HRETkSqbyV0RERERERP5diUySb/Q8STKT4smBF7gUGyGVTbOudAWPtjzC7ZU3YTaYydcj014+MsyoP86Bs5OcGgiSSmdoLLezdWklTpuZBzc0YjEZMJuMeUokIiJy5VL5KyLmpZ44AAAgAElEQVQiIiIiIv/GSHycJ/qf57uXfog/GSRLllAqzK2ejXy28X5WlSzBbXFiN9lyniWVzrKz4xLJVJYfvTXIiC9OPJlmbm0xSxrdNFc6+NjKaowGA/YCU87ziIiIXC1U/oqIiIiIiMgvnQ1189zQLn46to/h+Bgj8XEAdtTczoN125lf3EZNYRVF5tzvozsVSvDykWFeOTbKWGCabDbLVCjBipYS7rihmiVNbooKzRRajNriQURE5NdQ+SsiIiIiIiIc8Z9k18geDngPcyHShy8RYG5xCzeXt/Px6q3MLmqhzdGEzVSY8ywDE1H2nhyj49wU/eNRLk1FAdg438PmJZXMqy2m0WPHqcJXRETkN1L5KyIiIiIich076D3C3omDvO3r5ETgLBajmaXO+VQWlnNP9W1UF1Sw1DUfoyG3e+i+OxBgMpigbyLCsR4/XYNB/JEky5rdtFUX0T63jHl1TubVObW1g4iIyGVS+SsiIiIiInIdiaXjvO07DsDbvk46vEfp8B2l1OJmVckSVpcsZU3JclyWYpa5FuQ8z4k+P4NTMd48M8mQN8awN0YilWF5SwnLmt3Mr3diNBhY1uLGZMzXY+VERESuDSp/RURERERErgO+ZICzoW4uRgZ4YejHAPx88hAN9hq2lK/nxrJVLHctoMXRQEVBeU6zJFIZugaDnB0KcejcFL1jES5NxXDbLcytK2Zpk5v2uWUsbHDlNIeIiMi1TuWviIiIiIjINWwy4eVCuI8j/pPsmXiTc+EeuiP9zHI0cZNnLdsqNrG9ait1tqqcZ4nEU/RPROkeDbP3xBivnRonnclSU2JjSZOLVbNK2bK4graa4pxnERERuR6o/BUREREREbkGTSa8DMfHeGPqHZ4b3EWH9xgFRis1hZXcWHYDD9TexYN12yk2F+U8SzieYswf5+xgiJePDLPv9AQGoMJVSIW7gC2LKrljZTW1ZbacZxEREbmeqPwVERERERG5hgSSIfzJIC+O7uaJ/ue5GOmn0FRAZUE5bUXNfLbhk3y64d68ZIlOpwnGkhzu9vLDjkHevuDFZDTgdlgpcVjYsbaOHevqKbbpo6mIiEgu6AwrIiIiIiJyFcuSJZlJAVkSmRT/X9/3ebz3u4xNT2DEyKbyNWwsW8PcohbuqdmWl0ypdJZkOsOrx0d5Zl8/ZwaDGA0GrGYjtaU2HtrYyIMbGvKSRURE5Hqm8ldEREREROQqNhgb5ZlL/0Qik+DxnqeIpuMksknuqb6N2Y5mbipfy8byNRgNhrxl2nnwEk/v72fIGyOVzgIwp7aYhzc2ctvyKiwmY96yiIiIXM9U/oqIiIiIiFyFTga72Dd5iIHoME9e+gHZbJZAKsin6+/ls433M8vRhMVowWYswGq05DxPKJZi58FL/PCtQbzhJKFYkvVzy2kot7O42cUNs0px2izYrKacZxEREZH3qPwVERERERG5ihz0HuHZwV0cmDqMLxlgOpMgnU3zQO12HqzbTr2tmtrCSqxGa17yDE3FePnICHtPjTHun2Y8MM2tSytxFJq5fXkVLVVFFNvMFBXq46eIiEi+6ewrIiIiIiJyFdg7cYBdo3s44j9Jd7iPyYSPOls1O2o+xrbKTbQ5mphV1IyR/GzvcGE4zN6TY7zT7aV/PIo/kmDjAg8AD29qwmU3U+kuxKHSV0REZMboLCwiIiIiInKFSmVT7Bk/wN7JAxzzv8vxwBn8ySCzi5q5r/YObixbxVLXfOYWteYt07sDATq6pjje56drMEQilWFBvROX3cJDmxqB9/b3tZq1r6+IiMhMU/krIiIiIiJyhQkkQ3R4j9LhO/re796jzC+exVLXfGYXNdNeuoK1JSuYXdSct0wn+vx09vrp7PFzrMeH1WyktsxGa6WD21dUU2AxsqjRlbc8IiIi8tup/BUREREREbkCDMXHGI6P4UsEOOI/wZ6JA7w59Q5LXPPZXL6Oe2puo6KgnMXOOTTYavOSKZHKcHYwSNdQiENdU3Scm8LtsLCspYTlzW6aKhyUO60sbFDpKyIiciVS+SsiIiIiIjKDBmMjhFIR9k0eYv/U21yKjdAZOE2bo4l7araxveoW5he3MaeoFbupMC+ZIvEU/RNRLoyEee3kGK+dGqemxMbiJhftc8rYsriSBo89L1lERETkg1P5KyIiIiIiMgNG4uMMx8f4ydjr9EeHOBZ4l+5IHzWFldxWsZEH6razo+b2vGYKx1KMBeKcHQzx8pFh3jw7SYWrkEUNLrYtq+KOG2ooK7bmNZOIiIh8cCp/RURERERE8iSdzRBIBvEngzw58AO+M/ACo/EJ7GYbbrOTWzw38tnG+7m98qa8ZQrHU6QzWWKJNIcveNnZMcixXj9Om5k5NcXsWFvHjnX1mE2GvGUSERGRj4bKXxERERERkRzLZDMks0nGpqf4xsUnebz3uxgAAwbsJhsfq7iJR1seYX3ZDXnLlExnIAsvvTPMqD/Om2cnOTcUwmIyMKemiIc2NvLx1fnZW1hERERyQ+WviIiIiIhIjp2P9PKNi0/yzOA/k8wkSWVSfKH5IVzmYu6tvZ35RW1YjPn7eJZMZXh6Xz/JdIYfHRpi1B8nncmyrNnNw5sa2bDAg8VkzFseERERyQ2VvyIiIiIiIjnw+kQH74x1cjpygf2Bt/Eng1gMZj7TdB8AX2r9DC6Lk2KTHYvRkpdM44FpfnZslGQ6w5Ov95FMZYhMp1g/t5wd6+pY3Oim2GbGZjXlJY+IiIjklspfERERERGRj9jeiQP8Xe/TDIaHiWWmMRlMfLHl99letZXqQg8A1YWVmA35KVkvjobp7PEz4ovzo7cGyWbBG5rm1qVV3HFDNbOqiqhwFWIvUOkrIiJyLVH5KyIiIiIi8hH58ehr7BrdzcngWS6E+2i1NXBvxTZurF5Nm6OJRnt+99B9tz/AwGSUU/0B9p+ZIJ7IEIyl2Lyogs2LK2iucNBYYafQotJXRETkWqTyV0RERERE5EOIpKPsGT/A3okDHA+c5njwLPOKWvl806dYZJ3NoqLZLPLMz2umYz0+OrqmONkfwBtKMBVOkExlaJ9bxurZZcyrLWZuXTFGgyGvuURERCS/VP6KiIiIiIh8ABPTU3R4j9LhO0aH9wgd3mOsci/hDxsfZG3pctpLV2KL5WcvX4B0Jktnj4/OXj+dPX6O9frxRxLUltpY0eJmWUsJy5rdzK935i2TiIiIzCyVvyIiIiIiIr+DofgoJwJnecvXyd6JA3QGTrPEOY/PNd7PZs86bvHciNvyXsHqi/lynic6neLsYIizg0E6uqboODdFPJmmodzOqrZSlre4aZ9Txuya4pxnERERkSuLyl8REREREZHLMBgb4UKkjwNTh3lxdDcXwn20FTVxX83H2F61le3VWzEZjHnLE4wm6Z+IcnYwyGsnx9l/ZgKA+nI7jR476+aUs3lxBQ0ee94yiYiIyJVF5a+IiIiIiMhvMBIfZyg+xk/GXue5wV2MTk9QU1jJnVWbebBuOx+rvDmveQLRJOOBaU70+Xn58AhvXZjCZDRQXWKj0lXAtuVV3LGyhrJia15ziYiIyJVH5a+IiIiIiMivSGcz+JNBAskgTw78gO8MvEA4FcFitLDZs44vNv8+m8rX5DVTOJ4iFEvx5pkJdnYMcmYwiNVspLTISnVJIfeurWNHez1mkx7iJiIiIu9R+SsiIiIiIvILmWyGZDbJ6PQkj198isd7n8Lwi//ur72LOUUtbChbzfqylXnLlExnSKaz7Hp7mGf293NpKorR8N6dvstb3KybU8b21bV5yyMiIiJXD5W/IiIiIiIiv3Au3MPjPU/xzOA/k8wkSWXSfKH5IVzmYh6ou4s5Ra153dc3kcrw9M/7eWZ/P75IgmQ6y/q5Zcyrc7KwwcXGBR5MRt3pKyIiIr+eyl8REREREbnuHfIe44n+59kz8Sb+ZBCrwcxnmu4D4Eutn8FlcVJssmMxWvKSZzwwzc6Dl/jnd4YJxZIEYyluXVKJx1nApkUeFja4sJqNFFjyV0SLiIjI1Uflr4iIiIiIXLf2jL/Jc0Mv8Y7/OMOxMXzJIFWFHh6uu4f/0PJpAKoLKzEbTHnJc3E0zMtHRnjjzARjgWn8kSR3LK/CZDKyo72OSnchLrsFe0F+8oiIiMjVTeWviIiIiIhcd348upddo3s4EThLd6QPfzJIW1ETn2m8ny2e9bQ5mqi31eQtz6n+AK+dGufYRR99E1GSqQxrZpdiNRt5ZHMzFpOBmjIbhRaVviIiInL5VP6KiIiIiMh1IZyKsnfiTfZOHKQzcJoTwTNEUjEWOefyBw33sa5sJUuc82h1NOYt07GLPjrOTXGyP8DZwSAWk5GVrSXMqS2mfU4ZJqOBtpoijAbt6ysiIiK/O5W/IiIiIiJyTRufnuJM6AJTCR+P9XyHDu9RMtksy90LaS9dQXvJCtpLV9Bor81LnnQmS2ePj85eP8d6/HT2+nHbLayfV86yZjfz6pxUlRTicRbkJY+IiIhcu1T+ioiIiIjINWkoPspwfJwzwfPsHP4pkXSUQ95OlrkWsMQ1n5vL29niWU9lQXle8kSmU3QNhjg7GORg1xSHzk1RU1rIurllrGwtYe2cMpoqHHnJIiIiItcHlb8iIiIiInJNGYyNEEpF+PlkB29MvcOl2DDHA2eYVdTMJ2q2sb3qFrZXb8VhsuU8iz+SxB9NcSlopGswyN6T47x5dpJGj501s0vZMN/D5sUVVLoLc55FRERErj8qf0VERERE5JoxNj3Js4O7OBfu4VjgXboj/dQWVnJbxSYeqLuLe2tuz0sOXzhBPJmh43yAzr4gk+EMR3t8VLoLWNlawh0rqrnjhmocBfpIJiIiIrmjKw0REREREbmqZcniTwbxJ4M8N/gST/Q/z3hiEpfZyVbPej7beD/bKm/KS5ZQLEUmm+WVY6P0jkU4cnGK7tEoTruFxU0udqyt4+Or87O3sIiIiIjKXxERERERuSplyZLIJAmlInzj4pM83vsUsXQci8HCHVU382jLI6wrXZn7HFlIpTMAvHBggGAsxavHxxicimI2GlhYV8QjW1rZurQy51lERERE3u+yy99k3y6+/jcv8E63H4OtkeWf+gpfubuFX/f82d+0Nhs/zQ+/9hg7Tw4RSZfR1v45vviXG2j9xZ/1Hv8GX/v665z2JnGVruaOv/wKv7fQ/pEcrIiIiIiIXDsuxUb4xsUn+Vb/syQySZLZJJ+uv5dHWx5hXtEsLMb83OsSjCZ57sAAAE/v6ycUS5HKZFk/t4x7VpaxrMmJp7w0L1lERERE3u+yrobSHONbf/EME3f/L55/vBlGXuSvv/Cf+buGf+RPV5gue+2XV0Q5/N//E6+kvsxjL2ygOnOaf/zKX/DYY/V880vNZEef4a//y0Xavvoc/3OBmcHXvsrX/2E/a/5+2y/LYRERERERub6dCJzhif7n+fHYa/iTQZKZFJ9rfIDPNt5PbWElbosTi9GS8xz9E1F2HrzEK52jhGIpAELxFLctreTe9jpm1xSTng5TYDZiMhpynkdERETkV11W+WvqfIW3Yhv4s/ub37vTt/rj3L/p+3xt1wlYsfyy12YWT/GTt6u46VsbqLECLOBTDy3kla+/ypkvfR7LP+/Cv/K/8kcL3rvTt37zf+Ubmz/KwxURERERkavVganDPDu0iwNTRxiOj2ExmvlMwyfZUfsxagorqS2sxGQw/fYX+pBODwR5+cgwh857GQ/E8YYTmE3G9x7itrKahnI7Fe4CCi0mfL5ozvOIiIiI/Hsuq/wNDvQRrbiHmvf9rG5OJbHvX2KQ5dRd5tqRsWHGk9VseN8fMDU2UDZ4iYt4sV7w45w7wON/+nUOX4pC2VLu/Y9fYvtsbfsgIiIiInK92jP+Ji+O7uZY4F0uhPsotbp5pGEHWzzraXM00eJoyEuOI90+Xjs1xom+AP0TUaZC05Q4rNy7to6bF1XQ6LHT6HFgNukuXxEREbkyXFb5G0qkMFgcON/3M6vZCskE07/D2kQqRCpZhOV975q1lmE39BAJh0mEU1w81M09X/02X6yO07fz/+avHv0Hyl7+U9abwefzfeADvRZc78cvuaPZklzRbEmuaLYkVzRbV45kNsU+31vs97/NidBZTkXOUV9Qzf0Vd7DKuYSFjjk0W+ogAb5Ebv+/HekJcvhigLNDES6MRvBHU1S5C7hreQXLmotpq7LTWmkBkoSC/l/7GpotyRXNluTC9TxXJSUlMx1B5CN1WeVvUbGZbDJCEPD84meJVAIs1n9V8v62tcXmYizJcZKpf3lnQ2KKaLYAe5EVg8VC/dpPsKHaAlio33EvK574FofOwvpF+gd4vR+/5IbP59NsSU5otiRXNFuSK5qtK4M/GaTDe/RffvmOsqB4NsvdC7mzagufqN5Go7025zniiTTHevx09vrp7PHR2eunprSQthondWU2lreUsKzZzazqot/4Ov+nQNFsyUdNsyW5ovOhyLXlsspfV2MjRf0X6GEbHiBLgqFTl3A0tv6y4L2ctaWVdmrdh+kahM1N762PnR/AWz2HWZSSqDERn4j8q9dLGAwUf+jDFBERERGRK9nY9CQnAmc47D/BnokDHJg6wlLXfBYVz+VzjfdTY6tiiXMu9baa3/5iH0IgmqRrMMS7lwJ0dE1x6NwUs6qLaK5w8LEV1TRXOmiucNBYoa3pRERE5Mp3WeVveu7drC/9K154/k6W3t9Mov9Fnn6tjBVfnwdA9NxrvOmbza1r6n/jWqOlkVs2/D2Pf3Mvd39tC1XZTr73vdOU3vFF5mMlec/NZP7yW/zg/H9jx2wzAy/9kJMFq/izeTn9OxARERERkRkyEh/nQqSPt7zHeHF0NycCZ2mw17DYOZcvt34Go8HEVs+NlFrdOc3hDSfon4jybn+AvSfHONbjp77cRlOFnd+7sYFim5kVrSVUugtzmkNERETko2TIZrPZy1mYGP4p3/wfT3KgOwquWbQ/+Oc8emcdBcCFf7iXvzr8eZ58cgvO37I2Gz/Nj7/6GN87NUQkXcaCTX/Mo19eQx3v3SXc89r/5vH/9y26wwaKa1bz4J9/hbvmXFZHfU275ZZb2LNnz0zHkGuQvtIjuaLZklzRbEmuaLbya2x6kuH4GHvG3+TZoV1cjAxQYnHSZK/j0/X3UmC08mDddowGY05z+MIJxgPTHO728uMjI5wbCuF2WHA7rHxqw3sPkrt9RTX2AtMHe319NV9yRLMluaLzoci15bLLX5lZKn8lV3Ril1zRbEmuaLYkVzRbuZcliz8ZxJ8M8uzgLr7T/zy90UFspkI2lq1mW+Umagur+ETNtpxnCcVShGJJ9pwYY2fHIJemYjhtZubUFrNhngen3czHV3/4vYVV0EmuaLYkV3Q+FLm26JZaERERERHJqQxZkpkkoVSYb1x8isd7nyKYDGM2mrCbCrmpvJ1HWx5ha8WNOcuQzUIqnQEgmc7y/JsDPL2/H284gcVkZE1bKQ9tamT9vPKcZRARERHJN5W/IiIiIiKSU5diwzx+8Sm+1f8siUySZDYJwN1Vt/EnrY+w3LUQq9GS0wyj/ji73hkikczwzP5+4skMqXSGrUureHhTIwsanFhMud1iQkRERCTfVP6KiIiIiEhOHA+c4Y2pt+mLDvLkwA8Ip6IAPNKwg881PkCLowG3xUmB0ZqzDF2DId654GXYF+Of3hoiC4TiKe5eXct97fU0eOwU28xYzSp+RURE5Nqj8ldERERERD5Sb04d5ny4h7d9nfxsfD/TmQQGDPxR06d4sG47dbZqagorc3q379GLPnrHIpzsD/DGmQkSqQyZbJY7VlRz5w01VLoLqXQVYFHpKyIiItcwlb8iIiIiIvKR2D3+Jt6kn5dG99AZOI0vEaDAaOWTtXdwW8UmZjmaaCtqwoAhZxkOdk1y9hd3+w5ORQlEU1hMBrYtr2LDfA+NHjuNHgeG3EUQERERuWKo/BURERERkQ8smUmyZ+IAGbJ8u+9ZhuPj9MUGKbO42VFzO+vLVrHUNY85Ra05y5BKZ+nomqTj3BSnLwUZ8cWZDE5TVVLIrUsrWTmrhLm1TloqHTnLICIiInIlUvkrIiIiIiIfSDQdY//k2/zvi98mk81w1H+KJnsdn6i+jfbSFbSXrmCWoyln7x+KpTjW46Oz10/nL35PpDK0VRezfVUNy5rdLGsuobHCnrMMIiIiIlcylb8iIiIiIvI78Sb8HA+e4aj/FHsnDvDzyUMsKp7D3dW3sql8DVs866m31eTs/adCCboGg5wcCNDRNcXhbi8Ac2qKmVtXzKpZpbTPLae6pDBnGURERESuBip/RURERETktxqJj+NPBvElAxz2n2TXyG4Oeo/QVtTM9qpbuKtqC9urtlJqdecsw0Rwmv7xKMd7/ew9Oca7A0FcDguzqoporHBw80IPmxdX4nbk7kFyIiIiIlcTlb8iIiIiIvLvGpueZDg+xu7xNzgf7uVM6AIng13UFFayxbOOB2q382DddowGY84yTIamGfdP09E1xctHhxmYjOG0mZlVXcTaOWXMrS3mzpXVGI16ipuIiIjI+6n8FRERERGRfyVLFn8yiD8Z5NnBXTzR/zx90UFspkLcFicby1fz2YZPck/NttxlyEIwliQUS/HykWF2dgziDSewmIysaHFz4zwPle4Cbl1WlbMMIiIiIlc7lb8iIiIiIkImmyGVTZMlSzAV5hsXn+TxnqeIZ6YxYMBuKuRmTzuPtjzCLZ4bc5Yjm4VkOkMknuLpn/fzzBv9xBNpDAYDNy30ML/eyaIGF+vmlecsg4iIiMi1QuWviIiIiIjQFb7IiyO7mUx4+Xb/cyQySZLZJL9fv4OqAg8fq7qZ5a6FWI253U93xBfj6X39vHDwEql0lmQ6w92ravG4Crh5UQUL6p3a3kFERETkMqn8FRERERG5jnV4j/JE//PsnThAOB395R3A/1fjA3y28QFqCisxGU04TDYKjNac5egaDLKzY5DX350gFEuSzmTZ0V7HjvY6Kt2FmIwGbFYTFnPu9hYWERERudao/BURERERuc7sGtnNZMLHm97DHPadYDg+hj8ZpLqwggdq72JH7ceoKayktrASk8GUsxwHz04y4ovz7qUAx3r8jPvjmM1G7l1bx7blVVS4CqlwFWDSnb4iIiIiH4jKXxERERGR60Aik+DFkd10hS/ys/H9+JIBRuLjNNpqubViAw22WrZ41jHL0USLoyGnWV4/NU48keblIyP0TUTwhhO47FbuWVtH+5wyGj126svtOc0gIiIicj1Q+SsiIiIicg2bSvjYM3GA1ycOcjx4htH4BKPTEyx1LeCe5ttYU7KMqsIKyizunJa+0ek071zwAvD0vn7CsRT9ExFqSm3cvaqWZS0lzKsrVukrIiIi8hFS+SsiIiIico3piQwwEBtmfHqSDt9ROrxHOR44Q3vJClodjdxXewftJStYW7qc6sKKnGbxhhJ0j4bxhhN8/40BAE70+WmrKmL7qlqWtbhZ1uymptSW0xwiIiIi1yOVvyIiIiIi14gL4V6OB89wYOoIFyP9DMfH6I70s8DZxt3Vt/KpursxGIzcWHoDLktxTrOM+eOcHQxxot/PmYEg0ek0x3p9zK0t5s4baljTVkr73HLKinP3EDkRERGR653KXxERERGRq1SGLN6ED2/Cz8XoALvH32DXyB56o5cotbqY5Wjmwbq7uK1iI3OKWplb3IqB3D48bdQXp38iypGLXvaeHOfsYJBCi4lGj52tSyvZvKiSLYsrKLTm7kFyIiIiIvIelb8iIiIiIleZ6cw0o/EJfMkgHd6jnAx28cPhn2IwGLAZC1jonMPakmU8ULedm8rX5iXTeGCa8UCcfe9O/PJBbvYCM00VDtqqi7hjRTW3LqvKSxYREREReY/KXxERERGRq0Q8M40/GeRc6CLfH3yRY4HTHAu8i8tchMvi5J7q22iy19FeuoKV7sU5z5PJZAnGUoRiSX54aJCdHYN4wwlsVhMVrkKWNLnYsbaODQs8Oc8iIiIiIv+Wyl8RERERkStYKpsik82SzqY55DvGNy4+xY/H9mDChNFgxGGy8fmmT/EnrX9AVUF+StZMNksqnWUiOM3TP+/nmf39GI3vbShRaDGxaYGHhzc1sqylJC95REREROTXU/krIiIiInIF+9HwK1yMDLBv8hAHvEdIZpO4zE5WlyxlfekNPNr6CAVGK1ajJW+ZekYjPL2vnx8fGSaZzpLJZnmgvR5HoZnbl1fRXFmExZTbvYVFRERE5LdT+SsiIiIicgX6Tv8LPDHwPD2RAZLZFLF0nLlFrWwoW0WDrZYH67ZjMxXiNBflLVNnj4+dHYN0nJsiFEthMRu5d00NAL9/cxNFNjOOAjNmFb8iIiIiVwSVvyIiIiIiVwhfMsCzg7t4buglhmKjDMfHSGSS3Fi2igfr7mJd6UrcFicFxgIqCsrykqlnLML54RD7353g1ECAscA0LruF25ZVUVJk4fc2NAJQ4SrAZFTpKyIiInIlUfkrIiIiIjKDzoV76AycZnx6klfH3+BCpJcLkT7uqtzC6pKlbChbzXL3QtocTZRZ87OHbjKVYe/JcbLZLK90jjIwEWXYG6O61ManNjSwqq2USlcBFrOR6pLCvGQSERERkd+dyl8RERERkRlwInCGPRMH6PAe5VJshGAqzEh8jC2e9fzHls+wxDUfi9HCbEczLktxXjL5I0kOdk3y1nkvXYNBslnoHgvTVlXEgxsaWNrkZm6dU4WviIiIyFVC5a+IiIiISJ50eI+SyCQ5Feyiw3uUDu9RBmLDVBSU0V66gs82fpL20hW0l67AQP62UBj1x+ns8dPZ66Ozx8+pgQAAS5vcPLC+nmXNJSxrceNxFuQtk4iIiIh8eCp/RURERERyKJaOczLYxdj0BN+79CLRdIx3/CcoMtmoKBZVL+0AACAASURBVChnkXMua0qXscWznjUly/KabXAqRtdQkM4ePx3npugeCVPuLGBJo5u5dcW0zymjfW45xTZ9bBARERG5GukqTkREREQkB4KpEBfCfZwKnuPlsdc4F+6hK3yRusIqlrrmc3P5Wprs9cwpamGZa0HecgWiSfyRJINTMd4+P8Xek+NMhaYpK7aypMnFurnlzKoqYsuSSgx6fpuIiIjIVU3lr4iIiIjIR8Sb8BNJRwmlIhz1n+K5oZfYO3GAqgIPACtcC7mn+jYerNtOna06b7lS6SwTwWkADnZNcnYwyGsnx4kl0lS4Ctm6tJIljW48rgI2LvDkLZeIiIiI5JbKXxERERGRDymYCuNPBvnp2OucDXXTGTjN277jOM1FzCtu4zMN9wHwmcZP4jDZ85YrmcoQjKUY9sZ46Z1hAH701iAGowGnzcJtS6vY0V7HwkZX3jKJiIiISP6o/BURERER+R1lgUw2TTqbIZlJ8tTATh7veYqeyAAmgwmr0cwy1wIerv8Eq0uWscK9MK/50pksqXSWc0Mhnt7Xx8tHRwCwmIyYTQbuWVXLw5saafDkr4gWERERkfxT+SsiIiIi8juKpmO87e3kLV8n3+z9Lr5kgGQmCcCGslU82vIIWytuxGIwYzKY8p7vSLePp/f1c7BrkmQ6A0CBxcTDGxt4eFMTLocFi8mY91wiIiIikl8qf0VERERELtO58EV+MPQTjgZO8Y7vBPHMNIFkkE/W3ImnoJRbPDey3L0It6UYu8mW93yvnRxnZ8cgpy8FCMVSFFpNLK8rYXmLm4+vrqXYZqbYZsaoJ7mJiIiIXBdU/oqIiIiI/BaHfSd4dmgXP598i/HpSUKpMKlsmgdq7+LBuu002xuwGs2UWktw5LH0TWeynB8OcW4oxKvHx+gZizAeiNNaWcSG+cU0Vzq4eVEFxTYzHmdB3nKJiIiIyJVB5a+IiIiIyK/x6vh+fMkg7/iO847vBBcivSQyCeYUtbLENZ87Km9mlqOJtqImzIb8XlZPhRK8fX6K6WSGH709hC+c4NJklMWNLu5fX8+SJhduu4Uim5kKV2Fes4mIiIjIlUPlr4iIiIjILyQyCfZMHGDvxAGO+d8lmo7TG72Ep6CUG9xLmFXUyLaKTdTZqllQPDvv+QYnY3Scm+Rwt4/esQipTJauoSBrZpfx8VU1LGxwMbe2mJIia96ziYiIiMiVR+WviIiIiFz3fMkAu71vcnL0HB3eo3R4j5LIJFnsnMuOmttpL11Bva2GyoJy5hXPynu+nrEInT0+Onv9dPb4uTgWxmY1sazZzR9vm8WyZjfLWtw4CnR5LyIiIiL/QleHIiIiInJdGoyNMDI9gTfh4x3/CX42vI93QidZ6pzHYuc8Fjjb2Fi2hls866mzVc9Ixu6RMF1DIQ53e+k4N8VkcBqPs4DVbWUsbHDSPqeM9rnl6PltIiIiIvLrqPwVERERkevKpdgwFyJ9vDH5Dl3hbvqjQ5wKddFcWM+9NdvYXnULYOC2io24Lc68ZktnsvgjSQKRJP2TEfa/O8Frp8YBKLaZWTO7jBtmlbCg3sXq2aV5zSYiIiIiVx+VvyIiIiJyXRiOjzEcH+PHo3t5dvAluiN9FJsd1BRWsq3iJu5yb+ahtk/MSLZYIo0/kiQST9FxbopzQyF+cnQER6GZSlcB6+aW0+ix01ZTxJIm94xkFBEREZGrj8pfEREREbkmZbIZ4plpYuk4/mSQJ/qf5zsDLxBPT2M2mqm1VbK2ZAWfbbyfWys24PP58p4xnkwTiqY4MxjkwJlJ/NEkLx8Zodhmptxp5Y4VNexYV0dtqS3v2URERETk6qfyV0RERESuKelshnQ2jTfp58DUYQ5MHeYbvU9hMVgwAJ+qu5tWRyM3e9pZU7JsRjKm0llS6Qwd56Z4Zl8/h85PYcCA2WygpMjCQxsbeXhTI45CXa6LiIiIyAenq0kRERERuaYc8Z/gtYkOeqMDfG/wRdLZDGThj5p/D4fJzkP199DqaMRkMM1Yxt3HR3l6Xz9nh0IkUxkAqksLeXhjI/etq8diMmA2G2csn4iIiIhcG1T+ioiIiMg1Yff4GzzR/zwdvqNE03FSmRRFJjufabyfzzXej9vixGAwUmxyYDHOzGXwDzsG2XlokMHJKMFYinJnAfPrilk3t5xNCz04bRbsBTNXSouIiIjItUXlr4iIiIhc1f555FWeG3qJk4GzDMfHCKUitDoaebBuO3dWbaGmsJLawsoZyRaZTnF+KMSZSyF+cmyEUX+c8cA0q9tKqXIXsqK1hBWtJbjsFtwOy4xkFBEREZFrl8pfEREREbmqxDPTdIUuci58kV2jezgb6uZCpI+FxbNZ6prPnKJWNpavZpajiQZbzYxk7B2LcHYwyKg/zu4TY/jCCfonoty8sII/3tbKnJpi7FYTpcUFKn1FREREJGdU/oqIiIjIVWEoNkpn8AzehJ+dwz9hND7BieAZ1pQsZ1PZGu6uvpXFrnlUFXiot1XPSMauwSAd56bo7PEz4osTnk4xEZhm7ZwyPn1TE/NqncytK8Zm1dYOIiIiIpJ7Kn9FRERE5Ip2MdJPh/coHd6jdIUvEk5FORk8y9rS5Xxl1h+ytnQ5RSYHc4tbqSrwzEjGdwcCdPb46ez109njY8Qfp6zIyrKWEna017Gs2c2ylhIMM5JORERERK5XKn9FRERE5Ip0PtzD8eBZDkwdZu/EAc6GunFailjqnM8fNT/ElvJ13FJxIwVG64zkS6WzdA0F6RoKcejcFB3npkins5Q7rWxa4GFJk5v2OWUsaXbPSD4REREREZW/IiIiInJFSGXTXAj3AtAXHeTV8f3sGt1DNB2j1OpmdclSlrkWsL16K7dVbJyRjOF4inF/nEQqy8WxMK+dHOe1U+OUF1spcVhY1OBicaOb5a1u5tU5ZySjiIiIiMj/ofJXRERERGZUPDPNxPQUkVSUr3d/C4AXR3djMhgpsbi4rWITK92LmOVoYmP56hnJGIqlCMdTnB8Osfv4GIFoktdPjVPhKmBOTTFbl1Tidli4YVYpjRX2GckoIiIiIvKrVP6KiIiIyIyIZ6bxJ4OcDXXz4sirRNNxnhz4AW6LE7fFySeqb+MmTzvLXQupLqyYkYyR6RShWIq3zk1xeiBI73iEt85PUWyz0Frl4N61dexor8deoAe4iYiIiMiVR+WviIiIiORVKpsmmUly0HuEx3u+y49H92IwGLAYLBSZ7Xyh+SH+pOURKgrKZyxjMp0hlc7y06OjPLOvn/MjIYwGA2aTgeZKBw9vbGTHuvoZyyciIiIicjlU/oqIiIhIXv107Oc83vMUHd6jJLNJADzWUh5teYQ/aXkEi9GC1WiZ0YzPv3mJp/f1MxaIk0xnAVhQ7+ThTY1sWVKJxWSc0XwiIiIiIpdD5a+IiIiI5Ny3+58nlo7x4shuzoa78SeDzC9uY33pShpstXyiZhtui5Mis2PGMgaiKXYe7uGHhwYJRpMEYykaPXbm1zvZsriS5S1uim0WbFZt8SAiIiIiVweVvyIiIiKSE96Enx8M/4R3g+d4dXw/05kEEwkvq91LeaBuO+2lK3Bbiik0FuApKJuRjOeHQ5zsCzAemGbP8WGmIinGA9N8bHk1hVYTtyyppLXKQWmRFUehLp1FRERE5Opy2Vewyb5dfP1vXuCdbj8GWyPLP/UVvnJ3CwW/49ps/DQ//Npj7Dw5RCRdRlv75/jiX26g9VdeY/z1L/PH/yXA5ie+w+fnfKhjFBEREZE86osOsmt0N6+Ov8HFSD/eZABvwsctnhvZXr2V5a6FtDmaKLW6ZyTfkDdGz2iEw91eOnv9TIWmAQNWE7TPKWfz4goaPXbMRgNVJTY9zE1ERERErlqXVf6mOca3/uIZJu7+Xzz/eDOMvMhff+E/83cN/8ifrjBd9tovr4hy+L//J15JfZnHXthAdeY0//iVv+Cxx+r55peaf/kaWe+LPP7tMcyuwo/2aEVEREQkZ86GutkzcYAD3sOcCJzhfLiXApOVLeXruaViPctcC1nqmofTXDwj+Tq6pug4N8XgVJTJ4DR941ESqQz15XYW1DtZ3WKnpbaMeXXOGcknIiIiIvJRu6zy19T5Cm/FNvBn9ze/d6dv9ce5f9P3+dquE7Bi+WWvzSye4idvV3HTtzZQYwVYwKceWsgrX3+VM1/6PPOBDCPs/W/PE//sH7Dmsec+2qMVERERkY/UYf9JIqkoZ8PdHPIe5aD3KJFUlHnFs2hzNNNetoL2khW0l67I+0PcAtEk54ZCJFMZOnv9dPb46ez1EU2kaal0sLTZTVt1EXNri2n0OKh0pCgpUfErIiIiIteOyyp/gwN9RCvuoeZ9P6ubU0ns+5cYZDl1l7l2ZGyY8WQ1G973B0yNDZQNXqIvDfNNMLLrq/zA8AX+enMxLzz2r3P4fL7f+QCvJdf78UvuaLYkVzRbkiuarZmVzKZ4N3yOdyPnecP/DqFUhFORcxgxsLBoDiuLF7GoaA5FJgftrvduFIgEwkTykG08kGAqnCQQTXFmKMzpS2GS6SyHewLMqrTTUF5IQ3khSxudzK62U1tSgNthAVKAZktyR7MluaLZkly4nueqpKRkpiOIfKQuq/wNJVIYLA7efx+E1WyFZILp32FtIhUilSzC8r53zVrLsBt6iAWA6R/wt0/V8NB3NlDGsX+T43r/B3i9H7/khs/n02xJTmi2JFc0WzMnkopyIdLH2XA3L47vZtfobqbTCeptNcxzzmJD2Sq2V21lqWt+3rON+OL0T0Q43B2iZzTMsDfO6cEgbruFkiILWxZXsnlRBQUWIze0leJx/tsnV2i2JBf+T4Gi2ZKPmmZLckXnQ5Fry2WVv0XFZrLJCEHA84ufJVIJsFj51S/G/aa1xeZiLMlxkql/eWdDYopotgBT6QX+6fM/pfwv/oGNZZD88McmIiIiIh+BUCrMUHyMU8Eunh3cxa7RPTjNRXispVQXVnBn5RYeqNvOLEdj3jJlMlnGAtNEplNE4in2n57g5SMjDExGcRSYqXAVsGZ2KbOri5lXV8ydN9T89hcVEREREbnGXFb562pspKj/Aj1swwNkSTB06hKOxtZfFryXs7a00k6t+zBdg7C56b31sfMDeKvnMHvoNf5+2M/E336a+/4WsoYE0XiEzP/zEAP3/Q1fvfdX30lEREREciWUipDMpoilYxycOsoTA8+zb/IQRWYHlQXl3FzeznLXQj7dcC/l1vzcHZRMZYgm0qQzWSaD0+w8OMiZwSCnLwUxGg3YrCZqSmwsanSxo72O9fPK85JLREREROT/Z+/Oo+Q66zv/v+9W+9b7InW3Nku2ZHmRMbGFMYbYIYYQlgAxGZyEJL8MkAPhJCEJ5AQmmQBzBiYxEEIGyGpngIQzLEkgiYGEYIyXsWRZXrRYW7d636prr7v+/qhWS+1VxmpL3f68ztFR11NP1f1W6Z6+pU8//X0uVGcV/gYXv5Hr2j/Al7/0Oq64ZSPuia/xt9/p4KpPXAJA7eB3+P78Vl59zcAzzjWdIW66/jN86tPf5o0fu5HeaC933PEI7T/1HravW8dnvvHOpWN67OHPXvdp4v/9r3jntpV58SIiIiKynBd6uJHHF09+g+O1Eb4zczcPFB/CMR0uyWzhZ9e9jrSd4tc3veMFqSeMIsIQgjDisZMlvrt/irmyy1fuOYljmQDYlsFrruzl5Ts6uXxDgd5C4gWpTURERETkQndW4a9l7OAX/uSdfPp/vJ9b/rYG+S3s/rU/5J2XWgCMfvezfP7+d3LtNQPknmGuQZarf/MjvPWjt/G+n/1jqkEHO274PT74jnUr+iJFRERE5NlFRHzm2O186thfMd6YJIwigijg6sLlvHfTO3h9303Yho3xAtZ0YrrGvmNF/u3BSe4+OEsQRkRRRDJmcev1Q2DAW3avp7uQwDYNTOOFrE5ERERE5MJmRFEUne8i5NnddNNN3Hnnnee7DFmD1MxfVorOLVkpOrfOvWl3ji8c/yJ/Mfxlil6JolcmiAJ+ovt6fmXoFna376Lg5EhbqRespn+8f4yv/PAkJ2ZquF5IrRmQjFlsH8ixa1OB1790Hdlkax1DJmFjmc8/9NW5JStBm3LJStG5JStF10ORteWsVv6KiIiIyNoy2Zxhf+kAd889wD9OfIexxiTjzUnetu71JMw4N/fcwM7cNvoTvWTt9IrXs1D1uHPfJAD/9MA4o7N1JhcauH7IzsE8127rYMdgjq19WbJJm85cfMVrEhERERFZ7RT+ioiIiLyI3DO3h+P1UfYuPMK/z9zNRGOasl/l1d3XY2DwG5t/hZSVZDC1jrSVXNFajk5WOXCyxEypyV0HZjk5WwNarR6u3drBpYM5rthYYOdQnp5CgkLaIR3Xx1cRERERkbOlT88iIiIiLwL/OXsvd07fxf3z+5h1i0w0pwC4ses6bui8lu3ZizCAy/KX4Bgr9xFxsthgZKbGvuML7D1WZGK+QaXhM11q8pLNrV8x/dnrBtm+PkvCsRjoTFFIOytWj4iIiIjIWqbwV0RERGSNckOXu+ceWPyzh7vnH2DeXWBzeohXdu5md/tV7G7fxWW5S1a8lr1H5xmda7B/eIHjU1UOjpaZKDboyMa5cmOBt75sPZcO5gG4clMBxzJXvCYRERERkbVO4a+IiIjIGjLrznO0NkI9qLOn+Ah3Tn+fb0/fxUXpjWxODbGpa4Dr2q/mxq7ruCS7ZcXqqDR8jk1W8YOIA6Ml7j4wy/HpGiOzNTqzMTZ0p3nJlnY296bZva2DyzcUVqwWEREREZEXK4W/IiIiIqvcWGOSBa/MnFfkvvkHuXf+Qea9Et+d+QFb0hvYlB7kVze8je54J9e27WIotW5F6pgtuyxUXcoNn0dHStx3eI6mF/Ldh6cY6kxhWQZXbWrjmq3tXL6hwKaetDZuExERERFZQQp/RURERFah0cYkYRQw3ZzjX6a+x5HqCfaXDvBo5TDtTgHHdHhFxzW8bd1PA/Cm/p+kzcmvSC1zFZephSb3Hprl0FiFE9NV9h4rko7bZJI2V25s47VX9ZJwLF6+vZOeQmJF6hARERERkeUU/oqIiIisAl7oUw6qRFHIvLfAF058iXrQ4Kvj/8qct0DMdEiacV7ZeS03db2crlg7b1v/+hWpJYqgVPdoeiGuH/JvD07wD3ef5NhUlZhtkks6bOvPsmMgx2VDBd7ysvUrUoeIiIiIiDwzhb8iIiIiF6ggCgiikDAKOVg5ypdH/5FKUOXTR/8Gx3QwANu0eUPvT7Aju5Vr23fxys5rV6SWMIoIgogIKNU8/vY/TvDQiQX2HS/i+iGmYRB3LHZtLHDrDUO8amf3itQhIiIiIiJnT+GviIiIyAXq32d+yH3z+9hfOsA3Jr+NH/pEgGEYvHvD20lZSX5u/evZkt6AaZhYhrlitTw+XuG7+6eYLbt85Ycn8YOIIIwIo4jX7upjXUeSa7d1cOWmAo61cnWIiIiIiMjZU/grIiIicgG5Y+SrzHlF/mXqezy48CiNsIkbunTF2nl9702krRS/PHQLBSeLYZhk7TSOsTIf6YZnajwyXOI/Hp7i3sNz1JoBYRQRRXDLywYAeN3V/azrSGJbBgnHIu4o+BURERERuVAo/BURERE5j2bdeb42/m9ERPyf0a9zonYSL/SZdYvszG1jR3YrF2U28hPdrT6+lmHRn+hZ0ZrufHCSf3pgnOGZGtWGz3zFxTQNtq3LctlQnp+4oofufGvTtq5cHNsyVrQeERERERH50Sj8FREREXmBPVZ+nH2lx5hoTPFv09/nWG0EgMOV49zUdR15J8u17bu4unA5bU6egpOjL7FyPXRLNY+7HpshiuA7+6c4OlnhxHSNuhtw8bos113Sz8Xrs2zrz9GRjbG+I7litYiIiIiIyLmj8FdERETkBXDP/F5m3HkeKx/m7rkHOFmfYMEvM9Wc4br2qzEMeNeGt3NlfgcJK8Hm1CDtscKK1TM8U+PoRJW5ist9h+d4fLxCBBwYLXHlxgIv3dLOJQM5rthQYLAzSWcuTi7lrFg9IiIiIiJy7in8FREREVkBzdDlh3N7ALi/uI+75x6g6JV4vHocE5NN6UEGk/3sHvo5rirsxAB2t78Ex1zZj2dHJirsPVZk79EiwzM1SjWPo5NVetsS9BUS/MqNm7hyY4FU3GJTb5rObHxF6xERERERkZWj8FdERETkHJlx5zhQPsJkc4bh+hjfmf4BAP85ey/9iR6ydoarC5fzsvaXsC27me5YBy9tu3zF63rsZImphSYzZZd9x4rcfXCWk7M1CukYF6/L8ratHQx0JhnoSLH74g5itjZtExERERFZCxT+ioiIiDwPY41JxhpTzLlFHi4f5DvTP+Bg5Sgn6qNsSQ8B8PKOl/Lq7uvpjndyZX4H2zKbVrSmWjNgYr6OH0acmK7x7X2TPD5R5ehkhWzCpiufYKirky19GX58Zzcvvah9ResREREREZHzQ+GviIiIyHM02pig5FUo+xW+PX0X/zl7H/vLB1nwSrQ7BRzT4YaOa7hl3esAeFP/T9Lm5FesnmLVo+4GVBs+5YbPxHyDux6boeEG/POecbrzCUwDNnanue6STq7e0s7WdRl68okVq0lERERERM4/hb8iIiIiz8ILfUp+mUbYpBY0+MLxL3JfcR97Fh4miEJipkPSjPPKzt3c1HUdXbEO3rb+p1ekljCKKNd9ACoNnyCMuOvRGY5NVnl4pMTeY/PYpkEqbmMaMNiZ4i3XrifuWNx0RQ99bQp8RUREREReLBT+ioiIiDyFIArwI58gCjlcOcZfDP89980/yL3zDxIzHQBs0+aNva9me/Yirm3fxSs7rz3ndYRhRBBGhEAQRFSbPrf/xwkA/uHuk8xXXSzTwDQMDAMSjsVQV4qbd/WSjtvcesPQOa9JRERERERWB4W/IiIiIk/huzM/5Kvj/8K98w9yoHIEL/QJowDTMHj3xltJmgn+y8Ab2JwewsTEMlZmk7SHTixwz6FZRmbqfGvPOBHgBxEAXhAC8IrtXWzpy9DbluDyDQU29aSxTQOMFSlJRERERERWCYW/IiIiIovuGPkqP5j7f+xZeJiR+jgVv0YjbLIu0cNP995I2k7xy4O3UHCyGIZJ1k7jGOf249Q37hujWPW468AMx6aqNL2QhhvghxE1NyAZs7jlZQMAbF2XZcdgju5cHMc2sU2DmGPiWCsTRIuIiIiIyOqi8FdERERetGbceb4y9s/sLx1kf+kgo41xil6Zsl9hV/5SdmS3sjWzkZ/ovp7OWBuWYdGf6Dlnxz+1MVvdDfjmnnEApksufhBSrHo0vICt/Vl2XtJJJmGzdV2GLb1ZuvNxANJxi3TCxjK1xFdERERERJ5M4a+IiIi8qDxWfpzvzd7LwcoRDlaOcqR6gjmvyJxb5NXdryBnZ7i2fRdXFy6nzclTcHL0JbrPybEfPFZkbK7OkckqB0fL1JoBE8U6fhAxPFMD4OWLQW9vW4JNPRk2dKfoyMSwbZNC2iGXdM5JLSIiIiIisvYp/BUREZE17565PTxcPsTR2jCPlR/nUOUYk81p/CjguvarMQyDm7qu48r8DhJWgs2pQdpjhed1zKYX8sODswDc//gc1WbAyEyNharHdKnJ5EKD9kyMnYN5LMvgVTu7GehMsa0/S9wxyaccOnNxUnHrXLwFIiIiIiLyIqTwV0RERNacZuhy99wDnKyPM1If4/7iQxyuHmOkPk7BybEpNcjF2c3sbr+Kq/I7MTDY3XHV8+rfOz5XZ2S2TrHqcWisjOuH7D1WBODh4QXqbsDmngzt2Rg7BnPc2NbNhu402/qzmIZBX3uCvrYEpqEWDiIiIiIicm4o/BUREZE1Ycad40D5CBPNaUbq43x7+i6O1oY5Wh1mY2qArJ3hxq7r2N12Fduym+mJdXB12+U/8vEOj1VoeAEnZ+sUax7D01WOTlSZq7jsH17Atkwu7s8CcPWWdrpycS7fkKc7nyCfchjoTNKZi5+rly8iIiIiIvIkCn9FRERk1RptTDDemGLOLbK/fJDvTt/NwcoRhutjbE4PAXBj13W8uvsVdMc72JW/lK2Zjc/5OLVmwMR8HT+MGJ5u9eb93qPTVOo+Dx5fYHy+TiHl0J6N4VgmL72one5cnFftbPUKHupKsbE3QyqmFg4iIiIiIvLCUfgrIiIiq0ZExHhzionyLGW/wp3Td/H92fvYXzrIgl+m3ckTMx1u6LyGn+1/HQA/038zBSf3nI5TrHrU3YBqw6fc8JmYb3DXYzPU3YBv7hkHoDMbx7YMEjGLHQN5dg7muHQwTyZps7U/y6ae9Dl//SIiIiIiIs+Fwl8RERG5IDWCJrWwQRgFNIImzdAljEL+9+j/4aHGQfYsPEwQhcRMh6QZ51Wdu7mx62V0xzu5Zd3rzvo4YRRRrvsAVOo+QRTx/UdnOD5Z5eGRBfYeK2KbJqm4hWFAdz5B3Db56av7yacchrpTbB/I0aUWDiIiIiIicoFR+CsiIiLnnRt6AIRRSEBAFEXcPfcA/zFzD3PeAvfNP8jehUcAcEwbAwPbtHlT709ySXYLu9uv4obOa87qWGEYEYQR0eLX5brP7d87AcDf332SYtXFMg1Mw8AwIOFYDHWluHlXLzHL5PJNBS4fKmBb2phNREREREQubAp/RURE5LwKooA/PfY3NIIm+8sHuHfuQabdWYIoJIgCIiKCKATAMkx+pe9nKaTyvH3gjWxKD2JiYhnmWR9v3/EF7j08y0LN46ETCzw6UsIPIgC8oHWcG3Z0sbk3Q19bgss3FNjYk8Y2DTDANAwsU8GviIiIiIhc+BT+ioiIyAvm/vl9/HB+D/Neib0LD/Nw6SARsOCVCIlwQ5dG0CSIQvqTPezKX8qm1MBSKwcDA6ohhbY2cnYa23j2jzJfv2+MharH8EyNR0dKnJyrKrHfIgAAIABJREFU03ADwijC9UOiCLYP5Ni+PseOwRzbB3J05+I4toltGsQcE8c6+3BZRERERETkQqHwV0RERM65iIj9pQPsLx2kETT595kfcqw2Qskvs+CV8SOfsl+l4tcwDIOduW3szG4jbsZ5VdduNqYGiJsxsnaGpBUnZsboiXcCMO/O0+bkn/K44/MNfvDYDF4Qcni8wqGxMhPFBn4Q0fBCqg2fXMphx2COrX1Ztq7LsLk3QyZuk4pbZBI26YStlb0iIiIiIrImKPwVERGR52W6OceByuOMNiaZc4t8e/ouIiLm3CKzXpEgChirT1LyK3TF27k4s5n+RA/tsQI3db0cA2iPtdHuFLAMk3XJXnJ25qyOvfdokfH5OnMVl2NTNY5NVpgoNghDKNY8Fqoeg10ptvSm2NSTYWNPmr62BPmUQyHtkE875JLOyr5BIiIiIiIi54nCXxERETkrERFHq8McqQ7jRh57iw8z3pyi7FeZaExT9EpUgxqPlR/HMAw2pQbZlB4kZji8pf+19CW6ydppeuNd5J0caSvJ9uxFZ3Xsph8yMlPj5EydSqXCgltmZKbG4fEKC1WPatNnpuziByEDnSkGupOtvztTdOXidOZidObidGbjpOLWCr9TIiIiIiIiFwaFvyIiIvIkRa/ESH2cWXeeZuhysj7OSH2Mkfo4w/Ux/MjnkfJhppuz5J0sA8l+OmNttMcK7G6/ioFkPwPJPgaSfTiGw/bsRXTHO571uDOlJuPzDepuQLnuM15sUKy4uEHIxHyD8fkGvu8zVw0Yn6+TSdj0FhJs7Emz++IO+tqS9BYS9LUl6G1r/W0aauEgIiIiIiIvTgp/RUREXsQiIiYa00w0p/GjgHl3gcnmNMP1MY5Wh5lsztAImxytDXO8NkJvvIueeBe2YXNlfjs98S4Gk/1sSg/SHe8kYcbZnB5kY2rgaY9ZdwNmSk2KVY8wipgpucyUm4QRTMzXGZmpU234LNQ8RmbrzJab2JZJeyYGQFvKYqgrxUs2t7GuPcn6zlOrfJN0ZuMv1FsnIiIiIiJywVP4KyIi8iJRC+rMuUXKfhU/Cpjzisy68xwoH+FA5Qhu6DJSH+dg5Qj1oEF7rI2MncI2bAaT/VyZ38HFmc1sy2wiZsYYTPazLbOZjlhh2XHCKGKu4rJQ9YiiCIBKM2Ch6tH0AhbqHkcnqozN1fGDiGNTVY5OVgmjiEzCppB2iNkmCcdiQ3eKi/oydGZjDHSmMAyD7nTEzs09bOpJk4yphYOIiIiIiMjTUfgrIiKyBpX8CmW/QhiF1IIGZb/KcH2U/aUDDNfGqAV1Hi4f5OHyIXJ2hqydxsQkaSXZmBpgMLWOndltDCT7SVlJduYu5tLc1mXHaLgB1abPeLWBH4RUGwF1L8DzQw6NlTk0ViYIW3NPztY5PF5mruJiWybpuEUyZmEYBpmExWVDeQwDhrrSbO3PkEs6dObidBfiZBI2g52ppePOz8/T1pZ7Id9OERERERGRVUnhr4iIyCrmRz6NoIkb+URRSCNsUgsa7Ck+zJ7ifhphk8PV4+xZeJhZt0jCjOOYNiYmCSvORekN7MpfypX5S0lacbakN7CrcCm98S6CMKLphXiLCe5CzaPphbh+SBhFnJiu8ejwAjMll7mKyyMnSxyfqgIQdyzitrlUp2ObJGIWA50pOjIxtg/k2NCVJmYbbB/Ms2Mgh2WqN6+IiIiIiMi5pPBXRERklQiikCAKAAgJCaKQE7WT3Du/l8OV45T9KvcWH+T++X1YholltFoimIaJZZhsTW/kx9quYEt6A1k7zY+1XclL2y4nDCOCKIIIwqjVB7juBkwtNNl3vMjj4xUAoijioRMlHjxepOkFGIaBZYBhGBgGmIZBKmYRcywuH8pz2VAey2oFupt7M1y+oUB3Xj15RUREREREXigKf0VERFaBMAq5d34v984/SD1ocKDyOPfOP8jJxgRhFBJGIRERYRRiGgYvbbuCH2u7gqSZ4JLsFn6s7UrWJ3sxDRMTEwMwDYswith3YoF9x4o0vICjk1WKVY+x+Tqjs3WCMGKxbS8AQRgRLg5s7E5z+VCernyczlycKzbm2dKbBcA0W8HwKaZpYBpa2SsiIiIiIvJCUvgrIiJyAXq4dJDvztxNxa+yZ+ERHlx4hEbYpBE0CYnwQo9G2MQPAy7NbeVVnbvJ2Gl25S/livwOElachBnDMExihsPMQshdj5eYmG9Qqns8erLE4cUVvU0vpOkFRBF4QUgYgR+EBGFELumwfSDHRb0ZDAN2DObYPpAn7pg4lkncMbFMA8s0iNsmzhmtHkREREREROT8UvgrIiJynoRRyP7SQfaXDtAMXY7VRthfPshMc45KUGXeXSCIAsp+lbLf6qX75v6bydlZNqYH2Jm7mK5YOxk7hRlkeHSixuxR2GuagMeRyXkOjVWoNX2aXkil4eP6IX4YUW341N0AA4Ot/Rm29rUTc1rBbW9bgq39GbrzCWzTIJ2wW5uzAemETTphaRWviIiIiIjIKqDwV0REZAUcrhyjGXqM1MdY8MsAzHsLjDUmqQcNjlaHiYiYc4vMesXFkLfCrFukETTZnB5kd/tVJK0kF2c2sTWzCYCg3sXRaRe7keTkSII90z6z5QZeUKNY9SjXvaUaFmo+C1UPPwzpysXZ1JOmPRMjk7DZ2JtmsCMFBhRSMfJpZ6lNQzJuU0g7JGPWC/6+iYiIiIiIyLmj8FdEROQ5GKmPUQ+aTDVnKC6GulW/ylhjCi/yOV4bAWCyOYMfBsx7RepBE4BaUKPol/FCj+nmHIZhsDk1iGmYrE/2kTSH6LY2UzB6cMIcSa+TsGGxMJFmXykFwGy5yUwJPL9GuVFiptSk2vRJxiwGOlMMdKSWar1mW5KBjhSJmEU2YdOZi5GO28Qdk85cnPZM7AV+90REREREROSFpPBXRERk0axbZKQ+RtErAdAMXcabU0RRxEh9jIiI8cYUzdBl1p1fasVQC+pMNWfxI5+T9QkA1iV7cQybrngHGbsVyPYmukgZBRbqBp25LsYWXAbsvlYLhWqOqVKI2+whHnZQbfiMVT08P2S8WGGyOANATz5Bb1uCZNyirz3Brk0FUnGbvrYEfW0JunLxpdfTU2jNjasPr4iIiIiIyIuSwl8REVnzyn6FiebMUqgbRAFTzVaYOtmcwY8CAKaasxytnmDWLQLQCBuM1McJiThaHSaMQgDaY3l64l2krVaom7DiXJa7BDDZlboBgFTYjYlNX7yLwI8xUXYxgyTpqIBVidhm9ZCeqS/VOFFsMD5b50izwWPxSTqzMbJJB8c2uGwoT8el3QCs70iyviNJwrFoz8bIJW2ySYeOrFbxioiIiIiIyHIKf0VEZNVqBE0qQRUv9JeCXWj11p3zinihD7RC3YOVI4w1JgFwQ4/D1WMAHKocww1bfXIzdor2WIGUlQTAMWy6450YGFya3cp8PSKIIgpmDxsTG2iP5Wl4IZ4Xpy3shtCivdIFwImpKq4fEgDTJZcTkxXmKi6O5ZJJ2JwwJ8mnTl+Gs0mHl2xuI2abtGdjbOpO052Pk3AsNvam2didXvH3U0RERERERNYWhb8iInLB8SKfml8nIqLsV5bGq0Gdsl9ZCnVn3DlG6uNU/RoHK0eX5j1aOcz+0kGqfg2AuBUjYcaxDZuUlVicZZCz0+wqXIqJSc2L6I33sjW1lTarA4CEmaTPGaTWDLk6s5VjEzVcP+TkTI1S3ccDSlWXw2MVRmbLGIZBOt6qNxW3MRc3UIs7Fr1tCYa6UmSTDgMdKRzbYEtvZqnmDT1ptvZnyCWdFXpXRURERERE5MVG4a+IiLxgwiikGboANMIm0eK4F7oEUYgX+fihz5y3wOHKMRphk30Ljy49/tHyYR5YeJh5dwEA27BwTAfTMIiZp9seJMw43fEOzHgnAOuSffTFe0kaOYYSQwCYmGzPbGdH6mLSRowTU1WKNY/J2SaT8w0ASk2fe06WOTBaAu4DwLFM4o7Z6tMLWJZB3DYZ6EwRs00uWZcDYNu6DHHbah2/M8mOgRy9hQQiIiIiIiIiLxSFvyIick4Ei31zg8W+uG7ktQLeKCIiIoxCSn6FfQuPEUQB987vXZr7WOVxZt15TtRHGa6NYRgGJgZgYBmnNyszDRMDg7SdxMCgL9HNlvQGsnaGSzMXEyymyVcXLuPqwhVkrTTR4th0qcm+40UeP9JamRuGEd84scB/P3E/Ta9Vu2EYmAZLwS6AZRqkYtbS7YvX5bhsQ55CurVCtysX5/KNhWWreEVEREREREQuBAp/RUTkeasHDf5f8SEA7p9/iEbYpF6vM3pikonmNOONKR6vHieCpU3TToXFACEhURQRLq4F7nAKXJLdQsJK8JL8zqV5l+e3k7MzbMlsoC/ehWGYmBiUmwH7T5TYf6K1IvjYCZM7x47y0IkFipXWSuMICMJoKQxm8XZ4xsBAR5LLNxToa2ut0M0kbC7fWGDnYH5pjmmAaRqciocNw8A8nU+LiIiIiIiIXDAU/oqIyDJzbnFpM7QgCtlTfJiQVmB7qHKMeW+Bk41xRusTS4+JiGgEZ7ZziIiiCD8KCKIAP/LxQp+snebS/MVYWFyZ37G0qveizEbanQLrk72sS/RiGRYx08HAwDFi7Bkt8chwialxm1nD4P65KodHp5gottozRFFE0wtpeuFSTV7Qun0q3O3IxNk+kGNDVwoA04Ttg3l2rM8Rc1p1OJZJzDaxrVa0axoGcac1JiIiIiIiIrLaKPwVEVnjpt05RupjVP0ahyrHlt13qHqMalBjpDbGjDsPgBd51ILToWrZr8LiitxaUMePAhphk+Zi2AutDdV2ZC8CYHt2KzHDwXVdthQ20BlrpzPWzkCyD9uwSNspwCBrpzGAQzN1jk54LDTAN2McrAUcGlvg5Gxrs7YIqDZ8qo1gKchteiHVpo/rt8LeZMxia392+QZq3Sm29WfJplrtGRzLIB23SSy2cDCAdMImnbCWtXkQERERERERWSsU/oqIrCJjjUnmFjc7K/llhutjQKuVwsHK0aUVusO10cXQFuphg4pfww99in5p2fMteCW8KKDiV2kETQByTobBZD8AlmlxTduVS+HoYHIdOacVsLY7BfoS3a15hkW702qN0BbLY2JSKpXA7uDEjIc3bVC0UtTdgGNTNY5PVYBW791y3aNY9fCCVu1NL6RY9ag2faDVVmFTT5rtAzmcxRW53YUEm3rSdGRam7xZlkkh7ZBPnr6sZVMO+ZSjVbsiIiIiIiLyoqXwV0TkPBprTFLxa8y688x6xaVxL/Q4XjsJwLHaCH7UCkKLXomqXwegETaWguCIkInmDNHiCt05t7gU5hacHN3xDpJWgs2poWXHH0j2k7TidMc7yTtZAJJmgvZYK8iNIoNqNQOLHW4b9QR+pXXpyFtJ2qpZGl7ARLHB3OJznpyt4wc+zaaBGxaZKTWpNlr9fb0gZKbsMltuLtXQV0iwvjO1tKlaNmXTkY2TcEx625IYtDZV68jGsMxWHbmUTWc2Tjqhy5iIiIiIiIjI0znr/zV7x7/OJ/74y9z3eBEjOcSut7+f979xE/HnODdqPMJXPnYb//DQKNWgg4t2/3+853evZzMQhif4waf+hM/9x0HmmnHSG1/K23/9t/npbfrPvYisDuONKZqhy4w7T2Vx5S20+uBONKcJo5CR+jin2ihMNmeoBw3mvQUWvPLSfC/0GG1MAnCyMY4fnt4creDkKDg5UlaS7ngHAAYGO7Lbllbodsc7SFnJ1gOCFPgZ4maMDqeD0YUzgle6WChDRylHu5Wi2vApVr3FNbkQRjBRrC9tkjZbdqm7px5fBWZw/ZCZ0unnnCg2CMLWAwrpGL2FBNnFFbkF22H7QA7DgL5TwW4+Tm8hQXIx/E3HbQqZ1ordrtxTXWVERERERERE5GycVaoasIfP/c7tTL/x43zpUxth/Gv80bs/xJ8O/g2/eZV11nN/46oa93/k9/iW/xvc9uXr6Qsf4W/e/zvcdtsAn37fRob/+oN8Yu/L+cBf3MaPdZR59LPv4/d/73a2fOUdbF+Rly8i8tTCKGSiOb10e9Yt0ghbAWfVr1HyW0GtHwVMNmeW5o3UxmiETSabM8vC3HrY4GR9nCAKOVobJlpMU9tjBRJWK+BMWynydmv1rW1aXJa7BICbul/OfA3coPWYWJQlFmXJWCn6El34YcRM1WezPYBhGExXXDZYXRSs1sZm5ZrHbMUlAsaDkPGZ+lJd48BUqUm92dq8rVT3mKuc7uVrYNCZi2Eshsr5lE3cXv5937ENtq3LLt3efXEnlmnQbDZZ15llfUeSQrrVniHumPS1JTANg4HOFGq1KyIiIiIiIrJyzir8tfZ+i3vq1/Nbt2xsrfTtewO33PB3fOzr++CqXWc9N7xsln++t5dXfu56+mMAO3j7rZfyrU/8K4++75fIXnYrv/2y67mmAyDLjtdeRe9fD3M8gO0WIiI/siAKmPdaLRLm3CJBFC7dVwvq1IMGzdCl5FcW54ccrDy+uD4XTtRGKS/eN+sWmWhOAdAMXQ5Xji89V8HJYZs2GSu1FOo2fWh4JnmnDTMy2GZt4FQbhaFEP1k7Tc0NSRhZ+uwuvCCi3jTYam8A4IpoA1N1l4bbqnm23GSu3ApoFwAviBidrjFKqzXEyEydhnd6Y7e4bZGKt76JmqZBPrX8W38mYZPKtcLZ/vbk0txT8zd1p5dC2r62BJkntFpIxCwGOlNLtzd0p3Ask/n5edra2p7mX0REREREREREVtpZhb+l4ePUut9E/xlj67f1UP+7EU6yi/VnOXd8cowpr4/rz3iANTRIx8kRjgcxXvOSn2TgjMeN3ns/8zvfymWLOcT8/PxzfX1ryov99cvKWY3nVhAFVIM6EFEOapxqo1APG/hRq0WCG3pLq3WbocvB2lEAHqs+jrfYQxdgwp1myp1lwS9xotHaQM0wDDJWiqoLIZAyE9jG4rfMyIawFZaahkW/eSmVxWB2kzNEiiQddJONWqthi17AbNlic2IAIoOeYh9Ey5e8zlY8Zisew0DdDRiZbXAfrZXDd7CfpGNhLu5bFrPNpY3PWjUYJOOnNzXb1JPEOmNJbSFt07MY7jq2ycauxLJj97cnyCRa32gLKYeefOws/gWeyFv6qlJaWPp6NZ5bsjro3JKVonNLVorOLVkpOrdkJbyYzystYJG15qzC37LrYzhpcmeMxewYeC7N5zDX9cv4XgbnjKNGsQ5SxlHqC0D74hguJ7/7YT705Q28/dM3LwuXRWTt8aNgaUOzkAg3PN12oBm6RER4oYfP6dW6Zb/Codox/ChgX+WxpY3OHq+fWGrJMOnOMNIYX3yEAdFiqBk+IdyMrNYfTAj7gFaoe1HmYh4uN3CDiP7kEAU7s1hUDuqtb1gJI8b1zmYOjleXVgkDjM43OVD1Fp/LwLYM9rWqIGYXeSLbMpY2MzMNWNe2PKDd1J1c6onbnXPoyp1+DTHb5KK+1FPOFREREREREZEXr7MKfzNZm8irUgK6Fsdc3wUntizkfba5WTuL403h+aePbLiz1KI4ydbG8oTMsu+zv8cn79nOL3/qvby87/Rzv9h/+vJif/3y/IVhtCygBCjOz1M449wKwyfOeLIICKOnnxcBGBEREeEZ7RVYHF880qmZTDUmOVodBlotGB4o7l+a/mDpUSp+lUPVY0w2ZpY/F4urXaMnBp1G609kAIubnoVxqG5sfV0egvCMb3+NdqgXyDYz9Je6l4arwOYzVtCe2r7NMFjaWK0BfINWb2DTPHM1LqQWA9i2TIzNva3g2DINLhvKP6nX7br2JH3trVqzCXtZD93VSm0fZKXo3JKVonNLVsKp1XM6t+Rc07klK0XXQ5G15azC3/zQEJkThznKzXTRWpk7un+E9NDmpYD3bOa296RYV7ifAyfhxze05tcPDTPXt40NViv4vf/j7+NzJ36O3/3CzVzsnMuXKiL7Rxbw/OWhbblcIVtsJZF1N+CR4YWneujyx9R9Do9Xnvb+yfQcXrLItDvHgerR5XdmT4DpQ/IkWCWAxZA4OuPr04FxGIWtsSfG1kEG6gOt4Le0cfl9tS5wcziNHOvLnUvDxmKrBTMyl00/NW5ET959bMdgjpi9fH53LsFAZ/JJcy/bkF+au6ErTWeu1fPXMFgKew0MzKfY5MwwjNNztAmaiIiIiIiIiJwDZxX+Bhe/kevaP8CXv/Q6rrhlI+6Jr/G33+ngqk+0dqKvHfwO35/fyquvGXjGuaYzxE3Xf4ZPffrbvPFjN9Ib7eWOOx6h/afew3bg5Dc+wJ899GY+dPvNbF7JVy1r0nB9lPHG1FnP70v0MJjsf/aJK2B4psZ8xX3SuB9EPDpS4hkW1VJp+BydrD7lfSMzNeaqT37eU1wv5My1v31tSYLAZ6rUak8QRdD0lq/UHctPUXPqrRvxMiTnCENwaUJm9PTE1CiYi41gjACMgMAJcJPesufD8FqrfyMP/NaxehNdDKXWte4PE1AbPD2/2gdBnE0dSbrsbmgs/r5BZGLFLQwMErnl38o2tGfpTCcwIxMzXB7cnrK1L0sy/uytEeK2ifGENNYyW20cnmnumW0cRERERERERETOByOKnilmOs0d+yaf/h9/yV2P1yC/hd0/99u893XriQOHP/tmPnD/O/nLv7yR3LPMjRqP8I8fvY079o9SDTrYccOv8d7fuIZeDvF3v/hfuWN0eYhjh1v4qb/4LL+24Zy/9lXlpptu4s477zzfZZwzk80ZRhsTywcj2F8+iB/6y4anmjOMNieXbvuhz/7SwSc9ZyNs0gyfPvh8orgZI2HGn1vhz0WYgkbPU95V90LcMHzSeBRBuRk849P6YUTNPWNOpR8WV7LWvBAvePLzPp3E4irVhh+C3YTkNBhhK8g9xWq2xgAMH4zF99iIwKqfnmfWYbEnb3+yh954JwUnz4bk8q7dl+a2ETMdNqeHyC320I2bMRLW4r9FZLYC4FOCGEQmScfEMWLYwbP/zCrhmDj2U4e+pyRjlsLZFaZfF5OVonNLVorOLVkJ+tV8WSk6t2Sl6Hoosracdfgr59f5DH+LXomT9TOD2ogDlSP40ZNDygWvxMknhLoHykcInjC3FjSoBrUnPX7OLRKyPLysBw2qwemQMYxC5twnb5iF3w7+c+iTapfBnjv7+c9VZEOQXrnnP8XPsNT79vkwfLBqi6FuaWl4KLWOrN16HR2xNnrjrWYvcTPORZkNS/M2p4aWAty0lSJlJYiZsaXHntIRK2AaJjk7S8xUb5e1TB8aZaXo3JKVonNLVoICOlkpOrdkpeh6KLK2nFXbB1k9qkGN0frksrETtZM0I+9Jc2t+jdHGE+bWT+KGy+fWgjrzbumMkYiJ5vRTbvhVD+rM+6Uzpy7OXR7otsXydMXaqXoRo6UzjtfoWlrFusTvB/+MADEyod7Jk/iJ1irRs9SWjejKP/Uq28FCgvgzrBy1TIPN7U/u+QrQlnToTFvUgjqj9YmnnHMuHa0OP2UQf7Y8z8NxHFJWgvXJPizDZFN6aOn+jlgbCbP1vqatFDmnFbA7hk13vGNpXlesHUdhroiIiIiIiIjIBUPh7ypQDxpUOpr89chXlo1PNqZphM1lY7WgwVRzZtnYaH0CL1reSuHU804+Ye5YY/JJ4W/GTtEZa182NpDswzKe3C81Y3TQRZZmEDFebrUHeFmiFShOVFwaXshc3SMMErh2Ht8PoHxGq4Z64Unhr+klaPdaQatjmfTmkrRVCwB05+PYVmt+vuCQTZ4+pR3LpDv/9G0dMkmbfOqpw8ruXPwZ2waYhkFfe+Ip78skWs/7VO/vShipjxFEZ9/q4YnK5TLZbJaEFac33oVpmOetF7KIiIiIiIiIiJw7Cn9XgXlvgdnBGh879Jll4yfr49SCxrKxhBWjPbb81zO6Yx3YxpP/qRNWjMtylywbu7HrOhyzNXehEVJxQ3JOhjarndna6QA55XVjLLYamK/71L3Flad+AppZbD8kO9eq7aL4emws8gtNGm7AXMWlVG8FzFnbZGs6hmlAZzYOZyzczaVsEjGLVNwmk2jVFLNN+s8IXfvbksQWQ9q2jLMszG3NferVuS+EpJVgQ2r9s098np7vMeYt/UqPiIiIiIiIiMhapPB3FfBCn9CO6Isvb3VwUWYjMWP5ytWMnWYotW7Z2Jb0BuJmjHIzpOmH1L2QqheQsdJsSK0jjCLmaq0wdj39JKLWc043m8xXW+O1po81e7rv7rGpGkHYavswUWxQXgxzY7ZJOm5jmQbrU632AOOV1urkTMIhnbBY35kk4bRWDafjFv3tSWzLYGP38t6wPYUEuZRDW9qhM7eCG7OJiIiIiIiIiIisQQp/V4G2WI7O42k+ufPDy8b7nUEyZoqmF+L6p3/tPwwjam5rJW614XOq48PoXJ2FmkdQalJcaDIPzAN+EHJ4vBXsHpl4jKbfemzMNpdW1VqmQTJ2us1DOmFjGK2vh7pSOFbrRj4dY11bkkTMfFKYO9SdIp2w6ckn6MiefW9eERERERERERERee4U/q4CGStDZjbLumgLzTNC3gMjFcqNCmNzDWYWTvf+rbsBh8crRMAjIwtLK3Rty8QyWyGtZRjYi4GtYUDcaYW8Xfn4Uqjb35aka3HFbTZpL4W5hgHbB3PYi8812JWiLa0wV0RERERERERE5EKi8HcVKNU8apktvOcLD/LQieLSuGEYGIBptL4+k7kYzMbP2LRsY09macVtRybGUHcKgJhlctnG1gZqOwZyy1b4ioiIiIiIiIiIyOqk8HcVWKj5uMl+Hh5eWDZ+UV+GbNJmoCNFd/50T9xU3GL7QA7DMLh8KI9ttQJg0wAWM2IDA/NUXmyAuRgeW+byEFlERERERERERERWJ4W/q0A2aZOoHuUjv/ULXLI+tzQes03MxfYNZ4a2pmEy/l0sAAAKn0lEQVQs9eqNOSaKc0VERERERERERF58FP6uArmUQ7w2ynWXdJKO659MREREREREREREnp357FPkfLNNAzNsKvgVERERERERERGRs6bwV0RERERERERERGQNUvgrIiIiIiIiIiIisgYp/BURERERERERERFZgxT+ioiIiIiIiIiIiKxBCn9FRERERERERERE1iCFvyIiIiIiIiIiIiJrkMJfERERERERERERkTVI4a+IiIiIiIiIiIjIGqTwV0RERERERERERGQNUvgrIiIiIiIiIiIisgYp/BURERERERERERFZgxT+ioiIiIiIiIiIiKxBCn9FRERERERERERE1iCFvyIiIiIiIiIiIiJrkMJfERERERERERERkTVI4a+IiIiIiIiIiIjIGqTwV0RERERERERERGQNUvgrIiIiIiIiIiIisgYZURRF57sIERERERERERERETm3tPJXREREREREREREZA1S+CsiIiIiIiIiIiKyBin8FREREREREREREVmDFP6KiIiIiIiIiIiIrEEKfy9wI9//BO9/++t57c1v4G1v/wP+7uHa+S5J1oAwPMH3b3sft77hZl578xt467s/yjcO+ue7LFljpr77G7zl5b/Mnx8835XIWjH34Cd5/9tfz2te8xpdE+WcCcMTfPvj7+bWN7+d/3LrW/n5d/4v/uWAronyo4mCce7583fxMzf8LH98//L7vONf52Pv/Tne+JrX8KafeRd/9NWjNM9PmbIKPdO5VXn8Dv7bu97Ma17zGn7qdb/Mhz6xh+nzU6asRgt7+YcPvok37f4D7nyaKUH0CJ97xyt542/8p75viaxCCn8vZMN/xsf/aJhNH/gi//Stv+e2d0Z853c+zr9Xz3dhstoN//UH+cTei/m1v/gW//St2/nwziP89e/dzqPnuzBZM6K5r/Gpz09i5893JbJWRBO380cfPsKmD3yRf/7m1/if74i477Pf48j5LkxWvZE//yCfP/xq/vCLd3DH7Xfw0dcc5M8/9AVdE+U58znE3/7XD3B7Yic7UuGy+wL28LnfuZ3p3R/hS9/8Jl/801fT/NsP8acPBOepWllNnvHc8u7ktvd8nfAnPs6XvvlN/u///hmcH/4B/+tf6uepWllVxr/Gb7/nLzm+7VLaw6eeEuFy8JMf43t+1wtbm4icMwp/L2DHv/0Dpi/+OX5pRwqDGJ3X/SKv7b+ff/2+LuTyo4twsS67ld/+4M9zTQcYZNnx2qvoHRnmuP7/IedAyDh3/uGXaPzKL3CN8TSfIkWeo8e/+nWKL/lV3rV4TRz48f/GJz9zM5vPd2GyqkW4jAxPkLn2JWx0wCDG+iuuoP/kiK6J8pyZZLn+Nz/Dbb+4i47Y8vusvd/invr1/MItG4kD8b43cMsNTfZ+fd95qVVWl2c8t6r9vOLXfp9ffeNGcoDTfyOvvKjC/IGJ81KrrDLJHfzqH3+a97+qnVj01FOqj93Gp+9/Fe9+Y/sLW5uInDMKfy9QES4jJ8Zpu2KA+OKYST8D/TVdyOV5MYgx8JKf5GXbUktjo/fez/zOl3KZdR4LkzVj/Osf5e+Nd/NbP67VAXJuhMxy9HCRXM8wn/rNX+TWt76VW9/1Ub5+SG0f5PkxiLH1hktofudfebgCEWUO3/kQ1Uuu0zVRnjOTPjZekn7K+0rDx6l1X0T/GWPrt/VQPzbCyRemPFnFnuncorCDl//UZaxfvBm693D3gV62vnzwBatPVrHCRWzpfPq7Q/cevvDRI+z88M9zaUo/FRVZrezzXYA8nSZeycSJnf7RrkGMWCxGsOCdx7pkLYlwOfndD/OhL2/g7Z++eelDo8iPbPzv+ZO/6ufWv7ieDvac72pkjYgoU6n4HPnh47zpo5/nPX0Njv/DB/nAez9Lxz/9Jtfp04w8Dx0/+Vu84+7f5Xfe8g3SCZdGeCW/9MmbdE2Uc6rs+hhOmtwZYzE7Bp6r/plyzoTNvdz+m59k5GV/wEeu0k+w5PmJKPPQbZ/h6I//IZ/aarNw9HxXJCI/Kq38vWDFcXIhnusujUS4uK6LlXfOY12yVoTM8uBn38vv/00fv/SpD/PavvNdkax2Pof4v3/wTTp/5328ouN8VyNriUGcmOMwcP3PcH2fg0GWgbe8mauiPfzwsfNdnaxmEWX2f/y3+bvqr/Cn3/gaX/7q1/j8+x3+8V3aY0HOrUzWJvKqlM4Yc30XnNiyQFjkR+Ud/zof+cVPcPBln+Aj779U55U8b/X7PsHnH3ozv/6LG///9u4sxMoyjuP47+RGiy2WoZVNlqViRBSlxFAUXVhkUYwShi20WUmNVJaEQQUVuZWVhahlaZh2EUIWol4ZWKFtZGFSOS4Rg7Rgw3TUOV1IkkJGjXCch8/n7rzwwv/i5Tzv+b4v56n3KEAneVfmMFVJzwxo6J+fP9uSP3JqeiXZkx/y9fdHp9+IfvUejy6uIzvyydTmzNk8No/OvSpDPE/gEOjesjKrtv+S1pm3ZMzMpFappq3993RMGZeWMTPydJO/geD/qeTEDDilW9pb969x1Uolves0E2XYk5Z8uK49Z064MgN7JEnP9GkcmSGZnk83JJdfVO8JKcVxDQ05ZvO3+S5XpW/2vtSx7cstObrhrFgd6azq5oWZ8sia9J34cqaMOL7e41CAWqpZ/94n2Vr9OpPHLNp7cNfO7GyfkTtGb8iEpeMzvL4jAv+B+HsYa7h6ZE5asiDzvzov44d1z4+rX8vK1ktyz6VH1ns0urjtyyZn9hdNefxNmyVxCJ1+b15edu++j7uyPrNHvZheT72W8YPrOBddXiU9M+yGK9Lx6Jws2fhkRp/TPS3L3skXvS7OQ0PrPR1d2RHpl6H927Joxfq0Nl6Qvkmqn6/KNzvPyNUWSA6hPUOuT2OfyXl78aicf+PAVDe/mzdWnZgLp/kSo3M6qmsze9L7OaF5bh4a4Xcih0YlPdP4xPI0/u3Yrx/cmVtXjMvcGZfu25cI6BoqtVrtH/Z05HDw08dTM23WmmzYUUnvU4anaeIDaTr3qH8/Ef7B7mzMolvvzsJt+z/76d4xKNfMeyX3nVGfuSjPvvg7Tfyl82qp5rtV0zPr1bXZtHPvmjh20sO5drDn2HRO7beP8voz87L627Z0HFlNt8qgXHx7cyZcdnK9R6Or2fBcbn5wRX7cXdl3qFLrkaG3LcgLN/VNdfvyvPjs/KzZ1JYcNyiXjJ2U+0edJqLw7w5ybU0/e3que2xdqgeccuywp/LW8yNcXxzUtqW35a45W/e7frrl9Ix8aV6aD7h//yv+LhZ/ocsRfwEAAAAACmTDNwAAAACAAom/AAAAAAAFEn8BAAAAAAok/gIAAAAAFEj8BQAAAAAokPgLAAAAAFAg8RcAAAAAoEDiLwAAAABAgcRfAAAAAIACib8AAAAAAAUSfwEAAAAACiT+AgAAAAAUSPwFAAAAACiQ+AsAAAAAUCDxFwAAAACgQOIvAAAAAECBxF8AAAAAgAKJvwAAAAAABRJ/AQAAAAAKJP4CAAAAABRI/AUAAAAAKJD4CwAAAABQIPEXAAAAAKBA4i8AAAAAQIHEXwAAAACAAom/AAAAAAAFEn8BAAAAAAok/gIAAAAAFEj8BQAAAAAo0J+0aK8/mYv1lAAAAABJRU5ErkJggg==)![15-loss.png](data:image/png;base64,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)"
      ]
    },
    {
      "cell_type": "markdown",
      "metadata": {
        "id": "f6g6LxKt5pKs"
      },
      "source": [
        "### Métricas obtenidas\n",
        "\n",
        "*Loss:*\n",
        "* train_loss: 6.114\n",
        "* test_loss: 6.415\n",
        "* validation_loss: 6.096\n",
        "\n",
        "*Accuracy:*\n",
        "* train_bacc: 0.01\n",
        "* test_bacc: 0.011\n",
        "* validation_bacc: 0.01\n",
        "\n"
      ]
    },
    {
      "cell_type": "markdown",
      "metadata": {
        "id": "P-Rs-gIh5CLn"
      },
      "source": [
        "## Modelo 3\n",
        "\n",
        "Hiperparámetros seleccionados para este modelo:\n",
        "\n",
        "* EPOCHS = 30\n",
        "* FILTERS_COUNT = 200\n",
        "* FILTERS_LENGTH = [4, 6, 8]\n",
        "* LR= 1e-3\n",
        "* WD=1e-4\n",
        "\n"
      ]
    },
    {
      "cell_type": "code",
      "metadata": {
        "id": "TQw6h8A4c7GH",
        "colab": {
          "referenced_widgets": [
            "7eb41f5d1f0a4c6c88a24b2b7c127979",
            "341c8180278b4609b0a0b2b120e7cc08",
            "da41e207326548a4ab38956d48db6518",
            "cff7574d316c4a66914aff88d7c9a471",
            "27099fd029994d94817684426e9d6902",
            "3b1c70693d5e467d9b42f29094f16fa4",
            "5e0a814dcee8411c90aabe7cd81447eb",
            "57ad13c510db4590aabd4e02cb8b43ee",
            "ef359f1b3b5349c0bfcaf0d34d588aee",
            "c0d2e76652dc4178a5f1e56bb20ecce7",
            "6b8b8379ce774aa2a22f40e5000e949b",
            "dad72ef84e324f6394382c4938622b83",
            "13decdf6b5c841d6935d1f35f96438a8",
            "7f36d0b1ed2d4579b6d106b2ad10b103",
            "2f59c28c3d7a4f6d96a9d5b196a68f4d",
            "101ab9c2449e4d008d20789c06d6756a",
            "0737a42e1af1492aa56e1c338ebbb10e",
            "32734b546c3345fb8c5f052ab6e353d1",
            "7802c6bb193c41e6a4d232004a07d832",
            "87039eec0e634b0fab45f086e2542c05",
            "5864698369464be5a66d177334939d0c",
            "7a403561d0a44683909f4c4d63bd8d77",
            "4b02c0baf25a49cea652a9480f91d66a",
            "e80f73284ac44a0d86db9291229bf278",
            "19ee40e72e34429a99e247116000c95d",
            "118bcb38922b4b80b1b36de7728208fd",
            "91fe9a55a7f64665b44b45dec64ba4fc",
            "979a1b467aac43be80fa5ffcfc927adf",
            "0af35c7df58e4a0b965b28848f66bc78",
            "eb92b9691b3b4be1af099edead882666",
            "b1e25a73f0fc48c9830110a79f1e19db",
            "05c1b6038ad9480ab952fa3476f06848",
            "937bcae13f604e2bbaa0539546e32e76",
            "c0ae5064c7534876a340dfee033d38fe",
            "23f72f4a5d544b888c21d18245d55c6a",
            "ff7aa77c032b4b0eacf4577cd0eb8cd2",
            "32a03c02b95248ebbfef45879c4e5aa6",
            "7f89851fcd624a4dbdd86cd1266bfbf8",
            "bd57bd688db9422491a61bdb86cfac77",
            "392902a0658f4ef19a7c02a5986f67b0",
            "90aea81dbfa341d094e8170409f64f40",
            "1f90ed106c804488842cd241b3f68ed4",
            "ec2c6d7349db474ea779cb20a8396eb7",
            "d652bfadacde4fa483771de6cccbb6cf",
            "324b0ff70a74447e9969f59e32bf6c20",
            "3857ad64f0e24f50a48c6efaf4fa8c79",
            "77a2edc72548408082b4e32653b5c365",
            "7add0c21ad9f4db09bd9cc4ddb1588de",
            "01448c5ba886454389fa25ee0c037ed6",
            "64f47b273dd34c119a382c5aa8ba1e02",
            "7c9bc6d3295b492f84a61bdb9a4b327c",
            "7110047c155947e093d5aa2e40b700d3",
            "f1580640e98644a19d6c336a57554c20",
            "c217787e8eb74e109165145c0145e0ab",
            "ea3fbc63e2e344e7955ad5fef4481415",
            "568e4f54e27b47b4b953d669d8449f7a",
            "e897e35e87c04d708e581545e62cb900",
            "32664a9368e944f484601a37e0a7ff10",
            "4521f4a48bf948249817e3631199713e",
            "4b8530a2a2bf42478a60909812046bb7",
            "78e8deab24f3433db1e2aa650a151b0a",
            "0c13d11435a741038a2e464d9f4323ad"
          ]
        },
        "outputId": "8977fa89-6a9b-478f-c99a-27b5ae48c763"
      },
      "source": [
        "import random\n",
        "mlflow.set_experiment(f'Diplomatura')\n",
        "\n",
        "EPOCHS = 30\n",
        "FILTERS_COUNT = 200\n",
        "FILTERS_LENGTH = [4, 6, 8]\n",
        "LR= 1e-3\n",
        "WD=1e-4\n",
        "\n",
        "with mlflow.start_run():\n",
        "    #Start experiment\n",
        "    # Log all relevent hyperparameters\n",
        "    mlflow.log_params({\n",
        "        'model_type': 'CNN network',\n",
        "        'learning_rate': LR,\n",
        "        'weight_decay': WD,\n",
        "        'random_buffer_size': 512,\n",
        "        \"filters_count\": FILTERS_COUNT,\n",
        "        \"filters_length\": FILTERS_LENGTH,\n",
        "        \"fc_size\": 128\n",
        "    \n",
        "    })\n",
        "    # Look for the device\n",
        "    device = torch.device('cuda') if torch.cuda.is_available() else torch.device('cpu')\n",
        "\n",
        "    # Building classifier\n",
        "    model = CNNClassifier(\n",
        "            labels_count=train_dataset.labels_count,\n",
        "            token_to_index='./data/meli-challange-2019/spanish_token_to_index.json.gz',\n",
        "            pretrained_embeddings=\"./data/glove.6B.50d.txt.gz\",\n",
        "            vector_size=50,\n",
        "            freeze_embedings=True,\n",
        "            batch_size=600,\n",
        "            )\n",
        "    # Send the model to the device\n",
        "    model = model.to(device)\n",
        "    loss = nn.CrossEntropyLoss()\n",
        "    optimizer = optim.Adam(\n",
        "        model.parameters(),\n",
        "        weight_decay=WD,\n",
        "        lr=LR\n",
        "    )\n",
        "\n",
        "    # Training classifier\n",
        "    for epoch in trange(EPOCHS):\n",
        "        model.train()\n",
        "        running_loss = [] \n",
        "        targets = []\n",
        "        predictions = []\n",
        "       \n",
        "        for idx, batch in enumerate(tqdm(train_loader)):\n",
        "            optimizer.zero_grad()\n",
        "            data = batch['data'].to(device)\n",
        "            target = batch['target'].to(device)\n",
        "            output = model(data)\n",
        "            loss_value = loss(output, target)\n",
        "            loss_value.backward()\n",
        "            optimizer.step()\n",
        "            running_loss.append(loss_value.item())\n",
        "            targets.extend(batch['target'].numpy())\n",
        "            predictions.extend(output.argmax(axis=1).detach().cpu().numpy())\n",
        "        mlflow.log_metric('train_loss', sum(running_loss) / len(running_loss), epoch)\n",
        "        mlflow.log_metric('train_bacc', balanced_accuracy_score(targets, predictions), epoch)\n",
        "\n",
        "        #'Evaluating model on validation'\n",
        "        model.eval()\n",
        "        running_loss = []\n",
        "        targets = []\n",
        "        predictions = []\n",
        "        with torch.no_grad():\n",
        "            for batch in tqdm(validation_loader):\n",
        "                data = batch['data'].to(device)\n",
        "                target = batch['target'].to(device)\n",
        "                output = model(data)\n",
        "                loss_value = loss(output, target)\n",
        "                running_loss.append(loss_value.item())\n",
        "                targets.extend(batch['target'].numpy())\n",
        "                predictions.extend(output.argmax(axis=1).detach().cpu().numpy())\n",
        "            mlflow.log_metric('validation_loss', sum(running_loss) / len(running_loss), epoch)\n",
        "            mlflow.log_metric('validation_bacc', balanced_accuracy_score(targets, predictions), epoch)\n",
        "\n",
        "    #Evaluating model on test\n",
        "    model.eval()\n",
        "    running_loss = []\n",
        "    targets = []\n",
        "    predictions = []\n",
        "    with torch.no_grad():\n",
        "        for batch in tqdm(test_loader):\n",
        "            data = batch['data'].to(device)\n",
        "            target = batch['target'].to(device)\n",
        "            output = model(data)\n",
        "            loss_value = loss(output, target)\n",
        "            running_loss.append(loss_value.item())\n",
        "            targets.extend(batch['target'].numpy())\n",
        "            predictions.extend(output.argmax(axis=1).detach().cpu().numpy())\n",
        "        mlflow.log_metric('test_loss', sum(running_loss) / len(running_loss), epoch)\n",
        "        mlflow.log_metric('test_bacc', balanced_accuracy_score(targets, predictions), epoch)\n",
        "\n"
      ],
      "execution_count": null,
      "outputs": [
        {
          "data": {
            "application/vnd.jupyter.widget-view+json": {
              "model_id": "7eb41f5d1f0a4c6c88a24b2b7c127979",
              "version_major": 2,
              "version_minor": 0
            },
            "text/plain": [
              "  0%|          | 0/30 [00:00<?, ?it/s]"
            ]
          },
          "metadata": {},
          "output_type": "display_data"
        },
        {
          "data": {
            "application/vnd.jupyter.widget-view+json": {
              "model_id": "341c8180278b4609b0a0b2b120e7cc08",
              "version_major": 2,
              "version_minor": 0
            },
            "text/plain": [
              "  0%|          | 0/2391 [00:00<?, ?it/s]"
            ]
          },
          "metadata": {},
          "output_type": "display_data"
        },
        {
          "data": {
            "application/vnd.jupyter.widget-view+json": {
              "model_id": "da41e207326548a4ab38956d48db6518",
              "version_major": 2,
              "version_minor": 0
            },
            "text/plain": [
              "  0%|          | 0/598 [00:00<?, ?it/s]"
            ]
          },
          "metadata": {},
          "output_type": "display_data"
        },
        {
          "data": {
            "application/vnd.jupyter.widget-view+json": {
              "model_id": "cff7574d316c4a66914aff88d7c9a471",
              "version_major": 2,
              "version_minor": 0
            },
            "text/plain": [
              "  0%|          | 0/2391 [00:00<?, ?it/s]"
            ]
          },
          "metadata": {},
          "output_type": "display_data"
        },
        {
          "data": {
            "application/vnd.jupyter.widget-view+json": {
              "model_id": "27099fd029994d94817684426e9d6902",
              "version_major": 2,
              "version_minor": 0
            },
            "text/plain": [
              "  0%|          | 0/598 [00:00<?, ?it/s]"
            ]
          },
          "metadata": {},
          "output_type": "display_data"
        },
        {
          "data": {
            "application/vnd.jupyter.widget-view+json": {
              "model_id": "3b1c70693d5e467d9b42f29094f16fa4",
              "version_major": 2,
              "version_minor": 0
            },
            "text/plain": [
              "  0%|          | 0/2391 [00:00<?, ?it/s]"
            ]
          },
          "metadata": {},
          "output_type": "display_data"
        },
        {
          "data": {
            "application/vnd.jupyter.widget-view+json": {
              "model_id": "5e0a814dcee8411c90aabe7cd81447eb",
              "version_major": 2,
              "version_minor": 0
            },
            "text/plain": [
              "  0%|          | 0/598 [00:00<?, ?it/s]"
            ]
          },
          "metadata": {},
          "output_type": "display_data"
        },
        {
          "data": {
            "application/vnd.jupyter.widget-view+json": {
              "model_id": "57ad13c510db4590aabd4e02cb8b43ee",
              "version_major": 2,
              "version_minor": 0
            },
            "text/plain": [
              "  0%|          | 0/2391 [00:00<?, ?it/s]"
            ]
          },
          "metadata": {},
          "output_type": "display_data"
        },
        {
          "data": {
            "application/vnd.jupyter.widget-view+json": {
              "model_id": "ef359f1b3b5349c0bfcaf0d34d588aee",
              "version_major": 2,
              "version_minor": 0
            },
            "text/plain": [
              "  0%|          | 0/598 [00:00<?, ?it/s]"
            ]
          },
          "metadata": {},
          "output_type": "display_data"
        },
        {
          "data": {
            "application/vnd.jupyter.widget-view+json": {
              "model_id": "c0d2e76652dc4178a5f1e56bb20ecce7",
              "version_major": 2,
              "version_minor": 0
            },
            "text/plain": [
              "  0%|          | 0/2391 [00:00<?, ?it/s]"
            ]
          },
          "metadata": {},
          "output_type": "display_data"
        },
        {
          "data": {
            "application/vnd.jupyter.widget-view+json": {
              "model_id": "6b8b8379ce774aa2a22f40e5000e949b",
              "version_major": 2,
              "version_minor": 0
            },
            "text/plain": [
              "  0%|          | 0/598 [00:00<?, ?it/s]"
            ]
          },
          "metadata": {},
          "output_type": "display_data"
        },
        {
          "data": {
            "application/vnd.jupyter.widget-view+json": {
              "model_id": "dad72ef84e324f6394382c4938622b83",
              "version_major": 2,
              "version_minor": 0
            },
            "text/plain": [
              "  0%|          | 0/2391 [00:00<?, ?it/s]"
            ]
          },
          "metadata": {},
          "output_type": "display_data"
        },
        {
          "data": {
            "application/vnd.jupyter.widget-view+json": {
              "model_id": "13decdf6b5c841d6935d1f35f96438a8",
              "version_major": 2,
              "version_minor": 0
            },
            "text/plain": [
              "  0%|          | 0/598 [00:00<?, ?it/s]"
            ]
          },
          "metadata": {},
          "output_type": "display_data"
        },
        {
          "data": {
            "application/vnd.jupyter.widget-view+json": {
              "model_id": "7f36d0b1ed2d4579b6d106b2ad10b103",
              "version_major": 2,
              "version_minor": 0
            },
            "text/plain": [
              "  0%|          | 0/2391 [00:00<?, ?it/s]"
            ]
          },
          "metadata": {},
          "output_type": "display_data"
        },
        {
          "data": {
            "application/vnd.jupyter.widget-view+json": {
              "model_id": "2f59c28c3d7a4f6d96a9d5b196a68f4d",
              "version_major": 2,
              "version_minor": 0
            },
            "text/plain": [
              "  0%|          | 0/598 [00:00<?, ?it/s]"
            ]
          },
          "metadata": {},
          "output_type": "display_data"
        },
        {
          "data": {
            "application/vnd.jupyter.widget-view+json": {
              "model_id": "101ab9c2449e4d008d20789c06d6756a",
              "version_major": 2,
              "version_minor": 0
            },
            "text/plain": [
              "  0%|          | 0/2391 [00:00<?, ?it/s]"
            ]
          },
          "metadata": {},
          "output_type": "display_data"
        },
        {
          "data": {
            "application/vnd.jupyter.widget-view+json": {
              "model_id": "0737a42e1af1492aa56e1c338ebbb10e",
              "version_major": 2,
              "version_minor": 0
            },
            "text/plain": [
              "  0%|          | 0/598 [00:00<?, ?it/s]"
            ]
          },
          "metadata": {},
          "output_type": "display_data"
        },
        {
          "data": {
            "application/vnd.jupyter.widget-view+json": {
              "model_id": "32734b546c3345fb8c5f052ab6e353d1",
              "version_major": 2,
              "version_minor": 0
            },
            "text/plain": [
              "  0%|          | 0/2391 [00:00<?, ?it/s]"
            ]
          },
          "metadata": {},
          "output_type": "display_data"
        },
        {
          "data": {
            "application/vnd.jupyter.widget-view+json": {
              "model_id": "7802c6bb193c41e6a4d232004a07d832",
              "version_major": 2,
              "version_minor": 0
            },
            "text/plain": [
              "  0%|          | 0/598 [00:00<?, ?it/s]"
            ]
          },
          "metadata": {},
          "output_type": "display_data"
        },
        {
          "data": {
            "application/vnd.jupyter.widget-view+json": {
              "model_id": "87039eec0e634b0fab45f086e2542c05",
              "version_major": 2,
              "version_minor": 0
            },
            "text/plain": [
              "  0%|          | 0/2391 [00:00<?, ?it/s]"
            ]
          },
          "metadata": {},
          "output_type": "display_data"
        },
        {
          "data": {
            "application/vnd.jupyter.widget-view+json": {
              "model_id": "5864698369464be5a66d177334939d0c",
              "version_major": 2,
              "version_minor": 0
            },
            "text/plain": [
              "  0%|          | 0/598 [00:00<?, ?it/s]"
            ]
          },
          "metadata": {},
          "output_type": "display_data"
        },
        {
          "data": {
            "application/vnd.jupyter.widget-view+json": {
              "model_id": "7a403561d0a44683909f4c4d63bd8d77",
              "version_major": 2,
              "version_minor": 0
            },
            "text/plain": [
              "  0%|          | 0/2391 [00:00<?, ?it/s]"
            ]
          },
          "metadata": {},
          "output_type": "display_data"
        },
        {
          "data": {
            "application/vnd.jupyter.widget-view+json": {
              "model_id": "4b02c0baf25a49cea652a9480f91d66a",
              "version_major": 2,
              "version_minor": 0
            },
            "text/plain": [
              "  0%|          | 0/598 [00:00<?, ?it/s]"
            ]
          },
          "metadata": {},
          "output_type": "display_data"
        },
        {
          "data": {
            "application/vnd.jupyter.widget-view+json": {
              "model_id": "e80f73284ac44a0d86db9291229bf278",
              "version_major": 2,
              "version_minor": 0
            },
            "text/plain": [
              "  0%|          | 0/2391 [00:00<?, ?it/s]"
            ]
          },
          "metadata": {},
          "output_type": "display_data"
        },
        {
          "data": {
            "application/vnd.jupyter.widget-view+json": {
              "model_id": "19ee40e72e34429a99e247116000c95d",
              "version_major": 2,
              "version_minor": 0
            },
            "text/plain": [
              "  0%|          | 0/598 [00:00<?, ?it/s]"
            ]
          },
          "metadata": {},
          "output_type": "display_data"
        },
        {
          "data": {
            "application/vnd.jupyter.widget-view+json": {
              "model_id": "118bcb38922b4b80b1b36de7728208fd",
              "version_major": 2,
              "version_minor": 0
            },
            "text/plain": [
              "  0%|          | 0/2391 [00:00<?, ?it/s]"
            ]
          },
          "metadata": {},
          "output_type": "display_data"
        },
        {
          "data": {
            "application/vnd.jupyter.widget-view+json": {
              "model_id": "91fe9a55a7f64665b44b45dec64ba4fc",
              "version_major": 2,
              "version_minor": 0
            },
            "text/plain": [
              "  0%|          | 0/598 [00:00<?, ?it/s]"
            ]
          },
          "metadata": {},
          "output_type": "display_data"
        },
        {
          "data": {
            "application/vnd.jupyter.widget-view+json": {
              "model_id": "979a1b467aac43be80fa5ffcfc927adf",
              "version_major": 2,
              "version_minor": 0
            },
            "text/plain": [
              "  0%|          | 0/2391 [00:00<?, ?it/s]"
            ]
          },
          "metadata": {},
          "output_type": "display_data"
        },
        {
          "data": {
            "application/vnd.jupyter.widget-view+json": {
              "model_id": "0af35c7df58e4a0b965b28848f66bc78",
              "version_major": 2,
              "version_minor": 0
            },
            "text/plain": [
              "  0%|          | 0/598 [00:00<?, ?it/s]"
            ]
          },
          "metadata": {},
          "output_type": "display_data"
        },
        {
          "data": {
            "application/vnd.jupyter.widget-view+json": {
              "model_id": "eb92b9691b3b4be1af099edead882666",
              "version_major": 2,
              "version_minor": 0
            },
            "text/plain": [
              "  0%|          | 0/2391 [00:00<?, ?it/s]"
            ]
          },
          "metadata": {},
          "output_type": "display_data"
        },
        {
          "data": {
            "application/vnd.jupyter.widget-view+json": {
              "model_id": "b1e25a73f0fc48c9830110a79f1e19db",
              "version_major": 2,
              "version_minor": 0
            },
            "text/plain": [
              "  0%|          | 0/598 [00:00<?, ?it/s]"
            ]
          },
          "metadata": {},
          "output_type": "display_data"
        },
        {
          "data": {
            "application/vnd.jupyter.widget-view+json": {
              "model_id": "05c1b6038ad9480ab952fa3476f06848",
              "version_major": 2,
              "version_minor": 0
            },
            "text/plain": [
              "  0%|          | 0/2391 [00:00<?, ?it/s]"
            ]
          },
          "metadata": {},
          "output_type": "display_data"
        },
        {
          "data": {
            "application/vnd.jupyter.widget-view+json": {
              "model_id": "937bcae13f604e2bbaa0539546e32e76",
              "version_major": 2,
              "version_minor": 0
            },
            "text/plain": [
              "  0%|          | 0/598 [00:00<?, ?it/s]"
            ]
          },
          "metadata": {},
          "output_type": "display_data"
        },
        {
          "data": {
            "application/vnd.jupyter.widget-view+json": {
              "model_id": "c0ae5064c7534876a340dfee033d38fe",
              "version_major": 2,
              "version_minor": 0
            },
            "text/plain": [
              "  0%|          | 0/2391 [00:00<?, ?it/s]"
            ]
          },
          "metadata": {},
          "output_type": "display_data"
        },
        {
          "data": {
            "application/vnd.jupyter.widget-view+json": {
              "model_id": "23f72f4a5d544b888c21d18245d55c6a",
              "version_major": 2,
              "version_minor": 0
            },
            "text/plain": [
              "  0%|          | 0/598 [00:00<?, ?it/s]"
            ]
          },
          "metadata": {},
          "output_type": "display_data"
        },
        {
          "data": {
            "application/vnd.jupyter.widget-view+json": {
              "model_id": "ff7aa77c032b4b0eacf4577cd0eb8cd2",
              "version_major": 2,
              "version_minor": 0
            },
            "text/plain": [
              "  0%|          | 0/2391 [00:00<?, ?it/s]"
            ]
          },
          "metadata": {},
          "output_type": "display_data"
        },
        {
          "data": {
            "application/vnd.jupyter.widget-view+json": {
              "model_id": "32a03c02b95248ebbfef45879c4e5aa6",
              "version_major": 2,
              "version_minor": 0
            },
            "text/plain": [
              "  0%|          | 0/598 [00:00<?, ?it/s]"
            ]
          },
          "metadata": {},
          "output_type": "display_data"
        },
        {
          "data": {
            "application/vnd.jupyter.widget-view+json": {
              "model_id": "7f89851fcd624a4dbdd86cd1266bfbf8",
              "version_major": 2,
              "version_minor": 0
            },
            "text/plain": [
              "  0%|          | 0/2391 [00:00<?, ?it/s]"
            ]
          },
          "metadata": {},
          "output_type": "display_data"
        },
        {
          "data": {
            "application/vnd.jupyter.widget-view+json": {
              "model_id": "bd57bd688db9422491a61bdb86cfac77",
              "version_major": 2,
              "version_minor": 0
            },
            "text/plain": [
              "  0%|          | 0/598 [00:00<?, ?it/s]"
            ]
          },
          "metadata": {},
          "output_type": "display_data"
        },
        {
          "data": {
            "application/vnd.jupyter.widget-view+json": {
              "model_id": "392902a0658f4ef19a7c02a5986f67b0",
              "version_major": 2,
              "version_minor": 0
            },
            "text/plain": [
              "  0%|          | 0/2391 [00:00<?, ?it/s]"
            ]
          },
          "metadata": {},
          "output_type": "display_data"
        },
        {
          "data": {
            "application/vnd.jupyter.widget-view+json": {
              "model_id": "90aea81dbfa341d094e8170409f64f40",
              "version_major": 2,
              "version_minor": 0
            },
            "text/plain": [
              "  0%|          | 0/598 [00:00<?, ?it/s]"
            ]
          },
          "metadata": {},
          "output_type": "display_data"
        },
        {
          "data": {
            "application/vnd.jupyter.widget-view+json": {
              "model_id": "1f90ed106c804488842cd241b3f68ed4",
              "version_major": 2,
              "version_minor": 0
            },
            "text/plain": [
              "  0%|          | 0/2391 [00:00<?, ?it/s]"
            ]
          },
          "metadata": {},
          "output_type": "display_data"
        },
        {
          "data": {
            "application/vnd.jupyter.widget-view+json": {
              "model_id": "ec2c6d7349db474ea779cb20a8396eb7",
              "version_major": 2,
              "version_minor": 0
            },
            "text/plain": [
              "  0%|          | 0/598 [00:00<?, ?it/s]"
            ]
          },
          "metadata": {},
          "output_type": "display_data"
        },
        {
          "data": {
            "application/vnd.jupyter.widget-view+json": {
              "model_id": "d652bfadacde4fa483771de6cccbb6cf",
              "version_major": 2,
              "version_minor": 0
            },
            "text/plain": [
              "  0%|          | 0/2391 [00:00<?, ?it/s]"
            ]
          },
          "metadata": {},
          "output_type": "display_data"
        },
        {
          "data": {
            "application/vnd.jupyter.widget-view+json": {
              "model_id": "324b0ff70a74447e9969f59e32bf6c20",
              "version_major": 2,
              "version_minor": 0
            },
            "text/plain": [
              "  0%|          | 0/598 [00:00<?, ?it/s]"
            ]
          },
          "metadata": {},
          "output_type": "display_data"
        },
        {
          "data": {
            "application/vnd.jupyter.widget-view+json": {
              "model_id": "3857ad64f0e24f50a48c6efaf4fa8c79",
              "version_major": 2,
              "version_minor": 0
            },
            "text/plain": [
              "  0%|          | 0/2391 [00:00<?, ?it/s]"
            ]
          },
          "metadata": {},
          "output_type": "display_data"
        },
        {
          "data": {
            "application/vnd.jupyter.widget-view+json": {
              "model_id": "77a2edc72548408082b4e32653b5c365",
              "version_major": 2,
              "version_minor": 0
            },
            "text/plain": [
              "  0%|          | 0/598 [00:00<?, ?it/s]"
            ]
          },
          "metadata": {},
          "output_type": "display_data"
        },
        {
          "data": {
            "application/vnd.jupyter.widget-view+json": {
              "model_id": "7add0c21ad9f4db09bd9cc4ddb1588de",
              "version_major": 2,
              "version_minor": 0
            },
            "text/plain": [
              "  0%|          | 0/2391 [00:00<?, ?it/s]"
            ]
          },
          "metadata": {},
          "output_type": "display_data"
        },
        {
          "data": {
            "application/vnd.jupyter.widget-view+json": {
              "model_id": "01448c5ba886454389fa25ee0c037ed6",
              "version_major": 2,
              "version_minor": 0
            },
            "text/plain": [
              "  0%|          | 0/598 [00:00<?, ?it/s]"
            ]
          },
          "metadata": {},
          "output_type": "display_data"
        },
        {
          "data": {
            "application/vnd.jupyter.widget-view+json": {
              "model_id": "64f47b273dd34c119a382c5aa8ba1e02",
              "version_major": 2,
              "version_minor": 0
            },
            "text/plain": [
              "  0%|          | 0/2391 [00:00<?, ?it/s]"
            ]
          },
          "metadata": {},
          "output_type": "display_data"
        },
        {
          "data": {
            "application/vnd.jupyter.widget-view+json": {
              "model_id": "7c9bc6d3295b492f84a61bdb9a4b327c",
              "version_major": 2,
              "version_minor": 0
            },
            "text/plain": [
              "  0%|          | 0/598 [00:00<?, ?it/s]"
            ]
          },
          "metadata": {},
          "output_type": "display_data"
        },
        {
          "data": {
            "application/vnd.jupyter.widget-view+json": {
              "model_id": "7110047c155947e093d5aa2e40b700d3",
              "version_major": 2,
              "version_minor": 0
            },
            "text/plain": [
              "  0%|          | 0/2391 [00:00<?, ?it/s]"
            ]
          },
          "metadata": {},
          "output_type": "display_data"
        },
        {
          "data": {
            "application/vnd.jupyter.widget-view+json": {
              "model_id": "f1580640e98644a19d6c336a57554c20",
              "version_major": 2,
              "version_minor": 0
            },
            "text/plain": [
              "  0%|          | 0/598 [00:00<?, ?it/s]"
            ]
          },
          "metadata": {},
          "output_type": "display_data"
        },
        {
          "data": {
            "application/vnd.jupyter.widget-view+json": {
              "model_id": "c217787e8eb74e109165145c0145e0ab",
              "version_major": 2,
              "version_minor": 0
            },
            "text/plain": [
              "  0%|          | 0/2391 [00:00<?, ?it/s]"
            ]
          },
          "metadata": {},
          "output_type": "display_data"
        },
        {
          "data": {
            "application/vnd.jupyter.widget-view+json": {
              "model_id": "ea3fbc63e2e344e7955ad5fef4481415",
              "version_major": 2,
              "version_minor": 0
            },
            "text/plain": [
              "  0%|          | 0/598 [00:00<?, ?it/s]"
            ]
          },
          "metadata": {},
          "output_type": "display_data"
        },
        {
          "data": {
            "application/vnd.jupyter.widget-view+json": {
              "model_id": "568e4f54e27b47b4b953d669d8449f7a",
              "version_major": 2,
              "version_minor": 0
            },
            "text/plain": [
              "  0%|          | 0/2391 [00:00<?, ?it/s]"
            ]
          },
          "metadata": {},
          "output_type": "display_data"
        },
        {
          "data": {
            "application/vnd.jupyter.widget-view+json": {
              "model_id": "e897e35e87c04d708e581545e62cb900",
              "version_major": 2,
              "version_minor": 0
            },
            "text/plain": [
              "  0%|          | 0/598 [00:00<?, ?it/s]"
            ]
          },
          "metadata": {},
          "output_type": "display_data"
        },
        {
          "data": {
            "application/vnd.jupyter.widget-view+json": {
              "model_id": "32664a9368e944f484601a37e0a7ff10",
              "version_major": 2,
              "version_minor": 0
            },
            "text/plain": [
              "  0%|          | 0/2391 [00:00<?, ?it/s]"
            ]
          },
          "metadata": {},
          "output_type": "display_data"
        },
        {
          "data": {
            "application/vnd.jupyter.widget-view+json": {
              "model_id": "4521f4a48bf948249817e3631199713e",
              "version_major": 2,
              "version_minor": 0
            },
            "text/plain": [
              "  0%|          | 0/598 [00:00<?, ?it/s]"
            ]
          },
          "metadata": {},
          "output_type": "display_data"
        },
        {
          "data": {
            "application/vnd.jupyter.widget-view+json": {
              "model_id": "4b8530a2a2bf42478a60909812046bb7",
              "version_major": 2,
              "version_minor": 0
            },
            "text/plain": [
              "  0%|          | 0/2391 [00:00<?, ?it/s]"
            ]
          },
          "metadata": {},
          "output_type": "display_data"
        },
        {
          "data": {
            "application/vnd.jupyter.widget-view+json": {
              "model_id": "78e8deab24f3433db1e2aa650a151b0a",
              "version_major": 2,
              "version_minor": 0
            },
            "text/plain": [
              "  0%|          | 0/598 [00:00<?, ?it/s]"
            ]
          },
          "metadata": {},
          "output_type": "display_data"
        },
        {
          "data": {
            "application/vnd.jupyter.widget-view+json": {
              "model_id": "0c13d11435a741038a2e464d9f4323ad",
              "version_major": 2,
              "version_minor": 0
            },
            "text/plain": [
              "  0%|          | 0/32 [00:00<?, ?it/s]"
            ]
          },
          "metadata": {},
          "output_type": "display_data"
        }
      ]
    },
    {
      "cell_type": "markdown",
      "metadata": {
        "id": "1AqZKb8P7oYD"
      },
      "source": [
        "![30-bacc.png](data:image/png;base64,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)![30-loss.png](data:image/png;base64,iVBORw0KGgoAAAANSUhEUgAABYQAAAG3CAYAAAAEilFSAAAABHNCSVQICAgIfAhkiAAAABl0RVh0U29mdHdhcmUAZ25vbWUtc2NyZWVuc2hvdO8Dvz4AACAASURBVHic7N15mJTVnff/dy29793QQLM1CoIgi4oYFzQhIYaIUWNcJokGJ5pFNGIYx4ya+DNm1MyDMImIy6BxSSZBEo0mPmI0cUfiioLsCDQte9P73lX1+6MTEh4BQbq7uqver+vqy+KuOud87/L0Px8O3zsQi8ViSJIkSZIkSZISXjDeBUiSJEmSJEmSuoaBsCRJkiRJkiQlCQNhSZIkSZIkSUoSBsKSJEmSJEmSlCQMhCVJkiRJkiQpSRgIS5IkSZIkSVKSMBCWJEmSJEmSpCRhICxJkiRJkiRJScJAWJIkSZIkSZKShIGwJEmSJEmSJCUJA2FJkiRJkiRJShIGwpIkSZIkSZKUJAyEJUmSJEmSJClJGAhLkiRJkiRJUpIwEJYkSZIkSZKkJGEgLEmSJEmSJElJwkBYkiRJkiRJkpKEgbAkSZIkSZIkJQkDYUmSJEmSJElKEgbCkiRJkiRJkpQkDIQlSZIkSZIkKUkYCEuSJEmSJElSkjAQliRJkiRJkqQkYSAsSZIkSZIkSUnCQFiSJEmSJEmSkoSBsCRJkiRJkiQlCQNhSZIkSZIkSUoSBsKSJEmSJEmSlCQMhCVJkiRJkiQpSRgIS5IkSZIkSVKSMBCWJEmSJEmSpCRhICxJkiRJkiRJScJAWJIkSZIkSZKShIGwJEmSJEmSJCUJA2FJkiRJkiRJShIGwpIkSZIkSZKUJAyEJUmSJEmSJClJGAhLkiRJkiRJUpIwEJYkSZIkSZKkJGEgLEmSJEmSJElJwkBYkiRJkiRJkpKEgbAkSZIkSZIkJQkDYUmSJEmSJElKEgbCkiRJkiRJkpQkDIQT0OTJk+NdgtQpKisr412C1OHc10pU7m0lKve2EpH7WonKvS3tm4GwJEmSJEmSJCUJA2FJkiRJkiRJShIGwpIkSZIkSZKUJAyEJUmSJEmSJClJGAhLkiRJkiRJUpIwEJYkSZIkSZKkJGEgLEmSJEmSJElJwkBYkiRJkiRJkpKEgbAkSZIkSZIkJQkDYUmSJEmSJElKEgbCkiRJkiRJkpQkDIQlSZIkSZKkJBKJxqhviVDfEqGpNdIpa6xevZpVq1Z9orHPPfccV1xxxWHXcMkll7BkyZLDnifRhONdgCRJkiRJkqSu0dQaYf3OBiLR2J5rBdmpDMxP79B1Fi1axODBgxkxYsRe12OxGLFYjGBw/+dUTz/9dE466aQOrUf/YCAsSZIkSZIk9TDVja28v6X2kMeV7W6kLRL7yPV+BelkhA+tmUBuegrH9M/5yPWFCxfy7LPPkpWVRVlZGRdddBFf//rX+e53v8sjjzzCnDlzSEtLY86cOZSXlxONRjnuuOOYMWMGKSkpvPjiizz22GPMmzdvz2erq6vZtWsXFRUVfOtb3+Lkk08+pFp37NjBXXfdxaZNmwAYMWIE06dPJycnh5UrVzJ37lzq6+tpbW1l3LhxXHXVVaSnp/PMM8+wYMECIpEI0WiUqVOncuGFFx7S2t2NgbAkSZIkSZLUw7y7uYZv3flGXGsYO7yIBVee8JHr559/PkuWLGHixImcc845VFVVEYvFqKys5He/+x2BQIAbbriBQYMG8dOf/pT6+nq++93vsmjRIs4666y95gqHw7zwwgvcc889FBYWsmjRIu67775DDoRvv/12hg0bxs0330w0GuWWW27hvvvuY+bMmdx9991MmTKFqVOn0trayrx581i1ahUjRoxg9uzZzJ8/n4EDB1JZWcns2bM544wzyM/PP6zvLp7sISxJkiRJkiSp0wQCAQA++9nP7nn9ox/9iMsvvxyArKwsRo0aRXl5+T7HH3/88RQWFgJw5JFHsn379kNav7q6mmXLlnHuuecCEAwGmTJlyp7+wsXFxSxevJiVK1cSCoW4+uqrGTduHKmpqeTn5/P0009TXl5OQUEBt9xyS48Og8ETwpIkSZIkSVKPc9pRRay68wuHPG79zgbqm9s+cv2oPlmkp4Q6orT9ysvL2/N62bJlLFy4kLq6OoLBIFu3bmXSpEn7HJeZmbnndTAYJBqNHtK6u3fvBtgryM3NzaW6uppYLMbMmTNZsGABc+bMYefOnUyaNInLL7+c9PR05syZw6OPPsp1110HwHnnnceXv/zlQ1q/uzEQliRJkiRJkpJE//w0NlZEaWn7R6jaKzut08Ng+MdJ4bq6On74wx9y/fXXM3HiRABuu+22Tlu3qKgIgKqqKvr27bvndUFBAYFAgIyMDKZNm8a0adOoqKjgxz/+MQsXLuTiiy+mpKSEGTNmALBmzRp+8IMfMHToUMaMGdNp9XY2W0ZIkiRJkiRJSSI9JcSIvtkc1SeLI4uzGDMgl5L8tA5fJxwOU1u774feNTQ00NbWxvDhwwFYunQpy5Yto7GxscPrgPbTwGPHjuXxxx8HoK2tjT/84Q+cdtpptLW1MX36dNasWQNAQUEBhYWFRKNRNmzYwDXXXEN1dTUA/fv3JyMj45BPKHc3nhBOMNFYjFggTHNblLRDfDKkJEmSJEmSkkNnnwg+/fTTmTdvHitXrtzTbuHviouLueCCC7j66qvJzMxk/PjxXHnlldx+++2Ulpbu1Vqio1x33XXceeedTJs2DYCxY8dy6aWXEg6H+epXv8qsWbNoaGgAYNSoUZx//vlkZmZy/PHHc+WVVxKLxQiFQkyZMoVx48Z1eH1dKRCLxWLxLkIdIxaDirpmzr3kKmb91+2cOKww3iVJHaqyspKCgoJ4lyF1KPe1EpV7W4nKva1E5L5WonJvS/vmEdIEUlHXzB/e2Mquki/xw/9dHu9yJEmSJEmSJHUztoxIIAVZqQzslUEs2N4yQpIkSZIkSUpEGzdu5Cc/+cl+3z/33HM588wzu7CinsNAOIGEggEG9coko3YdjRlH87vXyjnrhBJS7SUsSZIkSZKkBFJaWsr8+fPjXUaPZFKYYNLCQYJtDURiMbZVNhGN2iJakiRJkiRJUjsD4QSTkRYm3FZDJBJj084GzIMlSZIkSZIk/Z2BcILJzQyT0ryT1kiUpRuraIvYS1iSJEmSJElSOwPhBJOeEiLcWkt+VirlFY28v7mG5lZDYUmSJEmSJEkGwgkpEG3hmIG5xIBXVu6ivrkt3iVJkiRJkiRJ6gYMhBNQINrKqEG5ANQ3tflgOUmSJEmSJEmAgXBCCsZaGT04j1gsxrKyGppsGSFJkiRJkiQJA+GEFIi2MnJALsFAgPc3V1PX1EbMQ8KSJEmSJElS0jMQTlAp4SDHDsknFAzw2GvlbKlsjHdJkiRJkiRJ6g4iLdBcDfXbobUu3tXs5ZJLLmHJkiXs3LmTyZMn09i470zrxhtvZOHChQc15xNPPLHn9R133MG9997bIbXuz9/vobsKx7sAdY6UUJCxpfks31xDWyTmCWFJkiRJkiRBUyXUbIJo5B/X0vKh4Mj41bQPRUVF/Pa3vyUjI+Ow5qmqquLhhx/m7LPPBuCKK64gEAh0RIk9loFwggoEID0lSABYv72e+ua2eJckSZIkSZKkjtK0G3YsO/RxlR9ArOWj13ethLScQ5srPQ+Kx33k8v3338/GjRu55ZZb9lybM2cObW1tXHvttTz22GM88cQTtLW1kZWVxXe+8x2OO+64veaoqKjgq1/9Kk8++SQZGRk8++yzPPzww4RCIUaNGkUk8o9Au7W1lTvvvJO33nqLaDTKgAEDmDlzJgUFBVx55ZXU1dVx2WWXceONN/K73/2O7Oxsvv3tb7Njxw7uuusuNm3aBMCIESOYPn06OTk5/OUvf+Gpp55i5MiRrF69mh07dvDpT3+aadOmHdJXdKA1Vq5cydy5c6mvr6e1tZVx48Zx1VVXkZ6ezjPPPMOCBQuIRCJEo1GmTp3KhRdeeEhr74+BcIJKTwkx5bh+PPJSGSvLa6hrNBCWJEmSJElKGFvfgvs+H98ahp8M0179yOXJkyfz7W9/m/r6erKysmhra+Pll1/mpptuYvXq1TzwwAM88MADFBcX8+STT3LbbbcdsP1DRUUFs2fPZtasWYwaNYrly5fzb//2b3tC5Mcff5z169fz4IMPEgqFuPXWW5k/fz433ngj1157LTfffDPz58//yLy33347w4YN4+abbyYajXLLLbdw3333MXPmTMLhMMuXL+drX/sa3/zmN9myZQvf+MY3mDp1Kr169Tror+hAa9x9991MmTKFqVOn0trayrx581i1ahUjRoxg9uzZzJ8/n4EDB1JZWcns2bM544wzyM/PP+i198cewgkqHApwRN8sSoszaWyJsLmigfomQ2FJkiRJkiR1rkGDBlFaWsqrr7aHxW+++SaZmZmMGTOGo446igULFlBcXAzACSecQFVVFfX19fud791336W4uJhRo0YBcMwxx1BaWrrn/fPOO49Zs2aRkpJCMBhk/PjxlJeXH7DG6upqli1bxrnnngtAMBhkypQpe/X+LSoq2hM6l5SUkJGRwY4dOw76e/i4NYqLi1m8eDErV64kFApx9dVXM27cOFJTU8nPz+fpp5+mvLycgoICbrnllg4Jg8ETwgktEIAxg/LYuKOBdVvrGH9kAVnp/i+XJEmSJEnq8YZMhts+wUOjKtZAa+1HrxeNhJTD69f7zyZPnsyLL77I5z//eZ5//nkmT55MIBCgsbGRhx56iBUrVgDQ1tZ+gDF2gAdg1dTUkJOzdzuLvLy8Pa+3bt3KQw89xJYtWwgGg1RXV39s7+Hdu3cD7BWy5ubmUl1dvaeWzMzMvcYEg0Gi0ejH3fpBrzFz5kwWLFjAnDlz2LlzJ5MmTeLyyy8nPT2dOXPm8Oijj3LdddcB7aH3l7/85YNe+0A8IZzg+hakEw4GWLu1jsq61niXI0mSJEmSpHjKL4WUfwpXA0HIG9yhYTDAZz7zGZYuXUpFRQWLFy9m8uTJAPzyl79kzZo1/PSnP2Xu3Ln88Ic//Ni5cnJyqK3dO8T+e9gK7W0ZCgoKuPPOO7nzzju56KKLPnbOoqIioP2hc39XVVVFQUFBhz107uPWyMjIYNq0adx3333Mnz+fdevW7WmdUVJSwowZM/jVr37FTTfdxC9/+Uvee++9DqmrWwXC0egmXv7vGVx8zhTOnHIOF1xxK0+u3nebg51PfIvJkyfv9XPeZU+zs4tr7s4CBCgtziI1HGTd1joq6/bRMFySJEmSJEnJI5QKRUdB3+Oh92jocyxkHHxP3INVUFDAmDFjuPvuuxk6dCglJSVAexuFAQMGkJWVRXNzMwsWLACgsbFxv3ONHj2abdu2sWxZ+0P03nzzTTZv3rzn/erqaoYNG0YwGGTHjh0888wzNDU1ARAOh2lpaaGlZe9cLDc3l7Fjx/L4448D7SeV//CHP3Daaad12HdwoDXa2tqYPn06a9asAdq/r8LCQqLRKBs2bOCaa66huroagP79+5ORkXFIp5MPpFv1Dyh78HpmvTOR/7j/vzmxqJYVd8/ghzc8wtDfXsrI/+ez9RX19Dr2p/z6v47b51xqbxkxeWwf7nv2A1ZsrmFnTTOtbVFSwt3q7wEkSZIkSZIUD6HUTp1+8uTJ3HbbbXz/+9/fc+0rX/kKt956K5deeinZ2dlceeWVbN68mZkzZzJv3rx9zlNcXMzVV1/N7bffDsDYsWM56aSTiEQiAFx22WXcd999/OY3v6GkpISrrrqKG2+8kZtvvpnrrruOkpISLrroIq6//vq95r3uuuu48847mTZt2p55L7300g79Dva3Rjgc5qtf/SqzZs2ioaEBgFGjRnH++eeTmZnJ8ccfz5VXXkksFiMUCjFlyhTGjRvXITUFYgdq0NGFYrRQ/uZfKMs5jVOG/60/R9k8rjh/J1MX38QXQ3t/ft1/n8/t1f/J/JuO6vpiu7nJkyfz7LPP7vnzTb95n0XvbOP8kwfyLxMH0r+wY/8JgNRVKisrKSgoiHcZUodyXytRubeVqNzbSkTuayUq97a0b93mhHCAVAaO/wID/+nah399g8rRFzAm9NHP19XXUvPhg1z99bWU7Wolp3QiX7nmar40vNvcUrdxVL8cXlm5i7Kd9eysbjYQliRJkiRJkpJUt0xPY7RQ/peb+NGCUr5+5xQG7OMz6cedzomF4/nCBTczKq+Gt+f/O7dc/TMK/ziTU8PtfwuUzP75/hsaG4hGo7S0tFJbW0tlZbc4FC59Isn+u63E5L5WonJvK1G5t5WI3NdKVF25tz2NnBw2btzIT37yk/2+f+6553LmmWd2YUWHrtu0jPi7KBW8e/cN/GzJSL552/eYWHJw49p4kdunzCXzxwv5/gmdW2N39/+2jKhrbOM7977F+5truO7cEVx06sADjJa6L/+5jxKR+1qJyr2tROXeViJyXytRubelfetWTxeLUsEb/2cGc98/mx/M338YHKOF7etWsql27+uBWBrh9M6vs6fJzggTCgVpbIlQtquBHdXN8S5JkiRJkiRJUhx0q0B4y5P/wbz3vsL1c6cwImXv92K08MGri3h1dQMxall6179xw//3HBta24PkVQ/8mvfSJvDpEfGpvbs7cWgh/QoyKN/VwIe7G+NdjiRJkiRJkqQ46DY9hNtYw58fW8uWbXP5zuS5e66Ho0OZev/dfKd0C+88eAd/Pnk0pwzvz+dv/hFbbrub//jSbGpJpXDYJL71sysYk3KARZJYv4J0stNDNDRHaGyOxLscSZIkSZIkSXHQbQLhMEfxjQef5xv7/UQp5/3Ps5z3tz8Fck/k0ttO5NKuKa/HO3pADkU5aZTtaqC8ogEoindJkiRJkiRJkrpYt2oZoc4zYkAuRTmplO1qYPWWWmoaW+NdkiRJkiRJkqQuZiCcRIrz0sjLTGFbVTNlOxviXY4kSZIkSZKkLmYgnETGleZT2juLyroWtlU2xbscSZIkSZIkSV3MQDiJpISDhEIBmlsjNLb4YDlJkiRJkiQp2RgIJ5HS4iyK89J4f3MNr62uiHc5kiRJkiRJioNNTeXcsn4ut6yfyy+3Pt4pa6xevZpVq1Yd9jxPPPHEQX3uueee44orrjjs9ZJBON4FqOuUFmfSOzct3mVIkiRJkiQpTp7c8Rxnv3bZXtcuLvwFsYlPdug6ixYtYvDgwYwYMeITz1FVVcXDDz/M2Wef3YGVyUA4iQQDASYMLWR5WTXrttXx5/d28NkxxfEuS5IkSZIkSV3k7GW3fPTi7vd4ZMtjXFzy5Q5ZY+HChTz77LNkZWVRVlbG9773PVatWsU999xDdXU1oVCIs88+m7POOguAZ555hgULFhCJRIhGo0ydOpVzzjmHK6+8krq6Oi677DJuvPFGSktLD7qGp556iscee4xIJEJqaiqXXHIJp5566n7Xu/DCC6mqqmLWrFmUlZURjUbp27cv3//+9ykpKemQ76W7MBBOMumpIdJTQlTWt9LQ3BbvciRJkiRJktSV6jbt8/KGhg87bInzzz+fJUuWMHHiRM455xzq6+u54YYbmD59OpMmTaKiooLvfve7DBo0iOHDhzN79mzmz5/PwIEDqaysZPbs2Zxxxhlce+213HzzzcyfP/+Q1l+6dCn3338/d911F/369WPNmjXMmDGD+++/n4KCgv2u97vf/Y7MzEweeughAoEAv//971myZAlf/nLHBOXdhT2Ek0zvvDR65abxYUUDb6yvjHc5kiRJkiRJSnDvvvsuqampTJo0CYCioiImTZrE888/T2pqKvn5+Tz99NOUl5dTUFDALbfcQn5+/ide7+WXX+ZTn/oU/fr1A+Coo47iiCOO4M033zzgesXFxaxevZrXX3+dpqYmzjnnnIQLg8ETwkmnf1EGJYXp1Da1sa2yKd7lSJIkSZIkqQt9fciF/HLDgo9c/8aAczttzd27d1NVVcXXvva1PddaW1sZPXo0wWCQOXPm8Oijj3LdddcBcN555x1WELt79+49YfDf5ebmUlVVdcD1zjrrLEKhEAsXLuQ///M/GTNmDNOnT//IXD2dgXCSyUkPM6xfDkOKs6iqb2V5WTXHDMqLd1mSJEmSJEnqAneOvAHgH6Fw1iCeGPMjBqcP6LQ1i4qKKC4u5qGHHtrn+yUlJcyYMQOANWvW8IMf/IChQ4ce1npVVVV7XauqqqKwsPCA640ZM4YvfvGLfPGLX6SpqYn/+Z//4Y477mDWrFmfuJbuyJYRSahfQTpD+mRR3dDC+2U18S5HkiRJkiRJXSQ/nMsjY35K7OyN7T+fe4kvFX+uw9cJh8PU1tYCMHbsWOrr61m8eDHQfjr4rrvuYunSpWzYsIFrrrmG6upqAPr3709GRgbRaJRwOExLSwstLS2HtPZpp53Ga6+9xrZt2wBYvnw5mzdvZsKECQdcb86cOTz55JMApKen079/f6LRaId8H92JJ4STUHpqiKy0MK1tMWoaW+NdjiRJkiRJkhLM6aefzrx581i5ciW33norP/nJT7jnnnu45557iEajTJgwgZEjR5Kamsrxxx/PlVdeSSwWIxQKMWXKFMaNG0dTUxMlJSVcdNFFXH/99YwfP/6g1h4zZgyXX345N9xwA5FIhIyMDG666SZ69+5N796997teYWEhP//5z1mwYAHBYJA+ffrwve99r5O/qa4XiMVisXgXoY41efJknn322f2+v6u2md+8vJkHn9/Ip0cVM2vamC6sTvrkKisrKSgoiHcZUodyXytRubeVqNzbSkTuayUq97a0b7aMSEK9ctIY2CuT5tYoa7fWUtvYFu+SJEmSJEmSJHUBW0YkqaKcVI7sm01FbTO/XbyZSz87JN4lSZIkSZIkSfv085//nPfee2+f74VCIe69994urqjnMhBOUoXZqRzRJ4uK2uZ4lyJJkiRJkiQdUCL28o0XW0YkqaKcVIb2y6KxJcLK8tp4lyNJkiRJkiSpCxgIJ6nCnFSO7JNNQ3OEZZur412OJEmSJEmSpC5gIJykUkJBinLT6F+Uwe7aFp5+eystbdF4lyVJkiRJkiSpExkIJ7HcjDAjSnJoi8T4YFs90Wgs3iVJkiRJkiRJ6kQGwkksNzOF4f1ziERjbKlsIhIzEJYkSZIkSZISmYFwEsvLTGHEgBxaI1GWbqgiEjEQliRJkiRJkhKZgXASy0gNMbAok+z0MBt31lNR10LEthGSJEmSJElSwjIQTnKZaSGOGZRHLAbLNlXT1BKJd0mSJEmSJEmSOomBcJJLTwkxrG82MeC9jdU0tRoIS5IkSZIkSYnKQDjJBQIQDgeIxWIsK6umsSUa75IkSZIkSZIkdRID4SRXlJPGv5w6CPhbywhPCEuSJEmSJEkJy0A4yQUCkJEWYszgfAIBWP1hLXVNbfEuS5IkSZIkSVInMBAWKaEg40rzCIeCrNhcQ22jgbAkSZIkSZKUiAyERTAA2elhAkBDc4RINBbvkiRJkiRJkiR1AgNhkZoS5PRRvUkJB3lj3W6q6lviXZIkSZIkSZKkTmAgLFJCQY4ZnEcoGGDdtjo27migocWHy0mSJEmSJEmJxkBYexw9IIe0lBBrt9ZSWecpYUmSJEmSJCnRGAgLgEAAThleRFZaiO2VTdQ3+WA5SZIkSZIkKdEYCAuAAAGK89MJhwJU1LXQaMsISZIkSZIkKeEYCAtoPyH8pRNKyM1I4eWVu/hgez2RaCzeZUmSJEmSJEnqQAbC2ks4FCRAgI076tlR3RzvciRJkiRJkiR1IANh7eXcE0voV5DOxh0N7Khuinc5kiRJkiRJkjqQgbD2khIKEghANBYjZscISZIkSZIkKaEYCGsvR/bNIis9zOtrd7N2a128y5EkSZIkSZLUgQyEtZejB+SSkxGmuqGV+ua2eJcjSZIkSZIkqQMZCGsvuZkpjD+igOK8NNZvreOD7fXxLkmSJEmSJElSBzEQ1keUFmeRl5nK1somtlX6YDlJkiRJkiQpURgI6yMKslNJTw2ytbKJ7VUGwpIkSZIkSVKiMBDWRwztl01hdirrt9fxwQ5bRkiSJEmSJEmJwkBYHzGgKIMBRZlkpoWpa2qjur413iVJkiRJkiRJ6gAGwtqnE4cWMKxfNqs/rOWNdbvjXY4kSZIkSZKkDmAgrH0KBAMEgFgsRjQW72okSZIkSZIkdQQDYe1TaXEWxflpbK9upmxXQ7zLkSRJkiRJktQBDIS1T6XFmRTnprO9qolNOw2EJUmSJEmSpERgIKx9SgkF6V+UQVFOGuu21vHKyl3xLkmSJEmSJEnSYTIQ1n71L8ygpCCdxpY2dte2xLscSZIkSZIkSYfJQFj71b8og5LCDOqaIuyobo53OZIkSZIkSZIOk4Gw9mtAUQYlhensrm1h/fa6eJcjSZIkSZIk6TAZCGu/8jJT6FeQQTgUYOOOetZtNRSWJEmSJEmSejIDYR1Qn7w0BvXOpKK2hbfWV8a7HEmSJEmSJEmHwUBYB9QnP53BvTKJRGM0NEfiXY4kSZIkSZKkw2AgrAPqk5/O4OJMahrbWL2lNt7lSJIkSZIkSToMBsI6oOK8NAb1yqSuqT0QjkZj8S5JkiRJkiRJ0idkIKyPVZiTxtC+2TS2RFi2uTre5UiSJEmSJEn6hAyE9bEKs1M4ok8WDc0Rlm+siXc5kiRJkiRJkj4hA2F9rFAwQGooQGNzG8s9ISxJkiRJkiT1WAbC+lgDijI5YVghDS0Rlpd5QliSJEmSJEnqqQyE9bFyMsIM6ZNNcV46FbXNbNxZT8SHy0mSJEmSJEk9joGwDkpuZpgR/XNojcR454MqA2FJkiRJkiSpBzIQ1kFJTwnROzeN1rYoSz+ooi1iICxJkiRJkiT1NAbCOiiZqSEGFGXQGomydGMVbZFovEuSJEmSJEmSdIgMhHVQeuelcerRvYhEY6zdWkdNYxvRmKeEJUmSJEmSpJ7EQFgHLRQMkJMeJga8t6mKxpZIvEuSJEmSJEmSdAgMhHXQCrNTOe+kARCD9zfV0NRi2whJkiRJkiSpJzEQliRJkiRJkqQkYSCsg1aY1gbxtwAAIABJREFUk8r5Jw8gRoxHXyunqr4l3iVJkiRJkiRJOgQGwjpooWCAnIwUAGobW1m7tY765rY4VyVJkiRJkiTpYBkI65CkpQT5wrF9SQkFWVleQ22jgbAkSZIkSZLUUxgI65CEgwGOKM4iFAxQ09BKW5sPlpMkSZIkSZJ6CgNhHZJQMED/ogyCwQDLymqo9oSwJEmSJEmS1GMYCOuQpISDHHtEAeFggOVl1dQ0tMa7JEmSJEmSJEkHyUBYhyQUDFBanMkRfbJICQfZWtlEXZOnhCVJkiRJkqSewEBYhyxAgM+NKSYnPcxf11SwZXdjvEuSJEmSJEmSdBAMhPWJpKWECAQC1DdHaPXBcpIkSZIkSVKPYCCsQxeA0aV5ZKQGee697WzY0RDviiRJkiRJkiQdhHC8C/ikotFNvPrzOdz3wmp2N6eRNWQCX7/63/nS8B57Sz1GABgzKI/01FC8S5EkSZIkSZJ0CHrsCeGyB69n1jsjmH7/0/zx6Ue4afR6HrzhEVbEu7AkEQwG+NL4Evrmp/Pyip2s3FwT75IkSZIkSZIkfYweGQjHaCE05mL+/fpL+FQRBMhh1JnH03dzGRsj8a4ueWSnhwmHAjS0RGi2j7AkSZIkSZLU7fXI/goBUhk4/gsM/KdrH/71DSpHX8AYuxh0mcHFmWSmhtle1URVfWu8y5EkSZIkSZL0MXpkIPzPYrRQ/peb+NGCUr5+5xQG/O16ZWVlXOuKt664/37ZUdJTYMP2ejZu3U1l/x6/ndQDJPvvthKT+1qJyr2tROXeViJyXytRdeXeLigo6LK1pMPRoxO8KBW8e/cN/GzJSL758+8xsd8/3kv2X8KuuP+CAhhUvI212xooq4xQF0ljYK/MTl9XyauysjLpf7eVeNzXSlTubSUq97YSkftaicq9Le1bj+whDO1h8Bv/ZwZz3z+bH8z/HhNL4l1RchrWN5uC7FTKdjaweVdjvMuRJEmSJEmSdAA99oTwlif/g3nvfYUfPTKFI+NdTBI7sl8WhVmpNLREaGzxiX6SJEmSJElSd9YjA+E21vDnx9ayZdtcvjN57p7r4ehQpt5/N9NL41dbshnWL4eC7BTWbKljy25PCEuSJEmSJEndWY8MhMMcxTcefJ5vxLuQ7igWISMUgbrtkN2n05cb3DuTXrlpLF5dQdmuBhpbImSkhjp9XUmSJEmSJEmHrsf2ENZ+NOxmUsF2+P0VEGnpkiVLe2dRnJfO+2U1vLpyV5esKUmSJEmSJOnQGQgnmg/fZsagVfDB8/DSbGjt/DYOg3tn0js3tdPXkSRJkiRJknR4DIQTTd/R/HLrEGiqhldmwas/g4bdnbpkaZ/2E8I7aprZXGEfYUmSJEmSJKm7MhBONNnFvFRVDKPPh4YKeG0ubHoFmms7bcnS4kyK89LYXtXEpp0NnbaOJEmSJEmSpMNjIJxogmE+bM6AU7/fHgrX74Q//xh2re20JdNTQpQUZpCbmcLO6iY+3O0pYUmSJEmSJKk7MhBOQC3RIJSMg1NnQp9jYNsyWLMIarZ02pr9CzPoX5hORV0L67fVddo6kiRJkiRJkj45A+FEFUqFgRPgtGshqxcsexSWPwbV5Z2yXHZ6mKy0MLtrW1i/rb5T1pAkSZIkSZJ0eAyEE1kgAGMvglHnQs2H8NYD8P7vOyUU7leQTt+CdHZ7QliSJEmSJEnqtgyEk8EpV8OQT0PF+vZQeM0zHf6QuaH9shk5MJdoDMorGqlpbO3Q+SVJkiRJkiQdPgPhZFA0DMb/Kww+BSrWwYrfw/ZlHb5Mn7x0BvfOpKaxlVXlHRs4S5IkSZIkSTp84XgXoC4yfAoQgGhr+0PmVj8NfcZAWnaHLVGUk0pJQTqrt9SxqryWCcMKO2xuSZIkSZIkSYfPE8LJZPgXYPT5EE6HFU/CsoUQ6bjWDqFggFAwQE1jK6u3eEJYkiRJkiRJ6m4MhJPN8ZfCsV+H7cvh5Tvg7Uc6bOoxg/M4bVRvahpaWfWhgbAkSZIkSZLU3RgIJ5tQCgz6FBw5CSrWwCt3wBv3d8jUwb+dEAaob25jxeaaDplXkiRJkiRJUscwEE5GAyfAyd+DIZ9pf8jca3fClncg2nbYUw/unckpI3rR2Bxh2abqDihWkiRJkiRJUkfxoXLJKC0Xhpz2jz+Xvdp+SnjK7ZB6eA+Zy0gNUZiVQiQao7758ANmSZIkSZIkSR3HE8LJKj2vPRSecBnklMDKJ2HlU9B8eL1/++anM7o0n7qmNl5bXdFBxUqSJEmSJEnqCAbCySw9D0pPhaPPgpry9tYRqxdBY+UnnrIgO5XS4iyaWiOsKK/lw92NRKOxDixakiRJkiRJ0idlIJzsMgphzAVQchxs/issmQtrn4OG3Z94ypz0MEf2zaa1Lco7H1TRZiAsSZIkSZIkdQsGwskunAZ9x8CpM9v/u/mv8Nd5sGPlJ56yMCeV8UcUEInG2LSjnoiBsCRJkiRJktQtGAgLUjJg7IVw6veheBSUvdb+oLmGT9YDOC0cpFduKpFojK1VTURjBsKSJEmSJElSd2AgrHaBIBz7NTj1GigaBm8+ACuegNbGQ56qb0E6nxvbh6bWCI8t+ZDm1mgnFCxJkiRJkiTpUBkIa2/Hfh2GfxGaamDpr2H98xBtO+RpAgQIh9q3V1skhoeEJUmSJEmSpPgzENZHjTkfikfAhufh5Ttg9aJDnqIwJ5WLThlALAa/enETlfUtnVCoJEmSJEmSpEMRjncB6ob6joFxF0NDJZQthnd6Qa9h0Hv4QU8RCLDnhHCrJ4QlSZIkSZKkbsETwvqoUCqM/BJ8ajr0OQbW/Qle/e9DmiI9JcRRJTnEiPHHt7ZS09DaScVKkiRJkiRJOlgGwtq3zCIYeRZM+DYUHQXrnoUldx/88LQQowfnAbCjuom2qEeEJUmSJEmSpHgzENb+ZfeBo8+E4VOguhzeeRjWPXdQQ0PBAL1z0zhtZG9SQkHeWLubyjr7CEuSJEmSJEnxZCCsA8vpB0M/B6UTYftyePVn8MGLEPn4FhApoQDHDMwlFAqwdmst9U1tXVCwJEmSJEmSpP3xoXL6eP3GwIRvQc2Wv50QDkBuPygcAsGU/Q4LBgMU56fTJy+dDTsaKK9opFdeGukpoa6rXZIkSZIkSdIenhDWx0vLhdJT4YTLIW8ArH4K3voFNFYdcFhKKMhxR+Rz7JB8lpdV88QbW3hzXSXV9T5gTpIkSZIkSYoHA2EdnJx+cNzFcOIVkJYNL/4Utr4LbU37HRIOBRjWL4dTRhQxuHcmT721lXv/9AGLV1dQ22j7CEmSJEmSJKmr2TJCBy+zCMZPgw/fgPcfgzcfhIwC6DsaQqn7HBIIwFknlBCLwUMvbGTphiqi0RgAnz6mNxmpto+QJEmSJEmSuoqBsA5NRgFc8Aj818vw3q+BKEycCSXjILD/cPdLE0oIBuAXz2/knQ1VtEVjEIsxeVxfwqFA19UvSZIkSZIkJTFbRujQBYNw/oOQPxCWLYSXZkH5Wx877AvH9eNfJw1h1MBclm2q5oG/bORPS7d1fr2SJEmSJEmSAE8I6xMJwOBT4IRvwV/vgVV/gILBkNMX8gftd1Q4FOAzo4spKcrgkRc38ezS7fziLxuJxmDq+H5dWL8kSZIkSZKUnDwhrE8mnA7j/xUmfBuy+8LbD8Hy333ssMy0ECMH5HLx6YOZclxfVm+p5d4/rWfOH9Z2QdGSJEmSJElScvOEsD65nL5w3MVQU97eOuKDF2DwyTDwxAMOS0sJcvSAHC46dSCBAPzxza3UNW0hFAxw+eQhPmhOkiRJkiRJ6iQGwjo8+YPghMugZguUvw6vzwcCMHDCAYelp7SfFJ72mVIG9crkyTe28tvXytle1cRXTh7AiP45BsOSJEmSJElSBzMQ1uHrfzwM+zxsXw6r/th+LRCEAeMPOCw9NcTRA3LpV5BBXmYqv/jLBh7/64dU1rdwyacHM2ZwPplphsKSJEmSJElSRzEQVsc44jNQXQ7vLYCVT0AoDPkD2vsLf4z8rBTOO6k/bZEof3p3O6+uqiAcChCLwdhSQ2FJkiRJkiSpoxgIq2P0GQnHXdL+eumvYNVTMPgkOPaSgxqekRriG5NKGVCUwUPPb+LlFbsIEKCxJcLY0nyKclI7sXhJkiRJkiQpOQTjXYASSPHRMP5fYcyF0NYEbz8M1ZshFj2o4QHgc2P7cMmnB3PMwDxefH8ndy9azwvLd1Bd39q5tUuSJEmSJElJwEBYHavXMDj26+39g8uWwEt3tD9wLho56Ckmj2sPhUcPymP1llp+9VIZz723nfrmtk4sXJIkSZIkSUp8BsLqeP3Gwhm3QqQFXvs5vDQLarce9ElhaA+Fp00qZWxpPqs+rOWh5zex6O1ttEVinVi4JEmSJEmSlNjsIazOkVUME74Dr90Jf53Xfu3UGVBQetBTfPqY3gQDEAzA6+sqeeDPG4nF4CsnD+icmiVJkiRJkqQEZyCszpHdB077NyAGb94Pb/+i/fqnvgu9hx/UFKFggJOGF1Gcn87CxZv57eJy5i1az4ryGn50wcjOq12SJEmSJElKUAbC6hzBEOT2h9OuBQKw9Jfw7v9C1UY45jw48rOQW/Kx06SnhhjWL5sLThlIMBDgN69s5k9LtxMMBLjmS8PISnMLS5IkSZIkSQfLNE2dJxiC/EFw8lXQayiseAI+fBsq1kH5mzD2qzDoxI+dJjUcZGjfbL5y0gDSUoK89P4unnp7K6nhIJ8bW8yI/rlkpoW64IYkSZIkSZKkns1AWJ2v1zDIyIO+o+H9J2Dlk7DsUajdBkefBUMmQv7gA06RGg4ytF82F506iKMH5DLv6fU89dZWVm2p5RufHszxRxaQne52liRJkiRJkg7EBE1dI6sYjiiG7L6Q1x/WLILy19tPC295p72NxOCTDzhFajjI4N6Z9MlPoy0S44E/b+D1tbsJAJFojAnDCg2FJUmSJEmSpAMwPVPXKj4asnpB32Ng1dOwdhG8OR+qNkPDLug3tr23cDBlv1Okp4Q498T+tLZFWbR0G0s3VBEMQG1jGycOK6RvQXoX3pAkSZIkSZLUcxgIq+tl9YajpkDvoyFvACz/LWx8CXauhJFnt7eR6HMMpGbtd4pAAC48dSAlhek88mIZb39Qyc6aZmoaWjnj2L4U56V14Q1JkiRJkiRJPYOBsOKnoBQ+9R3ofxy8twDWPAMv3AbbV8CEy6FkHGQWQmj/4e7Ekb2JxSAAvLm+koWLywE4c3w/CrNTu+Y+JEmSJEmSpB7CQFjxlZYLQz8Hg06C1+fDkrmw7lmoWNPeV/jos9vbTKRk7HeK00b1JhgMAPDXtbv59StlAJz7qf72FJYkSZIkSZL+iWmZuofULDj1ahh8Iiy5G9b+Cf7yE9j4KpwyA4ZNhlAKBIL7HH7q0b0IBQMEAvDKqgoeemETsVh7W4m0lH2PkSRJkiRJkpKNgbC6lwEnwLnj4O1H4NWfwYYXoKoMRp0Lx13c3lt4PyYMK6SkMIPfvFLGg89v4q5F63hvUzWzpo3puvolSZIkSZKkbsyjk+peAiEIp8PYi+DsuXDCtyAWgdfvhce/A0v/d79DQ8EAA4oyuOCUgVz2uSHUNLbx0oqdXPvQe9Q1tXXhTUiSJEmSJEndkyeE1T2l5cDAE6HwCBg4Ad78BZS/Di/cCluXwth/gb6jIbj3Fv57KHzuif1JTwnyp6XbeX75DtJSglx15jD65O3/AXWSJEmSJElSojMQVveVkgH5g+DosyCnL6z8A6z/M7zzCGxeAsddCsd8GdLz9h4WCjKwVwbnnTSAYwblMeuJNTy/bAdbK5v46sRBTBhWSE6GW1+SJEmSJEnJx1RM3V9mEQw5DfIHQ//x7W0j1j8HTbVQtRGOOqO9t3Ba7p4hKaEgffPTKcxOZcbUYdz19DpeX7ub+uY2mlsjnHJ0L/IyU+J3T5IkSZIkSVIcGAirZ0jJhOKjIX9g+2nhvP5Qthjefhi2vgtHfwmGTYa8gXsNSw0H+eyYYppbI/zft7fx+trd/O/LZVTWtzJxZC8G9cqM0w1JkiRJkiRJXc9AWD1LanZ78Ft0JKx7Dt5/HNY/D5WboGYLDPs89BoGGQV7Dfvi8f3onZdGSijA4tUV7H6pjB1VTZx+TG+O6JNNfpanhSVJkiRJkpT4DITV8wTD0Ouo9p+CI+Cdh9t7Cy+562+nhc+CIz7Tfpr4n5wwtJBYDLLSw7y8YhePLi5n9ZZaJo7szZjBeQzslWkwLEmSJEmSpIRmIKyebfgXoNdQyC5uf+jcqj/C1qXtJ4bHXgg5/SAtZ8/HJwwrpH9RBr3z0nju3R28s6GKN9ZVMqY0jynH9eXYIQUU56WRkxEmGAjE8cYkSZIkSZKkjmcgrJ6vaChM/W8YcAL89V7YvhxeuQPKX4fjp8GRkyA9DwJBAPoXZnD1mcP43Og+LFy8mRdX7GLZpmreWFfJqAG5fOXkAZwwtIDeuWmkp4YIBQ2GJUmSJEmSlBgMhJU4xn0NhpwOb8yHl/4LVv9f+OB5OOlqmHgNZORDMAS0B7yjBuUyatAoync18vALG1n4Wjkrymv44a+XM/JvwfDpI3tTnJ9GOBjEA8OSJEmSJEnq6YLxLkDqULn94TPXw6WLoN84aGmAV2bBry+CFU9AY/VHhvQvyuDfzhnOszedxqWTSslIDbHqw1puf2wVV81/h0de2MSHuxvjcDOSJEmSJElSxzIQVmIJBCCUCgNPhH/5NZw9FyItsOlVeGI6/PnHsHPVR4akhoMU5aTxzc8N4Q/Xn8r0KUdSlJ3Kmq113PunD5j54LvMW7SeD7bXx+nGJEmSJEmSpMNnywglpnAaFB0JmUXtJ4Wf+Q8ofwOW/hIqP4BRX4ahn20/Ufw3gQDkZaaQl5nChacM5DPHFPPyyl388c2trNhcw5bdjby6ahcnDiviC8f24aiSnAMUIEmSJEmSJHU/BsJKXIFQeyA8+GSY8l+waTEsuQvW/wV2rYU1z8DQSXDkZ6GgdK+hvXLT9vwcd0Q+73xQxXPv7eDdjdWUVzTy9geVHDskn8+OKWZYvxzSUjxsL0mSJEmSpO7PQFjJYeCJUDgE8gfB2w/Dxpehqgy2L4ONr0DpqXDEZ6DwiL2GFeelUZyXxpDiLI4ekMuyTdW8umoXr6/dzQfb63l/cw3jhuRz0lFFDCvJJjvdXylJkiRJkiR1X6ZXSh5ZxXDM/8/enYfpldd13n+fe699X5PK1tk6Sa9Id4N0g2BrIz7igs4M4z4DzsiwqiD4zDgOMyMgKiiijwPKjI7ItKOgIiIgW9P0Ar2n6SydrZJUJbUvd9W9n+ePk6T2SqW3SlW9X9d1rtR9zu+c+3eqT99JPvXN9/djUNsOXTdEfYX7H4PHPgWnvwUnvwmNPbDlJVHFcEMPJKuAqGL49n1prt/WwL6eeh4+PsJDx0a599AQT52Z4IlTY9y0vYmbdjSyq6uWhurk6t6rJEmSJEmStAgDYW08226Htr1RK4ne+2H0JIyehkOfhYl+2Pm90LobNr8YNr0oqixO1QJRj+FXHGjjpXtbuPepIe49NMiTveM8cGSYx06M8fDxBm7Z1cz1WxvY0VFLY43BsCRJkiRJkq4eBsLamGraYPdd0VaYhLOPwFN/F/UZPvcEHPsKHPqHqL/wzldFFcUNPZCOFpJLJWK84kAbrzjQxtefHORLj5/jyd4Jvv10VDl8w7YG7tjXxvVbG+hprTYYliRJkiRJ0lXBQFhK1UY9hLfcCv2PwyOfjHoMT56HJz8Dx74cHd99F7RcA5lGqOu6FA7fvq+V2/e18sCRYT777T4eOjbKI8dH+dbREa7f2sCrb+7kph1NtDekqcskiMWCVb5hSZIkSZIkbVQGwtJFsSR03xxt/Y/DmW/D2YejthJP/T08+pdRT+FtL4ObfzZqOVHVCIkMBDFu2dXMLbuaOdg7zt339vLVg4M8fmqMB4+OsK+nnh9/6WZevLOJ1vo0Vak4cYNhSZIkSZIkvcCCMAzD1Z6Enlt33nknX/jCF1Z7GuvH8HF44v/Co5+E8wehXIRYHHpug+9+C2x/eRQMBwkIZkLe00PT/K8vn+Dub56mVA4plivs21zP6166mTv2tdHRmCYRi80+RZcxMjJCU1PTak9Dek75XGu98tnWeuWzrfXI51rrlc+2tDgD4XXIQPg5FlagUoLxs1Ff4Qc/DmcfikLheBI2vRhe/G+jlhK17TOnhVAsV5iYLvG/vnyC//XVk+SLFRLxgJ2dtbzmu7r4/hs72NxSvYo3t7b4m7nWI59rrVc+21qvfLa1Hvlca73y2ZYWZyC8DhkIP08qZShmITcO0yPwwMeg7yE4dxBiCUjVQNN22Psa2PfDUb9homB4fLrIxHSJv33gDHd/8wwD43lq0nG2ttXwiv1t3HVzJzs6alb5Bq9+/mau9cjnWuuVz7bWK59trUc+11qvfLalxdlDWFqpWBzS9dFW3wV3/DIUJuD0A/D4/4VT98Kpb8LQETj0Odj5Ktj/wwRt19JQnaShOslPfHcPrzjQzj3fGeTvv9XHd06P0zcyzTcODXLrrmbuuqmT3d11q32nkiRJkiRJWqcMhKVnIohDY0/0dV0XdN4AZ74Fhz8PJ78BJ++BoaNw/GvRInT7Xgtte2mtT1/abtrRyMPHRvnSY+d59MQYpweneeDoCI3VSXZ01PDy/W1cu7me6nR8de9VkiRJkiRJ68bVFwiPPczd738vn/zKDfz7e3+dO5cYNvCZN/L6jxyfs69+6zv4o4+9mrbnf5bSjKqmaGvaBp3Xw9CPwthpOPc4nLoPzn8Heh+Auk5o3g7bbqe98zradzazvb2GfT31HOmb5On+Se4/PMy3jg7TWpfmiVNjdDZVsak5w/VbG9m/pZ7m2tRq360kSZIkSZLWsKsrEO77NO9815doe9UBmv95+aHZoSytN72fT37g5hdmbtLlVDVBz63RVpiEwSNw8t6olcTJe+HQZ6G2A05+E7a+FLa+lNaO/bzs2lZevLOZU4NT3LS9kb6RHH2jOR47Mca3j41SnYqzZ9MIu7pq6WrKsLWthuu21tPekFntO5YkSZIkSdIac3UFwlX7eePv/DA7pz/EL350bNmhpfECNTW1L9DEpCuUqoXum6B9H+x4ORz5Ipz6Bpx9BI58Puo7fOpe2P4K6DhAuq6TXfUd7HrJZgB6B6e4/8gw3356hLGpIv2jOf7m/jOEIezuruW7djazuaWK1ro0ezfX0dGQIREPVveeJUmSJEmSdNW7ugLhxl3sBOi9/NDJ7ATjZz7BW3/yCKcGi9Rtu53Xvf2t/NCeq+uWtMEl0tBxINoG7oKnPgt9j8JEH5w/BGcfhYbN0LYXOvZDzy1Q1UxPdQs9t3bykj0tTOXLPHVmnHufGuLU4BTT+TKfuqeXbL7E9o4aXnVdO7u762ipS9HdXEV7Q5pM0r7DkiRJkiRJWmjNpqeZm1/Orc3fxV0/8RvsbxjnoY+9k/e+9cM0//0v8bIEjIyMrPYUV9VGv/+rUqIDDvw8HID4eC+ZY18idewLMPAknH0Ywgq07SNs3UepbR/FtmtpqGqhrrqNts1V7GtrZCDbxOB4kS8/OcyTZyYpl8v8xddOkc2X6WpK87I9jdy0rZ6OhhT1VQmaa5NkkrHVvvPnlM+21iOfa61XPttar3y2tR75XGu9eiGf7aamphfsvaRnIwjDMFztSSzQ+yF+8XVj/Mj9Sy8qN1+Jr/K+V3+E6v9yN+948fM6u6venXfeyRe+8IXVnoZWYqIPjvwTPH43nH8SijnIjUbHSnlo3Q3X/XhUQdzYA83XQDzBdKyWw+cKAPzVN8/w4NFhpvIlpvJlpgtlmmpTvGxvK3fd3MnOzlrSyRh1VQnSyThrubHEyMiIv8Fq3fG51nrls631ymdb65HPtdYrn21pcWuyQjikwPmjT5PruJatdTP7gzBNwnW2tJbUdcHNPxNthSycuAfu/XB07PS3YPQkfPV9UClBXTc074CmbVS9+N9yw6abIYhzw0/s4uCZSaaL8JUnBvjiY+fpG8nx2Yf6+MyDZ8kkY7xoRxM/9T1buXFbI+lEjEQ8RjwWEKzldFiSJEmSJElXbM0EwiEFjn/jn+lrvYOX7JnmkT/4Zf4s9nbe+77vZWtyiKf+5JM8lr6FX9u72jOVnqFUNex8FWy/I3p95ltQmITv/F20jZ+ByX44dR888VeQyEDPrbD5VvZveTGVnlu5fusuXnvLJvpGpjnaN8mn7z/L4b4Jvnl4iAefHiEWwP6eBn7sJZu4Y18bLXWp1b1nSZIkSZIkvaCuqpYRZ+7+Od74x6cpzNoXZwt3feTjvHnPCT79hjfwpZd+go/+3CbC8fv5xG/+IZ9/5DwTpGje9Up+9h2/yKu2rZmM+3ljy4h1opSP+goXs1H18GgvnH0IzjwU9RzufxySmSgYTqSjX1t3w94foNB1A4V0J33BZp46M06+WOHue09zsHecWAC1mQSZVJzNLVW8Yn8b33tDB1taq1f7ji/Lf+6j9cjnWuuVz7bWK59trUc+11qvfLalxV1VgbCeGwbC61Q5D/kJyE1AYQKmR+Hc4/DIJ6E4DUNHoVKEmjZI10FtB7TuIpdMUzjw05xL7eHh4yMUSyH3fGeQh46NRP2Ga1I016VoqU1x3dYG7rq5kz3ddZefzyrwN3OtRz7XWq98trVe+WxrPfK51nrlsy0tznJaaa2Ip6E6DdWt0euwAu37oPtmqJSh/zGYGoa+R+HkPVFA3P8YmXiazJlHqK9uoauujdLuH+fGhhoe29PBSK6KE+ezPHBkmCN9kxzpm+TBp0dorE6yvaOGV+xvo746SUdjmvqq5OrevyRJkiRJkp41A2FprQpiUNMabQDt10ZtJsZOw9CPwPhpGDoGwxe241+jtq4TBo/RmKpmRwBgn1ltAAAgAElEQVRTtZs513MbN266lpNjtWRzJe4/PMy3jg7TWpfm4KkxMqk49VVJupsz7OtpYGdnDZlUnM5GV3CUJEmSJElaawyEpfWiuiX6tb4bem650Hf4VBQQj/VG22gv9N4PhUmqsoNUxZO0dDzGrtadDKa6ydZ2sT+X48HOvSRrOnmyN8tUvsTIZJFEPGBXVy1b2qpJJ2N0NlbR1ZShszFDV3OGrsYMyURsdb8HkiRJkiRJWpaBsLRepWqiquH2a2f2DR+DY1+B3BgMPAWT/TBxjuTBz9BVykPDZnbG4rys9RbClj18k1omigFHcm0MFmoZni7zjaemKZQqZHMlelqr6Wmpin5traK9IUNrfYrW+jRt9WlqM37ESJIkSZIkXU1Ma6SNpHlHtEHUUmJ6FAYOw/GvRGHx5ACMHKMn+1n4zp+xpXk7JKoYatrESOt1PD1dx+PZZsbKGQ725yG2jQePnOXRk81MTJfpaMywvb2GHR3Rtqm5ippMgmQixpbWahpr7EMsSZIkSZK0mgyEpY2qfnO0dRyAAz8K+Qk4/SAc/OvoeP8TMD0C+QlaTn2blsp97Czl+f5kFaXaVo7VpMnu/pf8Te4clZYDPD2WZKSQ5vHjKR48EqMcJqnJVLO5uYr66iR33dTJ7u5aajMJgiCguTZFfXWCZNw2E5IkSZIkSS8UA2FJkXQdXPPKaLuo/3E48xCcfRimBmCiH4aPkchNsLs4AI/9N24COJeD9v2cqt7G347s5NBEFefLTfQWOzl1LkmxkuTBo30A7OluJRmP8crr27ltdzNtDWkSsRjJeEB1OkEQQMpexJIkSZIkSc8LA2FJS+u8Ltpe9DMz+7IDcOo+OHU/9D0U7eu9H4aPsWXoCP+h8o8QloGQbBq+lbiFB8MDPFq6BoAn+ndTrKR4/NQgHyJgU3MNHY1V7Oys5VXXt1OVinPd1gaAS9XDsSAgCF7IG5ckSZIkSVqfDIQlXZnqVtjzatj9/VApR/vCclRFfOo+6H0gCojHeqmpwMuLD/ByHrh0eqUKHkvs4cHgBr5V2stjk7t5eLiVR0+M8ekHzlKVinP9hUD4X9+xhZpMgl1dtTRU239YkiRJkiTp2TIQlnRlggCCCx8d8Vn7N98CndfDzT8NpRyMnYaRk5Afh9MPRdXEZx8iFobcWDrE/uAQ/yqAXAbOVu/iVLCZCWp5LNzFoTO7eHpqB0+eHicWwO7uOhqrUzRWwYt25djX08DWtupVuX1JkiRJkqS1zEBY0nMjkY42oupe6rqiBesqZdj96mjRusJ4tFhduUhy6GmS5x6ntv9xWrNH2BccoQTcGcBE0MRkbQtPBnsokqB/qIfDA9t5rLSVrz41Sm0mQSYZI52Ms7urjl3dtezuriWZiLGltZrajB9tkiRJkiRJizE1kfT8iKeiDaC6eWZ/614IK5Abg+lhmBqGsV4SE/0kJs+ROfYVWitlGHiKXbGjVICJCgwHWxiJtTBdqWJ8qpYztJMNanho5DZOnkjy6fg2CBLUZhJsbqmmvipBY02S7R01dDVVkUrErCqWJEmSJEkbnoGwpBfWxXC4phWIFpqjkI0C4vw47LwzCown+8kMH4NKiereB+jIDsDkCciNQABjMcgFcEv4KEzAeVo4GXaRJ0l+qI0ngk0UEw3cX9MAyXYSsYC2hjQ9LdUQwIt2NFFXlaC1Pm1FsSRJkiRJ2jBMQSStvlRNtNENbXtn9o/1Ri0n+h+HqSGKw2dJFoZgepiG4jQNo710TJy9MPZbjAUlCsBwfjOngy2M52vJZqs4E7ZzvtLISBBnpG4zfeVWek83UYi3UFtVS1dThrqqBFWpOJ2NGdoa0sQC6GyqIliN74ckSZIkSdLzxEBY0tWroSf6tWkbAJMjIzRlgOwAFKdh6GkYPRmNGTlOw3gfVAq0TY+yZ6IfCieicbkRzsahTJoT2es5ziZKRxP0hS30VloYqK4jlaljKtFKQ1Mb7Y01TJYa6Gmtpq0+TTwWsLWtmrqqJDWZODVpPzolSZIkSdLaZKohaW2paoo2gK4b5h4bfjoKgMfOwMAhmBqIWlEMH6c7NwphSM/UMLdPfxPCMuTGGaXA6HQDw7lujgQ7OD3YzjhJjpY38UC5jh3tNUwFtezZtoWm+hpqa+pprW+gOh0nEQ9oqE7SUJ0EoKEmSSywpliSJEmSJF29DIQlrR/NF3oSdxyA3d8/sz8/AUNHovYTfY/D+SegXIChp2mcPEdjucC2coGb89+OAuVKGSqTHE11EI4GHAmu5eDDOzgcVtNfaSGX6aa5oZ5MKsXmjjY2tbcCsLurllJQTSaZJB4PSCdi1GQSpJMx4rGAqlR8Fb4pkiRJkiRJMwyEJa1/6Trovjn6evOL5x4bPha1oJjohzMPwfDRKBTue5SdpRwAu0qP8QOlB6Ccg0qZiTycGtzGRNDAo33X8uXydgC+DBwqbKW1pYPaqhRdjRn2bm6ks7mO6nSS7R1NpBIxCmGSVCJOOhkjFgQk4gHxmJXFkiRJkiTp+WcgLGlja94RbQD7Xjuzv1KC3vsgDOHMI3D6fui9Hyb6qSNkf3gOKv3cFj4JYeXCOWWIw8nJOkayXTAIfU938R02MR7W8PHgGvZvbuLR3G4O9DRyw/YmqtMJtrfV0FqXJgziQABBELWeCGIAhsWSJEmSJOk5YyAsSYuJJaDnJdHXPbdB+IYo8CWE8bNRv+LpMTh1P5z9djTu9ANQyrO1NMFWJgC4MTg897on4hAA5+M89dhWskE9ZwN4IOiht/ZGwsYd1GUSXNvTRqzjRQBcv7WBVCL2wty3JEmSJEla1wyEJWkpsYs9f+NAcmZ/8w5o6Ikqg3fdCaV8tL+UA8JoQbvp0WjfRD+cfQiGjkavK+XodVhgb/nIpUveEHybUu7vYSRJLIiRPJKBRBqAQ+ldXNPWwNnMTkZppKtnB23dOxkL6hhIbGFnZ+3z+m2QJEmSJEnrh4GwJF2pWCLaAFI1C4/XdUG5GH1dLsD+H476EgMQRovchSEMHoLCFADx8bPEzz0OY2eiYaUcnH8SgJ2xs8RHa+iJf5UuIPl0PaTraQigNpaAqmZo3zfz/i17oOsAZBqgrhvqOp/774EkSZIkSVqTDIQl6bmWrJ5TUExN2+LjOvZBuRR9XczC1DAUstHrSgmmRwCIDx6GcpFg9CTJ3ARkz0cL4U2PER/rjSqZ+x+fuW6mEaqbIZ6KAutkNaTrobEnOh7EoXUPtO+FeBIat0YL70mSJEmSpHXPQFiSVkumcdaL1iiYXczkuajVxNRQVDmcn4D8JJSmYXo4qkYeOQFA39gw5ZHjdOX6iYfA1GAUNCeroKopul4Qg9qOqHI4FoeqFkhkoKYlqjZO10HT9pkAGaB5O8SSC6YmSZIkSZLWFgNhSbra1XZEv9Z3L368XITxC60mxnME432UiyejQDg3Sm68l8L0MPWVC2NHexnI9tJ2big6Z/I8FKegqjEKqZPVUY/k+q6Z96jfDPEE1LRfCJcbozHVLdHxeBLqNz0fdy9JkiRJkp5DBsKStNbFk9C0DYCuJoC9cw4XpovksuPUMxQFwsNPMz2Wh/JpCIHxs0xPniFeyJIKgWIOJvrg3Kw2FBerlOu7IVUbBcHNO6C2fc4cBmONtFanIUhAdRPUdl7qs5wPUkwF9TTVpp7v74gkSZIkSVqCgbAkrXP1VUnqq1qAC9W8HfvZMm/MxFieeH6AlnAUcuMw8BSMHJ8ZMHgYJgegcmGxvMIUnPwGFCajPsi5UQCmEjXQtAliqaiCuH1v1IYCqMRgKrWdpoZqCIIL1cVBdL10XdTzGKIK5FRt9HUsPtPqQpIkSZIkPWsGwpIk2hvSwOYLG7D1pQsHDR6aWfRuvA/6n4Dx3mjf4GEIQ7bkJ4jKjkMYfArOPBhVJQNV5SKbilPR+UEcOq+L+hlD1LM40xB9XdM20784kYb2fTNzSNVALDFzLJ6Ovo7FL1UiA1HAfPHakiRJkiTpEgNhSdLKtO6Z+bob2PuauccrZTj7EISV6PXA4eh19nz0emoYBo9cGBzO7AcYOxWdXylFG0TXKeejfPmijv0z1cP1m2f6Fqdro2OX5ndjFBhDtBjexRA5Fo/aW8yWyHCpUvmiWGLhOEmSJEmS1gEDYUnScyMWh80vnnndcyvc/FOLj62Uofe+mfD43JOQHeLc5DilsdNsKg9TKIzz9PkRri2egrAcjRs+Fv0aVuDstyGclRaHzIybrWUn1F1YIK+6BdqunXu858WQzMzdV9cVnTdbEF947SAWtb94JuMkSZIkSVoFBsKSpBdeLA49t8287rkNCGkPwwshb0iKkD0hVCplHjo1RiUMORA7RHVY5ORwloEzR4mNnQKgLhxnV/4wj/SPAXBj6fBMZfHwsVn9kAM49A8L57JAMLflRCweBdzzxzZsibaLkpkoYJ5vdigtSZIkSdIqMhCWJK2OOeFq9PX8GtqLkex126P+wMmgDcKQTVtDOq4rElxY5C5GBcIi15aiiuOD/cMULnwdjByH7DkGs0UmRwe4hpPkSyEH+6N+xteF3yHN9Jz3baucoH1+sfHxry2s8o0lZtpRQBQiX2xVMVs8CcGscbNaXDQVCpC6sKBey65Li/BR2w7N2+deu/vmJQJsSZIkSZJWxkBYknTVSycvRsNRa4cEi+euF3dtq+m61E0iLO2EcpEt5QrlUpEqclRC2FSIEt9apjg+mGWqMJMAn81OMTQ6zlShzLHBKWJU2Jc4QYwKxwamyF4Y2xGO0FkeunReiiLXFp9YMK9N5ZNUV2btiMVh5MSFCYYzQXOyKup5DBBPzWtlEVxYLO/C2KbtUNU46+YboHnHhaGxaNG+2Kwq54aeaME+SZIkSdKGZiAsSVp3atKzf3urW3RM/ayvt7eWKJVnEtt8scJUvkSpEnLDdAkIqY9PEgQhO6dnxk5lJ8hmJwCYLlY4NjjJcGwSgOODUxQujJucGCM3nb10/aogz9Zy/4I5ba6cp55oXCOjdFWOXzoWo8SW0sw16H8CEqmZ1/EUpC/eVQDVzXMrmlO1UeB8UbJqJkC+qGk7JKtnXlc1Q0P3gnkuUNMGtR2XHydJkiRJWnUGwpKkDa+uaiW/HTYv2JPNl8jmomrhYqnC8GTh0rHtkwXKlahMeXy6xPSFquKpfImh8Sw1iXEA8vkcA5MhxXKFfHySyWyWiekiVbE8DUGWXKnC2dFpAqA9MUJwoTlyZ2WYmuJMq4ua4jRdufMABIRsH3mAGMVLx1srkJpdpRxPQU3r3Buqbo32X5SqnluFvJRU3awwehENm+eG0Utp3Ba111hMMgONW+bua+hZ2XUlSZIkSZcYCEuS9AzVpBNzqpE3tVw+nMwVygzNCo7HxsbIVdKULoTHo9ki2Xzp0vFCqULHWH7ONQbG80wEIxSDmf2jpWnOTEWBMGHItyZOAzMJcDA9TJCfuPQ6FRTpzA3OuW5HbpB0OHXpdS39NFdOX/aeGsJ5YfN8dZ2QyCwz4IL6TTMtM+ZLpKB+XrVybefcthqpWqhumXkdBFDfM7d1RnXz3PA6kYK6FVRBS5IkSdI6YSAsSdILKJOKs6l5JjiuDnI0NTVd0TX6RnLki3NXvZvKlzl/ITgOw5DeoWkqFxspA8MTBcanZ4LmMMwxVDg75xoj8SFy01lyF66dLE6QLgwseP/BWdXPAE1M0Hyh4nkxLflRUvnCkscvapvsIzGrqnm2ZJijNfynOfsaKkA4a0emYV7riiBamC+YtRBfbRtUzfp+J9ILK4+rWyE+q0l1qjq69uzr1nVGvZqXE4vbSkOSJEnSVcdAWJKkNaarafFq2309K79Grlimd3D3gv19w9NM5qLgeGyqeClknm1wYIpCaaYk+ByQL0V9l+cbyxZpTp2jKshdeN/KnAX8LhqdKrI1cZY0C68BkAnybI/3zdm3Nd5HNTNtM9KVPLVjk5deB4Q0jd5DMOuaNWGOzKwQOcEi1c1N2yFVM/O6qhHqNs28DgJo2wOxy/wxKp6A1j2XGZOaFzYvIZGOKqCXkq5ffKXFIBZVRUuSJEnSBQbCkiRtQJlknF1dCwPGxfatxEi2QN9IbsH+o32TFIrbLr0enMgzMDa3Wjgk5NDZCbKV67i4bF6+WLm0KN9Fh6LBZPMlZhU/ky9WKJYrVCcm6EjNVDQHQE/4NLFZrTM2xQZoDUYvva4ix+7w6TnvUz05RjwcvvQ6xZNkwrlzqQuj6y8nAOLLtdIAyNRD887LDCIKdRu2LH28eVu0COB88SR0HFi4P5mZWwUNUdCdWmQRxmRmbm9piILm9OILNkqSJEm6uhkIS5KkZ62pJkVTTWrB/n2bl1lsbhlnhqcZHF9YnRwCB0+NUy7PJMJnR6YZHC8A7cA1s8aGHOy9dk57i0eAcjmkVFk8qS0UK3RlTlMbj3oplyohDYyyLX7u0piAkBuCw5TLRcLZyfQ8KUpcX/n6svcZL46TOvfQsmMA4kBy6bciGcKSDSwWO69xa9T2Ys6bpKDrpoVjm7ZAXde8sUnYdPPCsbHkpcrp+OQYxGcquElk5qbos8YukMxw+chdkiRJ0jNhICxJkq46m5qr5vRanu3GbY3P6tp9IznODE8veuzgyTGmZ1U094/kOTsyzbF5454Gnjg1Rm6R9hchUFkmvA3D8FKFcyYxyTWZUwBzguu546ElNsrO+Jklr7kndorWcJjKvPQ3RZHvKj6+YHxs7CSMnVx4oZOLBNjL3MsCzTuixQGB+lIJErP+qLn51ihIvjR2OzRuXvw6PbfNHQtAsHjf5lh84b4gYMmIPBbDsFmSJEkbmYGwJEnaUDobM7Q3LNJvF7hhW8OcADQKdxdPRJcoMmZsqsiRvokl3793cJpzo1F7jYAQ2EexXOGxk2OLju8fzXFweIqvL5PMXtNRTTZf4tzY3LYdARCwcKKd6XN0Jobm7EsFJV6UODRn3y5O0hYuXFgwSYH9xRMLJzJyAkYvBM0hc3PX3vvnjg1iF4LbRQSLhLwNm6MQeb7Nt0bVxrM1LjEWoPvmuT2iJUmSpA3GQFiSJG0oQQDxJYLI+HNQOZpJxWiuXdg+46Kbd1QWVAOHIXMW6putVKlQKi8eBh86M0GuWCYZjxGGzGmFkSuUOXxmcsE5pwanGJtuo8zc6uZcEHJ/8FIO9o5fuk4iKBMLFlZBB0AqKC7Y350coD02PDNolhvjR0nMes8e+ugI5y4UeNH+4omFlclDR2fC5jk3dN/CfbHEIhXGFyTSLFo9nGmA9r2LnwPQ0AN13Ysf23TTwj7Ll65bD23XLn1dSZIk6QVmICxJkvQcigUB6eTSwXI6uWS33yvWWpdesoK5XAl52bULw9x8sUxxiYAZIJsrLVqLPJotcHZ44cKBF50ZmmYylyURlAAo5POEsQTHzkVLBX4j/tILFdFRj+ipXJbUhbHz1cSmL429qJVRusKhBWP3l4/PCZoB2spDdBdOLXrtXaXji7fBiCVg+OlFDlyQSC9ciO+idN3S1c6xxOUrkmvaoWHT8mPmS9VBywoWJLw4v9YVjgVIVEG7IbYkSdJ6ZSAsSZK0RlWnF2mtMEtD9RJVss9AoVQhm1s8wAXI5ssUijPB7Nj4ODW1dUxMLzwnmy9RKFbmnLtYX+czQ9NM5aPzJ6ezHMmOLxhz71A/lXn9OzKxAlXB4uF1QyxLIrYwKK8JcvSUzy1yRqSjMkwLi7f12DX1JIlw4SKIADXhGG0L326uZNWVt7GIJaOq5pWIX8FYiELsqqalj1e3LFyUcL66TVC1SL/vWALa9iwdoEP0vWhaouWHJEmSnjUDYUmSJF1WKhEjtUwrjKbaua9H0kWamupWdO1CqcJodmELitFsgfyF4HiqUF40kB4Yzy9YxG98qsjwZOHS63IlpHdgasG5I9ki41PR+8ZjRfoSc3s/nxmZvtTKoyY2TXVs8ZC5LT5CPFi85UeKEs2JhUH2RS3BOI3BBCy8/WVVk6M7v3SAPVtVOM2m8J4VXzsVQutyIXaq5vIBc6YRktUL9wexKExerjtLPA3VrSuZahSmNyyxOOHlNG2PAuor0bCJRK4M5fq5++MpaNr2zOYhSZL0AjMQliRJ0qpKJWKLLvS31OJ/lzOZKzE2NZOwlish/SMLw9yxqSKTy1Q9nx/LU1ykt3O+WGFwYvGK4IvXvVgZXQAmgUolpH904RwyiSw18SxT+TLD2cKC40tJB0VaE6MrGpsJCrTHRlZ87URQpju5sD3HRXVkacotHXIDNOdGqQ0X9rCOUWFz3wPLnpsB6i5XVX1RInP5auWl1G++8kC4tp26MA7pec9mLLF4MF3dAqnahfuDWNSXen6ldFVjFKYvpuEZzFeSJGkR/olCkiRJ60ptJkFtZu4fc7e0LlKt+gxNF8qcWyTcvWhkssDY1NyguVwJOT00tWj7YoBsrszA+NIhM0RB98UWGksZzRbntOMAmAZOApUwZHDi8qFzqVSZU2E9XyaepSG5ePuMi1rjY9TFFlZlx4IK2+L9C3pEz7k+eTbFBy87T4AUBVqyKwvG52ufPEOc5b+f8zWFXyGzyNTjQO1iIXZtx+LV1EEMmnYsDIRrWqIQedE33w7xeX99S9YsHSADVDdFofliLlZrL1euHU9BzQqrtSVJ0pphICxJkiRdgapUnG3tS/f8Xe7YszE4kWdkcvneErP7Ls9XroQcPz9FuMRChBcVShVOLtJiY75SucLEMhXWF2daKFbIzppT/xLjc8UK0/mVlQbnimWmC2USsTyd6ZW1zphvR/IsSVZaihzZHD+/aNCdosg18d4F+2sKWTL5hT88CCjTPPIVYG54Xx3mqFriP0/1Yl1JqpuhrnvpCTf0QLp+8WOxGLTtjYLhpaSql+/nnKpZvDXIYpLVUYuPK5FILz3/pcRiUNV8ZedIkrTBGAhLkiRJa0BrXZrWuuXbaOzqWqQ9wfMkmy+tKDgezxY5PbRw0cD5hicLnBtdvkp6Zmx+VguOjiXH5UuVS32g5zvLvjmvC8Wlx150MITpfIny8sOAqJK8PjFAwyI9pONUuDZ5iiCYm/52xoboCIYXvd614RFSzK3cThZzZIYWBtEXVQ89QWKJgDkAasPLtHMOIVju5wd1XdG2EnWdUHuF7T2qGqF5x5Wdk0hB+/4rO2c58eTKQ+8ruWZiBeF4Ih1tl5Osiqq5JUlaIQNhSZIkSVesJp1g3+YrrN58gfWP5pZt7zFn7EhuRYH002dHyBaXqaq94Pj5LOPTVYvWIJeBR7meQrFCOLt9xjLha75YYX5xd11qlO7keSohFBZJqa9JnKUxmKRUCSnNOx4PKtwQHCbG0ul2LVPsrdy/5PHkVB+Jqb6lJz1Lov/K//IZhyUD7WU9k3OWUtUErbufwwsCNe3LV15f1NAdVXlfTtM2qFv6ByNAtFjjMtXg8ckxiE9HAfT8ViZXKog/dwF1PGnvbEl6HvjJKkmSJGld6mzM0Nm4RA/deW7YtrJrjozU09TU9MwnNcvjJ8fIX6Yq+dLYE6NLjp3MlTh8duEifsMXtjPD0/RNLKzS/hugEi6Tn4YhlUUOVsKQMITm9ABdyYFFj8+/6KbEID2x80u906Kag3H28PQVnZMJ89xcOnhF5ywlAILcCJxeOhRf2YViLKzFDiFc5L/n7LHhEmMgCl0DouOXaQMDQOf1i/ezvqC+VIJEArpfdOWtPearbobO56hKu/kaqF+iLUoQX/q8IFg6AF/0v8cssWWuK0nrhIGwJEmSJK2C/T31Ky5mvWFbw5LJbciFEHYJYbh0Zvj4qTHyxcV7KU/mSjx1emLB/qf7s4xOFQhoAK6Zc6wSwqMnRqnMS5KfDMJlFxNcYuYL2mpcTgAEy1Q9X4mm5AhbUyurgF7Ovq466uYtdBlMDxMMPrlwbEct9ZkokAxGTxCMLh6I39BRT5CogoHvQHYFizCee2L5yt+Q6JvXex/LNxJZgeXC2Cu+1hLhbRBAz61RBfFiMk1Ltw5p3wu1bUu94fLXlaR1wkBYkiRJklZBLLby4C3+bEO6Jdy0vXHJsLgShnz33tYF+4ulyqKVwxDlioViednodypf5kjfwqB5vvGpIifOLd2n+vTwNMMThSWPX3RiIMvY1PILMi5mIN/BULHlis+b74njMWLzwtgw3ESlsmfB2FQ2dum5CCslwnDxeadOxYkFEJYLS1YRBwEc6KknHgtg+CkoLOxnDZCKx9jbUU0iESd27jEoLWyz0pBJcE3rCvoZA43hMD2lFYTUlzN0FKaGlj5+4p6lQ+4gBoc/t/ixeGr5KuBEhiVD8apGaFv43+3yAui66cqD5va9y1Z2X7Humw27JQEGwpIkSZK0YaUSy1dyVqWe+38+X66EbG65fFuCUjlkurB49TJAvlimWL58BXGuUKa0VIJ9GRPTRXoHL78o4nJOnM8ylV/6PuaMHcgyvYKxR/snL7sIIsD9pxIEARRL+wjD0qJjYkHAN3MxgiCgXNqyaMCcmAqomlzZsxAPymRil+/H3VSTZFPTMs9ByzQ0FWmrTdFRPz+MDokNPAGz7qmrPk1LdRRxBPlxYsOHF71sMHqUYHqAtuqQxppNC65L/+NQWfx7RSwRBdXPxLGvXnl/5lT1c9tDOV3/7HtEL+clb4Ldd0FV8/P3HpKeEwbCkiRJkqQXTDwWUJtZ2V9FG2tWt5qxWKpw3ZYlwsEVmpguLVjUb8mxuRKlFYTcY1PFBW055guBY+eylC8zrlSucKh3lFRq6e91Nl+mb2RlCzRmcyVOjFw+RE9NxHhqZLnnIOrVnUnFFvxgIgyhWEgTzmoPUj0QJ528MK5SICwu3jIiLExAOU8VcapK80PukCAYgdjMddvr0jRdfA4LkwRjJy97bxdlkjG2NUehd2zwO1BZ2Q8GdrYkScRCgpHDUBhb8fsBtNdUUZ1ZWNkPwOkHlw67nwv7fwTKVwQWya0AAA+tSURBVF6NL+mFZyAsSZIkSdIikokYTbWpZ3WNZ3v+MxUCg+P5y645V66EHD9TRV1d3ZJjCqXKittu5IsVRlcwdnK6yOAKWn6MZYuMTC42rnrOq+HJAhPTs8LOYIl2HxeKjfumioyMXP79awsJqiej6KRczlEs7LrsORclYjFawlS0QOP0vqUXCZynfSIdFfIWhwgql6+2nq2umKR6iQX3gvg5iM0NpRurkjTXXPkzmkoEbG6Yu2jnjd130JRe+jmSdPUwEJYkSZIkaZ0JgLYFrRYWl6GGpqbnsFftCmTzJUazlw+OJ6ZLjK8gYB7LFpnMr7z6dcXXnSoymZt93fltJpZWKFU4P3Yh0G3sWfF5p0dy0UKRwa4rTm3GxufPd3m1uQQN+SuvxE/GY7SV5j5f/2Z6O7dU0vOieklXIwNhSZIkSZL0gqpJJ6hJX/2RxPBkYUXB8WIKpQpnh1fWamNGSO/gNOXLlXYvYWSywNjUygPhqXzpigLki0rlcMGijufGckwVSlSnn/ve45KeW1f/p68kSZIkSdIqaK5N0fws2n7s7r66WyiMZAsMjl++dcZ8+WKZUwNTc/Ztaqm67EKVkq4OBsKSJEmSJEkbUFNNiqZn0EMY4MCWF7bNiKTnjj+6kSRJkiRJkqQNwkBYkiRJkiRJkjYIA2FJkiRJkiRJ2iAMhCVJkiRJkiRpgzAQliRJkiRJkqQNwkBYkiRJkiRJkjYIA2FJkiRJkiRJ2iAMhCVJkiRJkiRpgzAQliRJkiRJkqQNwkBYkiRJkiRJkjYIA2FJkiRJkiRJ2iAMhCVJkiRJkiRpgzAQliRJkiRJkqQNwkBYkiRJkiRJkjYIA2FJkiRJkiRJ2iAMhCVJkiRJkiRpgzAQliRJkiRJkqQNwkBYkiRJkiRJkjYIA2FJkiRJkiRJ2iAMhCVJkiRJkiRpgzAQliRJkiRJkqQNYm0HwmMPc/d7fpQffelv8IXVnoskSZIkSZIkXeXWbiDc92ne+eY/4cSeAzRXVnsykiRJkiRJknT1W7uBcNV+3vg7v8+vvLKZVLjak5EkSZIkSZKkq9/aDYQbd7GzdbUnIUmSJEmSJElrR2K1J/B8GRkZWe0prKqNfv9av3y2tR75XGu98tnWeuWzrfXI51rr1Qv5bDc1Nb1g7yU9G+s2EN7o/xNu9PvX+jQyMuKzrXXH51rrlc+21iufba1HPtdar3y2pcWt3ZYRkiRJkiRJkqQrYiAsSZIkSZIkSRvEmm0Zcebun+ONf3yaAkA9fODOO/lttnDXRz7O2/as9uwkSZIkSZIk6eqzZgPhTT/+p3z2x1d7FpIkSZIkSZK0dqzZQFiSJEmSJEmrqxyWOTF1mpHiGLWJGroz7dQn6lZ7WpKWYSAsSZIkSZKkK1YJQ745/BB/1fcPfGfiKFuqunll60t5Wcst9FR1rfb0JC3BQFiSJEmSJElXpBJWGCqM8KMP/gID+eFL+z915u/5pZ1v4D/teSsBwSrOUNJSYqs9AUmSJEmSJK0tuUqeT57+W3Ll/Jz9E6UsQ4URcuXcKs1M0uUYCEuSJEmSJOmKlMMKvdNnKVNZcKxYKZGvFFZhVpJWwkBYkiRJkiRJVyQdS/GDnd9LOpZacKwqnqEuUbsKs5K0EgbCkiRJkiRJuiLJWIIXNV7H97XdTl2i5tL+H+q8kx/p+n7iQXwVZydpOS4qJ0mSJEmSpCsSEFCbqObdu97E6ze/lulyjngQ55qareyq2b7a05O0DANhSZIkSZIkPSM3NFzL9fV7KVMmRoxY4D9Gl652BsKSJEmSJEl6xoIgIGHEJK0Z/thGkiRJkiRJkjYIA2FJkiRJkiRJ2iAMhCVJkiRJkiRpgzAQliRJkiRJkqQNwkBYkiRJkiRJkjYIA2FJkiRJkiRJ2iAMhCVJkiRJkiRpgzAQliRJkiRJkqQNwkBYkiRJkiRJkjYIA2FJkiRJkiRJ2iAMhCVJkiRJkiRpgzAQliRJkiRJkqQNwkBYkiRJkiRJkjYIA2FJkiRJkiRJ2iAMhCVJkiRJkiRpgzAQliRJkiRJkqQNIgjDMFztSUiSJEmSJEmSnn9WCEuSJEmSJEnSBmEgLEmSJEmSJEkbhIGwJEmSJEmSJG0QBsKSJEmSJEmStEEkVnsCeu70fv2D/N7/93WeHAqob7mJH/zVX+FfH6he7WlJz8rAZ97I6z9yfM6++q3v4I8+9mraVmlO0jM29jB3v/+9fPIrN/Dv7/117px1yM9wrWWTR+7mt9/3cR4L3jrn89nPcK1lk0f/nA/+9qd54OQUsXgXN7/8Tbz5l2+mDQhzB/mr3/wQdz92hmy5hV0vfQNv/tU7uGa1Jy1dRqVykm/83u/yx185xHA+Tc32W/jJt76TH9qToMh9/MFr3sNnC/FL44N4M3e991O848WrOGlpBQpnv8gf/c6f8OUnR8kna7lmz+v5hf/0wxyohQpDPPLx9/EH//QE/eNpOvffxRve/e+4rWW1Zy2tHgPh9eLUR/mt/3qKa3/nk3xgf4Lz9/x33v2u36L7//w631Oz2pOTnrnsUJbWm97PJz9w82pPRXp2+j7NO9/1JdpedYDmf553zM9wrWGjX/91fuVP09xyfQePPTH3mJ/hWqvKxS/woTd/hsobf4u//JHtZM7+A+9/82/w2//4l/zmXSUe/G+/xudK7+BDn7qDrspB/uevvIsPfaiH33/b9tWeurSsU594Dx98+Hbe/fEPcWvLBE/+4dv4j7/2Z+z8q59jNxNMje7m3/zVH/Evu1Z7ptLKlTjMJ9/9AQ5d/z7++IM30zp9mL/+lTfxgfft5H/81wOM/eOv85tf2M0vffS3uKVliEc//FY+8K6tbP7Yq9m82pOXVoktI9aJE1/8BgN7X8/P768mIEXry36W13Q/yOe/Pr3aU5OeldJ4gZqa2tWehvTsVe3njb/z+/zKK5tJhXMP+RmutSy19Sf5jT96Dz+8Pb3gmJ/hWqvi2W5e/qb/yBt/ZDv1QLL7e/meXZOMPNVPpXgfn72/k+/5hTvoTkGQ2c9P/tQBzt/7eZ5c7YlLywgpEL/+p3jne36a21ogoI79r3kRnb2nOFGGWDZLNqylqmG1ZypdmRh1vOinfp03vyX6VxxB1W5ue/lmsv29jNLH/X93iK0/9jPc1gIxWrjh376O7U99jnv6Vnvm0uqxQngdCCnQe7KPpht7uPhXsRjd9HRP8U9P9cNdVipo7ZrMTjB+5hO89SePcGqwSN2223nd29/KD+3x40trTOMudgL0zt3tZ7jWuuotu6gGBhY55me41qzG/dz+gzMvK4X7uPepTnb/+BbifZ/jfLGLO2aVlcW3bqHldC8nyrAvvvBy0tUgIEXPd91Fz6x9Z+5/kJHrfoLr4xBMTDBe1c+X//sv8L8P9lKMd7H/FW/irf/hZtv86KoWo4sD3ztT1p4f/Bp//cUJtvzA9TTTx7EzjXRvm/lJR7lmC5tb+uh9GrAaXhuUFcLrQp7ieIxkKnVpT0CKVCpFeay4ivOSnr3MzS/n1pu+hzd++C/4m7//OG+78Un+9K0f5p7Sas9Meq74Ga71y89wrQeV/MP82Ts+TO93v5s3vCgOxQlKxVqSs36uEaZaqA7yTI+t3jylKxFSoPef383/+6lt/OR7o382HyS2sv/7vos7XvNe/uxv/oE/++CPkf7Ke/gvf3FmtacrrUi59Fn+0/e9iv/nX/wuh7rfwi/96CZCJihMp4jVz4wLSJOsGmcyt3pzlVab5RnrQppkfYVioXBpT0iBQqFAvCm5ivOSnr29r343ey+9auH6f/fTvOgzH+GBh+FlLm6hdcHPcK1ffoZrrSue+Azve/f/YeqHPsh/+1dR+wiSdSSLAxRLXPrbVFAYYipM+0/ttSZUGOLRP/w1PnzfPv7N772F2y9WSLbewb971x2XxqW3/QA//y/u5i2ff4yB12+ySlhXvXjiNfyXf3oNhdEjfP13/iPvfju8/3frSVUVKI/PjAvJU5yupzazenOVVpsVwutAQIqerV2MPNJL/sK+Mif4zvEaOvd0rurcpGcjpMC5o9/h5MTc/UGYJuFv3lon/AzXeuVnuNa6wsk/5/991+eoeusf8JsXw2Cg3LWLTY0neer0zNjpw6cY7trJNttF6CpXYYgHf+ttfOTga/nVj72F27tnHZw6yVOHz1368whAbDxPUEmysEu8dPUIpw/ztc9+i6cvvE417uJVP3Mb6W9+mSfYyrXdI5w9MfNPOOLZUxwb7mLHvtWZr3Q1MBBeJ7b+wF20Hvqf/MnBKUIK9P3zn/LFgZfy/XdUrfbUpGcsZIJH/uCX+bX//EWOF6M/wD71J5/ksfQtvGLv5c+X1go/w7Ue+RmutaxSuI+PvvNzNL3td/nl2xrnHIslb+POO4b55u9/kbOFqKXEn//5QZp/8PswW9DV7uzfvpuPPvY63vORV7N33j9Eyvd/ivf/wn/mjx4eBaBw9h/4H/88ybZXv5j6Ra4lXS0q8X6+9tH38gd/eZxxgNIQ9//1txnZto9raOaWH7ueE3/9Me4buvBDkT/8C05f/0Pc0bzaM5dWTxCGYXj5YVoLzj3wW3zw9+7hyaGAuu5bed3b38rrDlSv9rSkZyUcv59P/OYf8vlHzjNBiuZdr+Rn3/GLvGqbHW+0tpy5++d44x+fpjBrX5wt3PWRj/O2PX6Ga22qMMQX3vEv+ODjwZz9tfG7ePs//hK3+xmuNar0wK/y2l/79pzPbID6/e/lLz50G6ncQf7uv3+IP3/8DNlyC/tf8Sbe8o7b2Lzo1aSrQ4nD/O+f/QX+/Mzcz+BEZSc/+PE/5Be3FTj2pd/mw5+4j6NDRTJVW7n+tb/IO376OgNhXfUmj9zNRz74ae7vHaEQpuja9Upe//a38Mrt0Z9XHvn4+/jo3z7BWero3nkXb3rPz3NTy2rPWlo9BsKSJEmSJEmStEHYMkKSJEmSJEmSNggDYUmSJEmSJEnaIAyEJUmSJEmSJGmDMBCWJEmSJEmSpA3CQFiSJEmSJEmSNggDYUmSJEmSJEnaIAyEJUmSJEmSJGmDMBCWJEmSJEmSpA3CQFiSJEmSJEmSNggDYUmSJEmSJEnaIAyEJUmSJEmSJGmDMBCWJEmSJEmSpA3CQFiSJEmSJEmSNggDYUmSJEmSJEnaIAyEJUmSJEmSJGmDMBCWJEmSJEmSpA3CQFiSJEmSJEmSNggDYUmSJEmSJEnaIAyEJUmSJEmSJGmDMBCWJEmSJEmSpA3CQFiSJEmSJEmSNggDYUnS/9+OHQgAAAAACPK3HuTCCAAAAJgQwgAAAAAAE0IYAAAAAGBCCAMAAAAATAhhAAAAAIAJIQwAAAAAMBFcVwtABqE9vgAAAABJRU5ErkJggg==)"
      ]
    },
    {
      "cell_type": "markdown",
      "metadata": {
        "id": "qqEVf1a26CL9"
      },
      "source": [
        "### Métricas obtenidas\n",
        "\n",
        "*Loss:*\n",
        "* train_loss: 1.156\n",
        "* test_loss: 0.949\n",
        "* validation_loss: 1.17\n",
        "\n",
        "*Accuracy:*\n",
        "* train_bacc: 0.726\n",
        "* test_bacc: 0.79\n",
        "* validation_bacc: 0.724\n",
        "\n"
      ]
    },
    {
      "cell_type": "markdown",
      "metadata": {
        "id": "6tmpPCJx9L15"
      },
      "source": [
        "# Conclusión final\n",
        "\n",
        "Al comparar los tres modelos vemos que el **tercero** alcanza mejores métricas de *accuracy* (*0.79*, la más alta) y *loss* (*0.949*, la más baja).\n",
        "\n",
        "Creemos que las mejoras pueden deberse a una mayor cantidad de *épocas* (30), combinada con una *tasa de aprendizaje* (1e-3) y una *weight_decay* (1e-4) más altas, en relación a los otros dos modelos.\n",
        "\n",
        "Comparando los gráficos, vemos que las pendientes de las curvas de loss (bajando) y de accuracy (subiendo) en los primeros dos modelos son más pronunciadas, mientras que en el tercero se achatan o llegan a una especie de saturación, interpretando así que llegamos a una cantidad de épocas óptima, luego de la cual el modelo no aprendería mucho más.\n",
        "\n",
        "A su vez, concluimos que en el tercer modelo la mejora en las métricas obtenida se consiguió aumentando la tasa de aprendizaje, sin caer en el problema de la divergencia."
      ]
    }
  ]
}